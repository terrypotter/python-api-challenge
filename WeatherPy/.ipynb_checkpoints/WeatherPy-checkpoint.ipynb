{
 "cells": [
  {
   "cell_type": "markdown",
   "metadata": {},
   "source": [
    "# WeatherPy\n",
    "----\n",
    "\n",
    "#### Note\n",
    "* Instructions have been included for each segment. You do not have to follow them exactly, but they are included to help you think through the steps."
   ]
  },
  {
   "cell_type": "code",
   "execution_count": 1,
   "metadata": {
    "scrolled": true
   },
   "outputs": [],
   "source": [
    "# Dependencies and Setup\n",
    "import matplotlib.pyplot as plt\n",
    "import pandas as pd\n",
    "import numpy as np\n",
    "import requests\n",
    "import time\n",
    "from scipy.stats import linregress\n",
    "\n",
    "# Import API key\n",
    "from api_keys import weather_api_key\n",
    "\n",
    "# Incorporated citipy to determine city based on latitude and longitude\n",
    "from citipy import citipy\n",
    "\n",
    "# Output File (CSV)\n",
    "output_data_file = \"output_data/cities.csv\"\n",
    "\n",
    "# Range of latitudes and longitudes\n",
    "lat_range = (-90, 90)\n",
    "lng_range = (-180, 180)"
   ]
  },
  {
   "cell_type": "markdown",
   "metadata": {},
   "source": [
    "## Generate Cities List"
   ]
  },
  {
   "cell_type": "code",
   "execution_count": 2,
   "metadata": {},
   "outputs": [
    {
     "data": {
      "text/plain": [
       "619"
      ]
     },
     "execution_count": 2,
     "metadata": {},
     "output_type": "execute_result"
    }
   ],
   "source": [
    "# List for holding lat_lngs and cities\n",
    "lat_lngs = []\n",
    "cities = []\n",
    "\n",
    "# Create a set of random lat and lng combinations\n",
    "lats = np.random.uniform(low=-90.000, high=90.000, size=1500)\n",
    "lngs = np.random.uniform(low=-180.000, high=180.000, size=1500)\n",
    "lat_lngs = zip(lats, lngs)\n",
    "\n",
    "# Identify nearest city for each lat, lng combination\n",
    "for lat_lng in lat_lngs:\n",
    "    city = citipy.nearest_city(lat_lng[0], lat_lng[1]).city_name\n",
    "    \n",
    "    # If the city is unique, then add it to a our cities list\n",
    "    if city not in cities:\n",
    "        cities.append(city)\n",
    "\n",
    "# Print the city count to confirm sufficient count\n",
    "len(cities)"
   ]
  },
  {
   "cell_type": "code",
   "execution_count": 3,
   "metadata": {},
   "outputs": [
    {
     "data": {
      "text/html": [
       "<div>\n",
       "<style scoped>\n",
       "    .dataframe tbody tr th:only-of-type {\n",
       "        vertical-align: middle;\n",
       "    }\n",
       "\n",
       "    .dataframe tbody tr th {\n",
       "        vertical-align: top;\n",
       "    }\n",
       "\n",
       "    .dataframe thead th {\n",
       "        text-align: right;\n",
       "    }\n",
       "</style>\n",
       "<table border=\"1\" class=\"dataframe\">\n",
       "  <thead>\n",
       "    <tr style=\"text-align: right;\">\n",
       "      <th></th>\n",
       "      <th>City</th>\n",
       "    </tr>\n",
       "  </thead>\n",
       "  <tbody>\n",
       "    <tr>\n",
       "      <td>0</td>\n",
       "      <td>tuktoyaktuk</td>\n",
       "    </tr>\n",
       "    <tr>\n",
       "      <td>1</td>\n",
       "      <td>port hardy</td>\n",
       "    </tr>\n",
       "    <tr>\n",
       "      <td>2</td>\n",
       "      <td>katsuura</td>\n",
       "    </tr>\n",
       "    <tr>\n",
       "      <td>3</td>\n",
       "      <td>lagoa</td>\n",
       "    </tr>\n",
       "    <tr>\n",
       "      <td>4</td>\n",
       "      <td>kodiak</td>\n",
       "    </tr>\n",
       "    <tr>\n",
       "      <td>...</td>\n",
       "      <td>...</td>\n",
       "    </tr>\n",
       "    <tr>\n",
       "      <td>614</td>\n",
       "      <td>my tho</td>\n",
       "    </tr>\n",
       "    <tr>\n",
       "      <td>615</td>\n",
       "      <td>hengelo</td>\n",
       "    </tr>\n",
       "    <tr>\n",
       "      <td>616</td>\n",
       "      <td>pangoa</td>\n",
       "    </tr>\n",
       "    <tr>\n",
       "      <td>617</td>\n",
       "      <td>reefton</td>\n",
       "    </tr>\n",
       "    <tr>\n",
       "      <td>618</td>\n",
       "      <td>sa kaeo</td>\n",
       "    </tr>\n",
       "  </tbody>\n",
       "</table>\n",
       "<p>619 rows × 1 columns</p>\n",
       "</div>"
      ],
      "text/plain": [
       "            City\n",
       "0    tuktoyaktuk\n",
       "1     port hardy\n",
       "2       katsuura\n",
       "3          lagoa\n",
       "4         kodiak\n",
       "..           ...\n",
       "614       my tho\n",
       "615      hengelo\n",
       "616       pangoa\n",
       "617      reefton\n",
       "618      sa kaeo\n",
       "\n",
       "[619 rows x 1 columns]"
      ]
     },
     "execution_count": 3,
     "metadata": {},
     "output_type": "execute_result"
    }
   ],
   "source": [
    "# Create a dataframe from cities list\n",
    "cities_df = pd.DataFrame(cities, columns =['City'])                                           \n",
    "cities_df "
   ]
  },
  {
   "cell_type": "markdown",
   "metadata": {},
   "source": [
    "### Perform API Calls\n",
    "* Perform a weather check on each city using a series of successive API calls.\n",
    "* Include a print log of each city as it'sbeing processed (with the city number and city name).\n"
   ]
  },
  {
   "cell_type": "code",
   "execution_count": 4,
   "metadata": {},
   "outputs": [
    {
     "name": "stdout",
     "output_type": "stream",
     "text": [
      "Now retrieving city #0: tuktoyaktuk\n"
     ]
    },
    {
     "name": "stderr",
     "output_type": "stream",
     "text": [
      "C:\\ProgramData\\Anaconda3\\lib\\site-packages\\ipykernel_launcher.py:48: FutureWarning: set_value is deprecated and will be removed in a future release. Please use .at[] or .iat[] accessors instead\n",
      "C:\\ProgramData\\Anaconda3\\lib\\site-packages\\ipykernel_launcher.py:49: FutureWarning: set_value is deprecated and will be removed in a future release. Please use .at[] or .iat[] accessors instead\n",
      "C:\\ProgramData\\Anaconda3\\lib\\site-packages\\ipykernel_launcher.py:50: FutureWarning: set_value is deprecated and will be removed in a future release. Please use .at[] or .iat[] accessors instead\n",
      "C:\\ProgramData\\Anaconda3\\lib\\site-packages\\ipykernel_launcher.py:51: FutureWarning: set_value is deprecated and will be removed in a future release. Please use .at[] or .iat[] accessors instead\n",
      "C:\\ProgramData\\Anaconda3\\lib\\site-packages\\ipykernel_launcher.py:52: FutureWarning: set_value is deprecated and will be removed in a future release. Please use .at[] or .iat[] accessors instead\n",
      "C:\\ProgramData\\Anaconda3\\lib\\site-packages\\ipykernel_launcher.py:53: FutureWarning: set_value is deprecated and will be removed in a future release. Please use .at[] or .iat[] accessors instead\n",
      "C:\\ProgramData\\Anaconda3\\lib\\site-packages\\ipykernel_launcher.py:54: FutureWarning: set_value is deprecated and will be removed in a future release. Please use .at[] or .iat[] accessors instead\n",
      "C:\\ProgramData\\Anaconda3\\lib\\site-packages\\ipykernel_launcher.py:55: FutureWarning: set_value is deprecated and will be removed in a future release. Please use .at[] or .iat[] accessors instead\n"
     ]
    },
    {
     "name": "stdout",
     "output_type": "stream",
     "text": [
      "Now retrieving city #1: port hardy\n",
      "Now retrieving city #2: katsuura\n",
      "Now retrieving city #3: lagoa\n",
      "Now retrieving city #4: kodiak\n",
      "Now retrieving city #5: atuona\n",
      "Now retrieving city #6: jamestown\n",
      "Now retrieving city #7: mataura\n",
      "Now retrieving city #8: wasilla\n",
      "Now retrieving city #9: albany\n",
      "Now retrieving city #10: arman\n",
      "Now retrieving city #11: tasiilaq\n",
      "Now retrieving city #12: gat\n",
      "Now retrieving city #13: hilo\n",
      "Now retrieving city #14: tebingtinggi\n",
      "Now retrieving city #15: taolanaro\n",
      "City not found. Skipping...\n",
      "Now retrieving city #16: busselton\n",
      "Now retrieving city #17: palestine\n",
      "Now retrieving city #18: grand-lahou\n",
      "Now retrieving city #19: rikitea\n",
      "Now retrieving city #20: punta arenas\n",
      "Now retrieving city #21: port elizabeth\n",
      "Now retrieving city #22: fidenza\n",
      "Now retrieving city #23: omboue\n",
      "Now retrieving city #24: vaitupu\n",
      "City not found. Skipping...\n",
      "Now retrieving city #25: viligili\n",
      "City not found. Skipping...\n",
      "Now retrieving city #26: sisimiut\n",
      "Now retrieving city #27: hobart\n",
      "Now retrieving city #28: marcona\n",
      "City not found. Skipping...\n",
      "Now retrieving city #29: port alfred\n",
      "Now retrieving city #30: cape town\n",
      "Now retrieving city #31: north bend\n",
      "Now retrieving city #32: veraval\n",
      "Now retrieving city #33: tunduru\n",
      "City not found. Skipping...\n",
      "Now retrieving city #34: bluff\n",
      "Now retrieving city #35: aklavik\n",
      "Now retrieving city #36: avarua\n",
      "Now retrieving city #37: pacific grove\n",
      "Now retrieving city #38: nanortalik\n",
      "Now retrieving city #39: hun\n",
      "Now retrieving city #40: hithadhoo\n",
      "Now retrieving city #41: rawson\n",
      "Now retrieving city #42: puerto ayora\n",
      "Now retrieving city #43: victoria\n",
      "Now retrieving city #44: riyadh\n",
      "Now retrieving city #45: butaritari\n",
      "Now retrieving city #46: muli\n",
      "Now retrieving city #47: koslan\n",
      "Now retrieving city #48: phayakkhaphum phisai\n",
      "Now retrieving city #49: tuma\n",
      "Now retrieving city #50: hermanus\n",
      "Now retrieving city #51: thompson\n",
      "Now retrieving city #52: mahadday weyne\n",
      "City not found. Skipping...\n",
      "Now retrieving city #53: tiksi\n",
      "Now retrieving city #54: vaini\n",
      "Now retrieving city #55: ostrovnoy\n",
      "Now retrieving city #56: souillac\n",
      "Now retrieving city #57: torbay\n",
      "Now retrieving city #58: coquimbo\n",
      "Now retrieving city #59: garden city\n",
      "Now retrieving city #60: mar del plata\n",
      "Now retrieving city #61: abu samrah\n",
      "Now retrieving city #62: mount gambier\n",
      "Now retrieving city #63: baghdad\n",
      "Now retrieving city #64: kununurra\n",
      "Now retrieving city #65: yellowknife\n",
      "Now retrieving city #66: grand centre\n",
      "City not found. Skipping...\n",
      "Now retrieving city #67: te anau\n",
      "Now retrieving city #68: cockburn town\n",
      "Now retrieving city #69: stoyba\n",
      "City not found. Skipping...\n",
      "Now retrieving city #70: arraial do cabo\n",
      "Now retrieving city #71: dikson\n",
      "Now retrieving city #72: longyearbyen\n",
      "Now retrieving city #73: balkanabat\n",
      "Now retrieving city #74: klaksvik\n",
      "Now retrieving city #75: maluso\n",
      "Now retrieving city #76: broome\n",
      "Now retrieving city #77: lang suan\n",
      "Now retrieving city #78: zhigansk\n",
      "Now retrieving city #79: samusu\n",
      "City not found. Skipping...\n",
      "Now retrieving city #80: barentsburg\n",
      "City not found. Skipping...\n",
      "Now retrieving city #81: port augusta\n",
      "Now retrieving city #82: san vicente\n",
      "Now retrieving city #83: nizhneyansk\n",
      "City not found. Skipping...\n",
      "Now retrieving city #84: okhotsk\n",
      "Now retrieving city #85: saint-philippe\n",
      "Now retrieving city #86: kralendijk\n",
      "Now retrieving city #87: alofi\n",
      "Now retrieving city #88: kalmunai\n",
      "Now retrieving city #89: faanui\n",
      "Now retrieving city #90: ponta do sol\n",
      "Now retrieving city #91: eldikan\n",
      "City not found. Skipping...\n",
      "Now retrieving city #92: pevek\n",
      "Now retrieving city #93: provideniya\n",
      "Now retrieving city #94: cidreira\n",
      "Now retrieving city #95: ushuaia\n",
      "Now retrieving city #96: hofn\n",
      "Now retrieving city #97: isangel\n",
      "Now retrieving city #98: port hedland\n",
      "Now retrieving city #99: kapaa\n",
      "Now retrieving city #100: alugan\n",
      "Now retrieving city #101: abu dhabi\n",
      "Now retrieving city #102: rio grande\n",
      "Now retrieving city #103: norman wells\n",
      "Now retrieving city #104: leh\n",
      "Now retrieving city #105: airai\n",
      "Now retrieving city #106: temaraia\n",
      "City not found. Skipping...\n",
      "Now retrieving city #107: saskylakh\n",
      "Now retrieving city #108: mwinilunga\n",
      "Now retrieving city #109: machico\n",
      "Now retrieving city #110: sorsk\n",
      "Now retrieving city #111: krasnokamensk\n",
      "Now retrieving city #112: necochea\n",
      "Now retrieving city #113: mahebourg\n",
      "Now retrieving city #114: shingu\n",
      "Now retrieving city #115: vardo\n",
      "Now retrieving city #116: castro\n",
      "Now retrieving city #117: neiafu\n",
      "Now retrieving city #118: alto araguaia\n",
      "Now retrieving city #119: kidodi\n",
      "Now retrieving city #120: bredasdorp\n",
      "Now retrieving city #121: parati\n",
      "Now retrieving city #122: attawapiskat\n",
      "City not found. Skipping...\n",
      "Now retrieving city #123: mys shmidta\n",
      "City not found. Skipping...\n",
      "Now retrieving city #124: vila velha\n",
      "Now retrieving city #125: mamaku\n",
      "Now retrieving city #126: salalah\n",
      "Now retrieving city #127: illoqqortoormiut\n",
      "City not found. Skipping...\n",
      "Now retrieving city #128: faya\n",
      "Now retrieving city #129: hailar\n",
      "Now retrieving city #130: sakaiminato\n",
      "Now retrieving city #131: clyde river\n",
      "Now retrieving city #132: razole\n",
      "Now retrieving city #133: stokmarknes\n",
      "Now retrieving city #134: samarai\n",
      "Now retrieving city #135: new norfolk\n",
      "Now retrieving city #136: sorokino\n",
      "Now retrieving city #137: tautira\n",
      "Now retrieving city #138: zhezkazgan\n",
      "Now retrieving city #139: sentyabrskiy\n",
      "City not found. Skipping...\n",
      "Now retrieving city #140: killybegs\n",
      "Now retrieving city #141: asfi\n",
      "Now retrieving city #142: dongsheng\n",
      "Now retrieving city #143: fortuna\n",
      "Now retrieving city #144: atambua\n",
      "Now retrieving city #145: pinsk\n",
      "Now retrieving city #146: juneau\n",
      "Now retrieving city #147: kiama\n",
      "Now retrieving city #148: hambantota\n",
      "Now retrieving city #149: cherskiy\n",
      "Now retrieving city #150: richards bay\n",
      "Now retrieving city #151: laguna\n",
      "Now retrieving city #152: kargasok\n",
      "Now retrieving city #153: ancud\n",
      "Now retrieving city #154: banda aceh\n",
      "Now retrieving city #155: ravar\n",
      "Now retrieving city #156: bataipora\n",
      "Now retrieving city #157: lebu\n",
      "Now retrieving city #158: touros\n",
      "Now retrieving city #159: arnstadt\n",
      "Now retrieving city #160: glace bay\n",
      "Now retrieving city #161: sitka\n",
      "Now retrieving city #162: kolpny\n",
      "Now retrieving city #163: fort saint james\n",
      "Now retrieving city #164: apiai\n",
      "Now retrieving city #165: vasterhaninge\n",
      "Now retrieving city #166: upernavik\n",
      "Now retrieving city #167: olafsvik\n",
      "Now retrieving city #168: dalvik\n",
      "Now retrieving city #169: jaciara\n",
      "Now retrieving city #170: linxia\n",
      "Now retrieving city #171: georgetown\n",
      "Now retrieving city #172: pinar del rio\n",
      "Now retrieving city #173: barrow\n",
      "Now retrieving city #174: kavaratti\n",
      "Now retrieving city #175: fare\n",
      "Now retrieving city #176: hasaki\n",
      "Now retrieving city #177: malwan\n",
      "City not found. Skipping...\n",
      "Now retrieving city #178: port hawkesbury\n",
      "Now retrieving city #179: cayenne\n",
      "Now retrieving city #180: planeta rica\n",
      "Now retrieving city #181: tilichiki\n",
      "Now retrieving city #182: akureyri\n",
      "Now retrieving city #183: svetlyy\n",
      "Now retrieving city #184: khatanga\n",
      "Now retrieving city #185: pitimbu\n",
      "Now retrieving city #186: lorengau\n",
      "Now retrieving city #187: palmer\n",
      "Now retrieving city #188: rongcheng\n",
      "Now retrieving city #189: foix\n",
      "Now retrieving city #190: oskemen\n",
      "Now retrieving city #191: lahij\n",
      "Now retrieving city #192: nova role\n",
      "Now retrieving city #193: westport\n",
      "Now retrieving city #194: honiara\n",
      "Now retrieving city #195: karamea\n",
      "City not found. Skipping...\n",
      "Now retrieving city #196: tommot\n",
      "Now retrieving city #197: quatre cocos\n",
      "Now retrieving city #198: esperance\n",
      "Now retrieving city #199: sinnamary\n",
      "Now retrieving city #200: naron\n",
      "Now retrieving city #201: xingyi\n",
      "Now retrieving city #202: chuy\n",
      "Now retrieving city #203: nagyatad\n",
      "Now retrieving city #204: tromso\n",
      "Now retrieving city #205: ransang\n",
      "Now retrieving city #206: husavik\n",
      "Now retrieving city #207: awjilah\n",
      "Now retrieving city #208: valparaiso\n",
      "Now retrieving city #209: namatanai\n",
      "Now retrieving city #210: bethel\n",
      "Now retrieving city #211: inuvik\n",
      "Now retrieving city #212: puteyets\n",
      "Now retrieving city #213: sao filipe\n",
      "Now retrieving city #214: vestmannaeyjar\n",
      "Now retrieving city #215: bengkulu\n",
      "Now retrieving city #216: ilulissat\n",
      "Now retrieving city #217: ozernovskiy\n",
      "Now retrieving city #218: leningradskiy\n",
      "Now retrieving city #219: bereda\n",
      "Now retrieving city #220: coihaique\n",
      "Now retrieving city #221: boa vista\n"
     ]
    },
    {
     "name": "stdout",
     "output_type": "stream",
     "text": [
      "Now retrieving city #222: falealupo\n",
      "City not found. Skipping...\n",
      "Now retrieving city #223: port blair\n",
      "Now retrieving city #224: ewa beach\n",
      "Now retrieving city #225: palabuhanratu\n",
      "City not found. Skipping...\n",
      "Now retrieving city #226: buenos aires\n",
      "Now retrieving city #227: bubaque\n",
      "Now retrieving city #228: chokurdakh\n",
      "Now retrieving city #229: la mesa\n",
      "Now retrieving city #230: jojoima\n",
      "Now retrieving city #231: bograd\n",
      "Now retrieving city #232: tiznit\n",
      "Now retrieving city #233: sinkat\n",
      "City not found. Skipping...\n",
      "Now retrieving city #234: portland\n",
      "Now retrieving city #235: bambanglipuro\n",
      "Now retrieving city #236: oussouye\n",
      "Now retrieving city #237: severo-kurilsk\n",
      "Now retrieving city #238: margate\n",
      "Now retrieving city #239: poum\n",
      "Now retrieving city #240: kadykchan\n",
      "City not found. Skipping...\n",
      "Now retrieving city #241: nyurba\n",
      "Now retrieving city #242: constitucion\n",
      "Now retrieving city #243: ribeira grande\n",
      "Now retrieving city #244: bangassou\n",
      "Now retrieving city #245: taos\n",
      "Now retrieving city #246: voh\n",
      "Now retrieving city #247: maragogi\n",
      "Now retrieving city #248: nguruka\n",
      "Now retrieving city #249: nikolskoye\n",
      "Now retrieving city #250: deputatskiy\n",
      "Now retrieving city #251: mabaruma\n",
      "Now retrieving city #252: mergui\n",
      "City not found. Skipping...\n",
      "Now retrieving city #253: piripiri\n",
      "Now retrieving city #254: port antonio\n",
      "Now retrieving city #255: iskateley\n",
      "Now retrieving city #256: meulaboh\n",
      "Now retrieving city #257: santa luzia\n",
      "Now retrieving city #258: hualmay\n",
      "Now retrieving city #259: takoradi\n",
      "Now retrieving city #260: washington\n",
      "Now retrieving city #261: novyy urengoy\n",
      "Now retrieving city #262: yanam\n",
      "Now retrieving city #263: villa altagracia\n",
      "Now retrieving city #264: constanza\n",
      "Now retrieving city #265: liverpool\n",
      "Now retrieving city #266: griffith\n",
      "Now retrieving city #267: qaanaaq\n",
      "Now retrieving city #268: jiayuguan\n",
      "Now retrieving city #269: say\n",
      "Now retrieving city #270: kazalinsk\n",
      "City not found. Skipping...\n",
      "Now retrieving city #271: taoudenni\n",
      "Now retrieving city #272: bolnisi\n",
      "Now retrieving city #273: cairns\n",
      "Now retrieving city #274: whakatane\n",
      "Now retrieving city #275: great yarmouth\n",
      "Now retrieving city #276: aginskoye\n",
      "Now retrieving city #277: mocuba\n",
      "Now retrieving city #278: puri\n",
      "Now retrieving city #279: vilcun\n",
      "Now retrieving city #280: grabouw\n",
      "Now retrieving city #281: rio gallegos\n",
      "Now retrieving city #282: east london\n",
      "Now retrieving city #283: pascagoula\n",
      "Now retrieving city #284: saleaula\n",
      "City not found. Skipping...\n",
      "Now retrieving city #285: phan rang\n",
      "City not found. Skipping...\n",
      "Now retrieving city #286: palatka\n",
      "Now retrieving city #287: bara\n",
      "Now retrieving city #288: disna\n",
      "Now retrieving city #289: maceio\n",
      "Now retrieving city #290: umm lajj\n",
      "Now retrieving city #291: parainen\n",
      "Now retrieving city #292: cacule\n",
      "Now retrieving city #293: atbasar\n",
      "Now retrieving city #294: pishva\n",
      "Now retrieving city #295: kungurtug\n",
      "Now retrieving city #296: luwuk\n",
      "Now retrieving city #297: turtas\n",
      "Now retrieving city #298: waipawa\n",
      "Now retrieving city #299: amderma\n",
      "City not found. Skipping...\n",
      "Now retrieving city #300: kusk\n",
      "City not found. Skipping...\n",
      "Now retrieving city #301: pionerskiy\n",
      "Now retrieving city #302: xining\n",
      "Now retrieving city #303: batagay\n",
      "Now retrieving city #304: vanimo\n",
      "Now retrieving city #305: tsihombe\n",
      "City not found. Skipping...\n",
      "Now retrieving city #306: bargal\n",
      "City not found. Skipping...\n",
      "Now retrieving city #307: seydi\n",
      "Now retrieving city #308: pokanayevka\n",
      "City not found. Skipping...\n",
      "Now retrieving city #309: muravlenko\n",
      "Now retrieving city #310: wahran\n",
      "City not found. Skipping...\n",
      "Now retrieving city #311: barra patuca\n",
      "Now retrieving city #312: seoul\n",
      "Now retrieving city #313: inhambane\n",
      "Now retrieving city #314: kandrian\n",
      "Now retrieving city #315: carnarvon\n",
      "Now retrieving city #316: kampot\n",
      "Now retrieving city #317: san quintin\n",
      "Now retrieving city #318: iqaluit\n",
      "Now retrieving city #319: bouca\n",
      "Now retrieving city #320: bilma\n",
      "Now retrieving city #321: colonial park\n",
      "Now retrieving city #322: bossier city\n",
      "Now retrieving city #323: sao jose da coroa grande\n",
      "Now retrieving city #324: tabuk\n",
      "Now retrieving city #325: siuna\n",
      "Now retrieving city #326: karauzyak\n",
      "City not found. Skipping...\n",
      "Now retrieving city #327: tual\n",
      "Now retrieving city #328: lompoc\n",
      "Now retrieving city #329: huancavelica\n",
      "Now retrieving city #330: yazd\n",
      "Now retrieving city #331: nouakchott\n",
      "Now retrieving city #332: grand river south east\n",
      "City not found. Skipping...\n",
      "Now retrieving city #333: maniitsoq\n",
      "Now retrieving city #334: taonan\n",
      "Now retrieving city #335: gaoua\n",
      "Now retrieving city #336: beyneu\n",
      "Now retrieving city #337: jalu\n",
      "Now retrieving city #338: bambous virieux\n",
      "Now retrieving city #339: bukit bakri\n",
      "City not found. Skipping...\n",
      "Now retrieving city #340: alice springs\n",
      "Now retrieving city #341: karratha\n",
      "Now retrieving city #342: aguililla\n",
      "Now retrieving city #343: cortez\n",
      "Now retrieving city #344: gornyy\n",
      "Now retrieving city #345: verkhnyaya toyma\n",
      "Now retrieving city #346: maroantsetra\n",
      "Now retrieving city #347: itai\n",
      "Now retrieving city #348: tupik\n",
      "Now retrieving city #349: savalou\n",
      "Now retrieving city #350: saldanha\n",
      "Now retrieving city #351: port-gentil\n",
      "Now retrieving city #352: luganville\n",
      "Now retrieving city #353: burkhala\n",
      "City not found. Skipping...\n",
      "Now retrieving city #354: belushya guba\n",
      "City not found. Skipping...\n",
      "Now retrieving city #355: mahaicony\n",
      "City not found. Skipping...\n",
      "Now retrieving city #356: kautokeino\n",
      "Now retrieving city #357: asau\n",
      "Now retrieving city #358: biu\n",
      "Now retrieving city #359: la asuncion\n",
      "Now retrieving city #360: linxi\n",
      "Now retrieving city #361: batemans bay\n",
      "Now retrieving city #362: lukaya\n",
      "Now retrieving city #363: canutama\n",
      "Now retrieving city #364: alyangula\n",
      "Now retrieving city #365: bundaberg\n",
      "Now retrieving city #366: okha\n",
      "Now retrieving city #367: san patricio\n",
      "Now retrieving city #368: muzquiz\n",
      "City not found. Skipping...\n",
      "Now retrieving city #369: la rioja\n",
      "Now retrieving city #370: oltedal\n",
      "Now retrieving city #371: dzhebariki-khaya\n",
      "Now retrieving city #372: nabire\n",
      "Now retrieving city #373: nylstroom\n",
      "City not found. Skipping...\n",
      "Now retrieving city #374: mweka\n",
      "Now retrieving city #375: boende\n",
      "Now retrieving city #376: misratah\n",
      "Now retrieving city #377: porto walter\n",
      "Now retrieving city #378: rio tercero\n",
      "Now retrieving city #379: el faiyum\n",
      "City not found. Skipping...\n",
      "Now retrieving city #380: saint-pierre\n",
      "Now retrieving city #381: tamale\n",
      "Now retrieving city #382: sayyan\n",
      "Now retrieving city #383: isiro\n",
      "Now retrieving city #384: huarmey\n",
      "Now retrieving city #385: lewistown\n",
      "Now retrieving city #386: santa cruz del sur\n",
      "Now retrieving city #387: porangatu\n",
      "Now retrieving city #388: tazovskiy\n",
      "Now retrieving city #389: byron bay\n",
      "Now retrieving city #390: sur\n",
      "Now retrieving city #391: la union\n",
      "Now retrieving city #392: kaitangata\n",
      "Now retrieving city #393: sorvag\n",
      "City not found. Skipping...\n",
      "Now retrieving city #394: dondo\n",
      "Now retrieving city #395: korla\n",
      "Now retrieving city #396: durban\n",
      "Now retrieving city #397: fort morgan\n",
      "Now retrieving city #398: port moresby\n",
      "Now retrieving city #399: kushiro\n",
      "Now retrieving city #400: strezhevoy\n",
      "Now retrieving city #401: talara\n",
      "Now retrieving city #402: codrington\n",
      "Now retrieving city #403: khonuu\n",
      "City not found. Skipping...\n",
      "Now retrieving city #404: saint augustine\n",
      "Now retrieving city #405: koppal\n",
      "Now retrieving city #406: vanavara\n",
      "Now retrieving city #407: smithers\n",
      "Now retrieving city #408: saint anthony\n",
      "Now retrieving city #409: maine-soroa\n",
      "Now retrieving city #410: kasongo-lunda\n",
      "Now retrieving city #411: altus\n",
      "Now retrieving city #412: vitim\n",
      "Now retrieving city #413: brae\n",
      "Now retrieving city #414: las margaritas\n",
      "Now retrieving city #415: macusani\n",
      "Now retrieving city #416: yanan\n",
      "City not found. Skipping...\n",
      "Now retrieving city #417: dunedin\n",
      "Now retrieving city #418: grindavik\n",
      "Now retrieving city #419: oranjestad\n",
      "Now retrieving city #420: manokwari\n",
      "Now retrieving city #421: talisay\n",
      "Now retrieving city #422: namibe\n",
      "Now retrieving city #423: foz\n",
      "Now retrieving city #424: mackay\n",
      "Now retrieving city #425: marshfield\n",
      "Now retrieving city #426: suzu\n",
      "City not found. Skipping...\n",
      "Now retrieving city #427: xuddur\n",
      "Now retrieving city #428: yunjinghong\n",
      "City not found. Skipping...\n",
      "Now retrieving city #429: gornoye loo\n",
      "Now retrieving city #430: minervino murge\n",
      "Now retrieving city #431: pangnirtung\n"
     ]
    },
    {
     "name": "stdout",
     "output_type": "stream",
     "text": [
      "Now retrieving city #432: vilani\n",
      "Now retrieving city #433: atlantic city\n",
      "Now retrieving city #434: pisco\n",
      "Now retrieving city #435: kamenskoye\n",
      "City not found. Skipping...\n",
      "Now retrieving city #436: marshall\n",
      "Now retrieving city #437: eldorado\n",
      "Now retrieving city #438: bowen\n",
      "Now retrieving city #439: eureka\n",
      "Now retrieving city #440: itarema\n",
      "Now retrieving city #441: soyo\n",
      "Now retrieving city #442: iracoubo\n",
      "Now retrieving city #443: petropavlovsk-kamchatskiy\n",
      "Now retrieving city #444: bakaly\n",
      "Now retrieving city #445: tubuala\n",
      "Now retrieving city #446: mitu\n",
      "Now retrieving city #447: daokou\n",
      "Now retrieving city #448: martil\n",
      "Now retrieving city #449: kemin\n",
      "Now retrieving city #450: balimo\n",
      "City not found. Skipping...\n",
      "Now retrieving city #451: pangkalanbuun\n",
      "Now retrieving city #452: lolua\n",
      "City not found. Skipping...\n",
      "Now retrieving city #453: tonj\n",
      "Now retrieving city #454: ambon\n",
      "Now retrieving city #455: union city\n",
      "Now retrieving city #456: ambulu\n",
      "Now retrieving city #457: ulaangom\n",
      "Now retrieving city #458: mareeba\n",
      "Now retrieving city #459: guiyang\n",
      "Now retrieving city #460: lundazi\n",
      "Now retrieving city #461: carauari\n",
      "Now retrieving city #462: kuche\n",
      "City not found. Skipping...\n",
      "Now retrieving city #463: beloha\n",
      "Now retrieving city #464: ayan\n",
      "Now retrieving city #465: acarau\n",
      "Now retrieving city #466: aberlour\n",
      "City not found. Skipping...\n",
      "Now retrieving city #467: danshui\n",
      "Now retrieving city #468: hope\n",
      "Now retrieving city #469: xichang\n",
      "Now retrieving city #470: flinders\n",
      "Now retrieving city #471: blyth\n",
      "Now retrieving city #472: gasa\n",
      "Now retrieving city #473: chenghai\n",
      "Now retrieving city #474: kalabo\n",
      "Now retrieving city #475: olavarria\n",
      "Now retrieving city #476: camocim\n",
      "Now retrieving city #477: baykit\n",
      "Now retrieving city #478: rostovka\n",
      "Now retrieving city #479: longlac\n",
      "City not found. Skipping...\n",
      "Now retrieving city #480: garango\n",
      "Now retrieving city #481: adrar\n",
      "Now retrieving city #482: ulverstone\n",
      "Now retrieving city #483: bac can\n",
      "City not found. Skipping...\n",
      "Now retrieving city #484: bud\n",
      "Now retrieving city #485: college\n",
      "Now retrieving city #486: kumluca\n",
      "Now retrieving city #487: kahului\n",
      "Now retrieving city #488: kaseda\n",
      "Now retrieving city #489: lashio\n",
      "Now retrieving city #490: eidfjord\n",
      "Now retrieving city #491: ilhabela\n",
      "Now retrieving city #492: jahrom\n",
      "City not found. Skipping...\n",
      "Now retrieving city #493: ixtapa\n",
      "Now retrieving city #494: shache\n",
      "Now retrieving city #495: bandarbeyla\n",
      "Now retrieving city #496: ust-kuyga\n",
      "Now retrieving city #497: uruzgan\n",
      "Now retrieving city #498: hellin\n",
      "Now retrieving city #499: ahuimanu\n",
      "Now retrieving city #500: salinopolis\n",
      "Now retrieving city #501: el campo\n",
      "Now retrieving city #502: narsaq\n",
      "Now retrieving city #503: suarez\n",
      "Now retrieving city #504: balikpapan\n",
      "Now retrieving city #505: raudeberg\n",
      "Now retrieving city #506: batagay-alyta\n",
      "Now retrieving city #507: frederick\n",
      "Now retrieving city #508: north platte\n",
      "Now retrieving city #509: rawannawi\n",
      "City not found. Skipping...\n",
      "Now retrieving city #510: esso\n",
      "Now retrieving city #511: beringovskiy\n",
      "Now retrieving city #512: sangin\n",
      "Now retrieving city #513: labuhan\n",
      "Now retrieving city #514: rocha\n",
      "Now retrieving city #515: yumen\n",
      "Now retrieving city #516: jumla\n",
      "Now retrieving city #517: rosetta\n",
      "Now retrieving city #518: little current\n",
      "Now retrieving city #519: sibu\n",
      "Now retrieving city #520: port lincoln\n",
      "Now retrieving city #521: ascension\n",
      "Now retrieving city #522: payakumbuh\n",
      "Now retrieving city #523: luanda\n",
      "Now retrieving city #524: gagarin\n",
      "Now retrieving city #525: tornio\n",
      "Now retrieving city #526: pilar\n",
      "Now retrieving city #527: grand gaube\n",
      "Now retrieving city #528: tezu\n",
      "Now retrieving city #529: tres arroyos\n",
      "Now retrieving city #530: royan\n",
      "Now retrieving city #531: basco\n",
      "Now retrieving city #532: ostashkov\n",
      "Now retrieving city #533: lahaina\n",
      "Now retrieving city #534: araucaria\n",
      "Now retrieving city #535: kloulklubed\n",
      "Now retrieving city #536: nagram\n",
      "Now retrieving city #537: komsomolskiy\n",
      "Now retrieving city #538: khormuj\n",
      "City not found. Skipping...\n",
      "Now retrieving city #539: pochutla\n",
      "Now retrieving city #540: talnakh\n",
      "Now retrieving city #541: coahuayana\n",
      "Now retrieving city #542: vila franca do campo\n",
      "Now retrieving city #543: achisay\n",
      "City not found. Skipping...\n",
      "Now retrieving city #544: devli\n",
      "Now retrieving city #545: harindanga\n",
      "Now retrieving city #546: ambatofinandrahana\n",
      "Now retrieving city #547: sheregesh\n",
      "Now retrieving city #548: abiy adi\n",
      "City not found. Skipping...\n",
      "Now retrieving city #549: rorvik\n",
      "Now retrieving city #550: kalianget\n",
      "Now retrieving city #551: kirakira\n",
      "Now retrieving city #552: kaeo\n",
      "Now retrieving city #553: duekoue\n",
      "Now retrieving city #554: tidore\n",
      "City not found. Skipping...\n",
      "Now retrieving city #555: ahipara\n",
      "Now retrieving city #556: saint george\n",
      "Now retrieving city #557: los alamos\n",
      "Now retrieving city #558: gumdag\n",
      "Now retrieving city #559: dhidhdhoo\n",
      "Now retrieving city #560: cabo san lucas\n",
      "Now retrieving city #561: egvekinot\n",
      "Now retrieving city #562: sulangan\n",
      "Now retrieving city #563: opobo\n",
      "City not found. Skipping...\n",
      "Now retrieving city #564: srivardhan\n",
      "Now retrieving city #565: cape coast\n",
      "Now retrieving city #566: rungata\n",
      "City not found. Skipping...\n",
      "Now retrieving city #567: mildura\n",
      "Now retrieving city #568: hamilton\n",
      "Now retrieving city #569: nantucket\n",
      "Now retrieving city #570: levin\n",
      "Now retrieving city #571: solok\n",
      "Now retrieving city #572: najran\n",
      "Now retrieving city #573: urazovo\n",
      "Now retrieving city #574: prince rupert\n",
      "Now retrieving city #575: bathsheba\n",
      "Now retrieving city #576: hovd\n",
      "Now retrieving city #577: toftir\n",
      "City not found. Skipping...\n",
      "Now retrieving city #578: port keats\n",
      "Now retrieving city #579: antofagasta\n",
      "Now retrieving city #580: kumla\n",
      "Now retrieving city #581: zhovtneve\n",
      "Now retrieving city #582: marsa matruh\n",
      "Now retrieving city #583: malakal\n",
      "Now retrieving city #584: warangal\n",
      "Now retrieving city #585: marion\n",
      "Now retrieving city #586: alcantara\n",
      "Now retrieving city #587: kruisfontein\n",
      "Now retrieving city #588: karaidel\n",
      "Now retrieving city #589: buin\n",
      "Now retrieving city #590: broken hill\n",
      "Now retrieving city #591: eydhafushi\n",
      "Now retrieving city #592: frankfort\n",
      "Now retrieving city #593: wilmington\n",
      "Now retrieving city #594: oktyabrskoye\n",
      "Now retrieving city #595: jiuquan\n",
      "Now retrieving city #596: berlevag\n",
      "Now retrieving city #597: nha trang\n",
      "Now retrieving city #598: henties bay\n",
      "Now retrieving city #599: xicotencatl\n",
      "Now retrieving city #600: pedernales\n",
      "Now retrieving city #601: sucua\n",
      "Now retrieving city #602: anadyr\n",
      "Now retrieving city #603: bemidji\n",
      "Now retrieving city #604: hallingby\n",
      "City not found. Skipping...\n",
      "Now retrieving city #605: eravur\n",
      "Now retrieving city #606: san cristobal\n",
      "Now retrieving city #607: totness\n",
      "Now retrieving city #608: san antonio\n",
      "Now retrieving city #609: nipawin\n",
      "Now retrieving city #610: athabasca\n",
      "Now retrieving city #611: urulga\n",
      "City not found. Skipping...\n",
      "Now retrieving city #612: saint-augustin\n",
      "Now retrieving city #613: paita\n",
      "Now retrieving city #614: my tho\n",
      "Now retrieving city #615: hengelo\n",
      "Now retrieving city #616: pangoa\n",
      "Now retrieving city #617: reefton\n",
      "City not found. Skipping...\n",
      "Now retrieving city #618: sa kaeo\n"
     ]
    }
   ],
   "source": [
    "# Create column headers for city, cloudiness, country,\n",
    "# date, humidity, lat, lng, max temp, and wind speed                                                                      \n",
    "\n",
    "cities_df[\"Cloudiness\"]=\"\"\n",
    "cities_df[\"Country\"]=\"\"\n",
    "cities_df[\"Date\"]=\"\"\n",
    "cities_df[\"Humidity\"]=\"\"\n",
    "cities_df[\"Lat\"]=\"\"\n",
    "cities_df[\"Lng\"]=\"\"\n",
    "cities_df[\"Max Temp\"] =\"\"\n",
    "cities_df[\"Wind Speed\"]=\"\"\n",
    "\n",
    "#http://api.openweathermap.org/data/2.5/forecast?id=524901&APPID={APIKEY}\n",
    "\n",
    "# Create counter and set to zero\n",
    "row_count = 0\n",
    "\n",
    "# Call API openweather and gather data for cities\n",
    "for index, row in cities_df.iterrows():\n",
    "    \n",
    "    # Create dictionary of parameters\n",
    "    params = {\n",
    "    \"q\": cities_df.loc[index][\"City\"],\n",
    "    \"units\": \"IMPERIAL\",\n",
    "    \"mode\": \"json\",\n",
    "    \"appid\": weather_api_key}\n",
    "    \n",
    "    #API url\n",
    "    base_url = \"http://api.openweathermap.org/data/2.5/weather?\"\n",
    "\n",
    "    # Print city name and city count\n",
    "    print(\"Now retrieving city #%s: %s\" % (row_count, cities_df.loc[index][\"City\"]))\n",
    "    row_count += 1 \n",
    "    \n",
    "    # Capture data for cities\n",
    "    data = requests.get(base_url, params=params).json()\n",
    "    try:\n",
    "        \n",
    "        cloud = data['clouds']['all']\n",
    "        country = data[\"sys\"][\"country\"]\n",
    "        date = data[\"dt\"]\n",
    "        humidity = data['main']['humidity']\n",
    "        lat = data[\"coord\"][\"lat\"]\n",
    "        long = data[\"coord\"][\"lon\"]\n",
    "        max_temp = data[\"main\"][\"temp_max\"]\n",
    "        city_wind = data['wind']['speed']\n",
    "       \n",
    "        cities_df.set_value(index, \"Cloudiness\", cloud)\n",
    "        cities_df.set_value(index, \"Country\", country)\n",
    "        cities_df.set_value(index, \"Date\", date)\n",
    "        cities_df.set_value(index, \"Humidity\", humidity)\n",
    "        cities_df.set_value(index, \"Lat\", lat)\n",
    "        cities_df.set_value(index, \"Lng\", long)\n",
    "        cities_df.set_value(index, \"Max Temp\", max_temp)\n",
    "        cities_df.set_value(index, \"Wind Speed\", city_wind)\n",
    "        \n",
    "    # Print statement if city is not found    \n",
    "    except:\n",
    "        print(\"City not found. Skipping...\")\n",
    "        continue \n",
    "    time.sleep(1)\n"
   ]
  },
  {
   "cell_type": "markdown",
   "metadata": {},
   "source": [
    "### Convert Raw Data to DataFrame\n",
    "* Export the city data into a .csv.\n",
    "* Display the DataFrame"
   ]
  },
  {
   "cell_type": "code",
   "execution_count": 5,
   "metadata": {},
   "outputs": [
    {
     "data": {
      "text/plain": [
       "City          619\n",
       "Cloudiness    619\n",
       "Country       619\n",
       "Date          619\n",
       "Humidity      619\n",
       "Lat           619\n",
       "Lng           619\n",
       "Max Temp      619\n",
       "Wind Speed    619\n",
       "dtype: int64"
      ]
     },
     "execution_count": 5,
     "metadata": {},
     "output_type": "execute_result"
    }
   ],
   "source": [
    "# Save the dataframe to designated output file as a csv\n",
    "cities_df.to_csv(output_data_file, encoding=\"utf-8\", index=False)\n",
    "# Cities and corresponding data count\n",
    "cities_df.count()\n"
   ]
  },
  {
   "cell_type": "code",
   "execution_count": 6,
   "metadata": {},
   "outputs": [
    {
     "data": {
      "text/html": [
       "<div>\n",
       "<style scoped>\n",
       "    .dataframe tbody tr th:only-of-type {\n",
       "        vertical-align: middle;\n",
       "    }\n",
       "\n",
       "    .dataframe tbody tr th {\n",
       "        vertical-align: top;\n",
       "    }\n",
       "\n",
       "    .dataframe thead th {\n",
       "        text-align: right;\n",
       "    }\n",
       "</style>\n",
       "<table border=\"1\" class=\"dataframe\">\n",
       "  <thead>\n",
       "    <tr style=\"text-align: right;\">\n",
       "      <th></th>\n",
       "      <th>City</th>\n",
       "      <th>Cloudiness</th>\n",
       "      <th>Country</th>\n",
       "      <th>Date</th>\n",
       "      <th>Humidity</th>\n",
       "      <th>Lat</th>\n",
       "      <th>Lng</th>\n",
       "      <th>Max Temp</th>\n",
       "      <th>Wind Speed</th>\n",
       "    </tr>\n",
       "  </thead>\n",
       "  <tbody>\n",
       "    <tr>\n",
       "      <td>0</td>\n",
       "      <td>tuktoyaktuk</td>\n",
       "      <td>100</td>\n",
       "      <td>CA</td>\n",
       "      <td>1585065359</td>\n",
       "      <td>95</td>\n",
       "      <td>69.45</td>\n",
       "      <td>-133.04</td>\n",
       "      <td>5.34</td>\n",
       "      <td>4.94</td>\n",
       "    </tr>\n",
       "    <tr>\n",
       "      <td>1</td>\n",
       "      <td>port hardy</td>\n",
       "      <td>75</td>\n",
       "      <td>CA</td>\n",
       "      <td>1585065361</td>\n",
       "      <td>100</td>\n",
       "      <td>50.7</td>\n",
       "      <td>-127.42</td>\n",
       "      <td>33.8</td>\n",
       "      <td>2.24</td>\n",
       "    </tr>\n",
       "    <tr>\n",
       "      <td>2</td>\n",
       "      <td>katsuura</td>\n",
       "      <td>20</td>\n",
       "      <td>JP</td>\n",
       "      <td>1585065362</td>\n",
       "      <td>48</td>\n",
       "      <td>35.13</td>\n",
       "      <td>140.3</td>\n",
       "      <td>44.6</td>\n",
       "      <td>16.11</td>\n",
       "    </tr>\n",
       "    <tr>\n",
       "      <td>3</td>\n",
       "      <td>lagoa</td>\n",
       "      <td>100</td>\n",
       "      <td>PT</td>\n",
       "      <td>1585065363</td>\n",
       "      <td>67</td>\n",
       "      <td>39.05</td>\n",
       "      <td>-27.98</td>\n",
       "      <td>54.3</td>\n",
       "      <td>27.72</td>\n",
       "    </tr>\n",
       "    <tr>\n",
       "      <td>4</td>\n",
       "      <td>kodiak</td>\n",
       "      <td>40</td>\n",
       "      <td>US</td>\n",
       "      <td>1585065364</td>\n",
       "      <td>36</td>\n",
       "      <td>57.79</td>\n",
       "      <td>-152.41</td>\n",
       "      <td>46.4</td>\n",
       "      <td>8.05</td>\n",
       "    </tr>\n",
       "  </tbody>\n",
       "</table>\n",
       "</div>"
      ],
      "text/plain": [
       "          City Cloudiness Country        Date Humidity    Lat     Lng  \\\n",
       "0  tuktoyaktuk        100      CA  1585065359       95  69.45 -133.04   \n",
       "1   port hardy         75      CA  1585065361      100   50.7 -127.42   \n",
       "2     katsuura         20      JP  1585065362       48  35.13   140.3   \n",
       "3        lagoa        100      PT  1585065363       67  39.05  -27.98   \n",
       "4       kodiak         40      US  1585065364       36  57.79 -152.41   \n",
       "\n",
       "  Max Temp Wind Speed  \n",
       "0     5.34       4.94  \n",
       "1     33.8       2.24  \n",
       "2     44.6      16.11  \n",
       "3     54.3      27.72  \n",
       "4     46.4       8.05  "
      ]
     },
     "execution_count": 6,
     "metadata": {},
     "output_type": "execute_result"
    }
   ],
   "source": [
    "# Print sample of cities dataframe\n",
    "cities_df.head()"
   ]
  },
  {
   "cell_type": "markdown",
   "metadata": {},
   "source": [
    "### Plotting the Data\n",
    "* Use proper labeling of the plots using plot titles (including date of analysis) and axes labels.\n",
    "* Save the plotted figures as .pngs."
   ]
  },
  {
   "cell_type": "markdown",
   "metadata": {},
   "source": [
    "#### Latitude vs. Temperature Plot"
   ]
  },
  {
   "cell_type": "code",
   "execution_count": 7,
   "metadata": {
    "scrolled": true
   },
   "outputs": [
    {
     "data": {
      "image/png": "[encoded data removed]",
      "text/plain": [
       "<Figure size 432x288 with 1 Axes>"
      ]
     },
     "metadata": {
      "needs_background": "light"
     },
     "output_type": "display_data"
    },
    {
     "name": "stdout",
     "output_type": "stream",
     "text": [
      "Temps are highest at prime meridian.\n"
     ]
    }
   ],
   "source": [
    "# read new data\n",
    "data_df = pd.read_csv(output_data_file)\n",
    "# Capture unix time stamp and convert to date\n",
    "date_unix = data_df.iloc[0,3]\n",
    "date = time.strftime(\"%D\", time.localtime(int(date_unix)))\n",
    "\n",
    "#date = time.strftime(\"%D %H:%M\", time.localtime(int(date_unix)))\n",
    "\n",
    "# Define x and y axis\n",
    "x_axis = data_df[\"Lat\"]\n",
    "y_axis = data_df[\"Max Temp\"]\n",
    "\n",
    "x = x_axis\n",
    "y = y_axis\n",
    "\n",
    "# Set plot limits and show grid\n",
    "plt.grid(True)\n",
    "plt.xlim([-60, 90])\n",
    "plt.ylim([-40, 125])\n",
    "# Set plot title and label x and y axis\n",
    "plt.title(f'City Latitude vs. Max Temperature ({date})')\n",
    "plt.xlabel('Latitude')\n",
    "plt.ylabel('Max Temperature (F)')\n",
    "plt.scatter(x, y)\n",
    "# Save plot to file\n",
    "plt.savefig('City_Lat_vs_Max_Temp.png')\n",
    "# plot to screen\n",
    "plt.show()\n",
    "print(\"Temps are highest at prime meridian.\")"
   ]
  },
  {
   "cell_type": "markdown",
   "metadata": {},
   "source": [
    "#### Latitude vs. Humidity Plot"
   ]
  },
  {
   "cell_type": "code",
   "execution_count": 8,
   "metadata": {},
   "outputs": [
    {
     "data": {
      "image/png": "[encoded data removed]",
      "text/plain": [
       "<Figure size 432x288 with 1 Axes>"
      ]
     },
     "metadata": {
      "needs_background": "light"
     },
     "output_type": "display_data"
    },
    {
     "name": "stdout",
     "output_type": "stream",
     "text": [
      "Majority of cities have humidity gretaer than 60%\n"
     ]
    }
   ],
   "source": [
    "# Capture unix time stamp and convert to date\n",
    "date_unix = data_df.iloc[0,3]\n",
    "date = time.strftime(\"%D\", time.localtime(int(date_unix)))\n",
    "\n",
    "#date = time.strftime(\"%D %H:%M\", time.localtime(int(date_unix)))\n",
    "\n",
    "# Define x and y axis\n",
    "x_axis = data_df[\"Lat\"]\n",
    "y_axis = data_df[\"Humidity\"]\n",
    "\n",
    "x = x_axis\n",
    "y = y_axis\n",
    "# Set plot limits and show gridlines\n",
    "plt.grid(True)\n",
    "plt.xlim([-60, 90])\n",
    "plt.ylim([0, 150])\n",
    "# Set plot title and label x and y axis\n",
    "plt.title(f'City Latitude vs. Humidity ({date})')\n",
    "plt.xlabel('Latitude')\n",
    "plt.ylabel('Humidity (%)')\n",
    "plt.scatter(x, y)\n",
    "# Save plot to file\n",
    "plt.savefig('City_Lat_vs_Humidity.png')\n",
    "# plot to screen\n",
    "plt.show()\n",
    "print(\"Majority of cities have humidity gretaer than 60%\")"
   ]
  },
  {
   "cell_type": "markdown",
   "metadata": {},
   "source": [
    "#### Latitude vs. Cloudiness Plot"
   ]
  },
  {
   "cell_type": "code",
   "execution_count": 9,
   "metadata": {},
   "outputs": [
    {
     "data": {
      "image/png": "[encoded data removed]",
      "text/plain": [
       "<Figure size 432x288 with 1 Axes>"
      ]
     },
     "metadata": {
      "needs_background": "light"
     },
     "output_type": "display_data"
    },
    {
     "name": "stdout",
     "output_type": "stream",
     "text": [
      "Cloudiness is evenly distributed\n"
     ]
    }
   ],
   "source": [
    "# Capture unix time stamp and convert to date\n",
    "date_unix = data_df.iloc[0,3]\n",
    "date = time.strftime(\"%D\", time.localtime(int(date_unix)))\n",
    "\n",
    "#date = time.strftime(\"%D %H:%M\", time.localtime(int(date_unix)))\n",
    "\n",
    "# Define x and y axis\n",
    "x_axis = data_df[\"Lat\"]\n",
    "y_axis = data_df[\"Cloudiness\"]\n",
    "\n",
    "x = x_axis\n",
    "y = y_axis\n",
    "# Set plot limits and show gridlines\n",
    "plt.grid(True)\n",
    "plt.xlim([-60, 90])\n",
    "plt.ylim([-20, 125])\n",
    "# Set plot title and label x and y axis\n",
    "plt.title(f'City Latitude vs. Cloudiness ({date})')\n",
    "plt.xlabel('Latitude')\n",
    "plt.ylabel('Cloudiness (%)')\n",
    "plt.scatter(x, y)\n",
    "# Save plot to a file\n",
    "plt.savefig('City_Lat_vs_Cloudiness.png')\n",
    "# Plot to screen\n",
    "plt.show()\n",
    "print(\"Cloudiness is evenly distributed\")"
   ]
  },
  {
   "cell_type": "markdown",
   "metadata": {},
   "source": [
    "#### Latitude vs. Wind Speed Plot"
   ]
  },
  {
   "cell_type": "code",
   "execution_count": 10,
   "metadata": {},
   "outputs": [
    {
     "data": {
      "image/png": "[encoded data removed]",
      "text/plain": [
       "<Figure size 432x288 with 1 Axes>"
      ]
     },
     "metadata": {
      "needs_background": "light"
     },
     "output_type": "display_data"
    },
    {
     "name": "stdout",
     "output_type": "stream",
     "text": [
      "For the majority of cities the wind speed is 0 to 15mph\n"
     ]
    }
   ],
   "source": [
    "# Capture unix time stamp and convert to date\n",
    "date_unix = data_df.iloc[0,3]\n",
    "date = time.strftime(\"%D\", time.localtime(int(date_unix)))\n",
    "\n",
    "#date = time.strftime(\"%D %H:%M\", time.localtime(int(date_unix)))\n",
    "\n",
    "# Define x and y axis\n",
    "x_axis = data_df[\"Lat\"]\n",
    "y_axis = data_df[\"Wind Speed\"]\n",
    "\n",
    "x = x_axis\n",
    "y = y_axis\n",
    "# Set plot limits and show gridlines\n",
    "plt.grid(True)\n",
    "plt.xlim([-60, 90])\n",
    "plt.ylim([-10, 50])\n",
    "# Set plot title and label x and y axis\n",
    "plt.title(f'City Latitude vs. Wind Speed ({date})')\n",
    "plt.xlabel('Latitude')\n",
    "plt.ylabel('Wind Speed (mph)')\n",
    "plt.scatter(x, y)\n",
    "# Save plot to a file\n",
    "plt.savefig('City_Lat_vs_Wind Speed.png')\n",
    "# Plot to screen\n",
    "plt.show()\n",
    "print(\"For the majority of cities the wind speed is 0 to 15mph\")"
   ]
  },
  {
   "cell_type": "markdown",
   "metadata": {},
   "source": [
    "## Linear Regression"
   ]
  },
  {
   "cell_type": "code",
   "execution_count": 11,
   "metadata": {},
   "outputs": [],
   "source": [
    "# OPTIONAL: Create a function to create Linear Regression plots\n"
   ]
  },
  {
   "cell_type": "code",
   "execution_count": 12,
   "metadata": {},
   "outputs": [],
   "source": [
    "# Create Northern and Southern Hemisphere DataFrames\n",
    "\n",
    "nh_df = data_df[data_df.Lat>=0]\n",
    "sh_df = data_df[data_df.Lat<0]\n"
   ]
  },
  {
   "cell_type": "markdown",
   "metadata": {},
   "source": [
    "####  Northern Hemisphere - Max Temp vs. Latitude Linear Regression"
   ]
  },
  {
   "cell_type": "code",
   "execution_count": 13,
   "metadata": {},
   "outputs": [
    {
     "name": "stdout",
     "output_type": "stream",
     "text": [
      "The r-squared is: -0.8892395419371432\n"
     ]
    },
    {
     "data": {
      "image/png": "[encoded data removed]",
      "text/plain": [
       "<Figure size 432x288 with 1 Axes>"
      ]
     },
     "metadata": {
      "needs_background": "light"
     },
     "output_type": "display_data"
    },
    {
     "name": "stdout",
     "output_type": "stream",
     "text": [
      "The regression predictions are a strong approximation of the real data.\n"
     ]
    }
   ],
   "source": [
    "# Print out the r-squared value along with the plot.\n",
    "# Define x and y axis\n",
    "x_values = nh_df['Max Temp']\n",
    "y_values = nh_df['Lat']\n",
    "\n",
    "(slope, intercept, rvalue, pvalue, stderr) = linregress(x_values, y_values)\n",
    "# Regression points\n",
    "regress_values = x_values * slope + intercept\n",
    "# Slope intercept formula\n",
    "line_eq = \"y = \" + str(round(slope,2)) + \"x + \" + str(round(intercept,2))\n",
    "plt.scatter(x_values,y_values)\n",
    "plt.plot(x_values,regress_values,\"r-\")\n",
    "plt.annotate(line_eq,(6,10),fontsize=15,color=\"red\")\n",
    "plt.xlabel('Latitude')\n",
    "plt.ylabel('Max Temp')\n",
    "print(f\"The r-squared is: {rvalue}\")\n",
    "# Save plot to file\n",
    "plt.savefig('NH_Max_Temp_vs_Lat_LR.png')\n",
    "plt.show()\n",
    "print(\"The regression predictions are a strong approximation of the real data.\")"
   ]
  },
  {
   "cell_type": "markdown",
   "metadata": {},
   "source": [
    "####  Southern Hemisphere - Max Temp vs. Latitude Linear Regression"
   ]
  },
  {
   "cell_type": "code",
   "execution_count": 14,
   "metadata": {},
   "outputs": [
    {
     "name": "stdout",
     "output_type": "stream",
     "text": [
      "The r-squared is: 0.5919867308341755\n"
     ]
    },
    {
     "data": {
      "image/png": "[encoded data removed]",
      "text/plain": [
       "<Figure size 432x288 with 1 Axes>"
      ]
     },
     "metadata": {
      "needs_background": "light"
     },
     "output_type": "display_data"
    },
    {
     "name": "stdout",
     "output_type": "stream",
     "text": [
      "The regression predictions are a moderate approximation of the real data.\n"
     ]
    }
   ],
   "source": [
    "# Print out the r-squared value along with the plot.\n",
    "# Define x and y axis\n",
    "x_values = sh_df['Max Temp']\n",
    "y_values = sh_df['Lat']\n",
    "(slope, intercept, rvalue, pvalue, stderr) = linregress(x_values, y_values)\n",
    "# Regression points\n",
    "regress_values = x_values * slope + intercept\n",
    "# Slope intercept formula\n",
    "line_eq = \"y = \" + str(round(slope,2)) + \"x + \" + str(round(intercept,2))\n",
    "plt.scatter(x_values,y_values)\n",
    "plt.plot(x_values,regress_values,\"r-\")\n",
    "plt.annotate(line_eq,(6,10),fontsize=15,color=\"red\")\n",
    "plt.xlabel('Latitude')\n",
    "plt.ylabel('Max Temp')\n",
    "print(f\"The r-squared is: {rvalue}\")\n",
    "# Save plot to file\n",
    "plt.savefig('SH_Max_Temp_vs_Lat_LR.png')\n",
    "plt.show()\n",
    "print(\"The regression predictions are a moderate approximation of the real data.\")"
   ]
  },
  {
   "cell_type": "markdown",
   "metadata": {},
   "source": [
    "####  Northern Hemisphere - Humidity (%) vs. Latitude Linear Regression"
   ]
  },
  {
   "cell_type": "code",
   "execution_count": 15,
   "metadata": {},
   "outputs": [
    {
     "name": "stdout",
     "output_type": "stream",
     "text": [
      "The r-squared is: 0.32436837153608844\n"
     ]
    },
    {
     "data": {
      "image/png": "[encoded data removed]",
      "text/plain": [
       "<Figure size 432x288 with 1 Axes>"
      ]
     },
     "metadata": {
      "needs_background": "light"
     },
     "output_type": "display_data"
    },
    {
     "name": "stdout",
     "output_type": "stream",
     "text": [
      "The regression predictions are a poor approximation of the real data.\n"
     ]
    }
   ],
   "source": [
    "# Print out the r-squared value along with the plot.\n",
    "# Define x and y values\n",
    "x_values = nh_df['Humidity']\n",
    "y_values = nh_df['Lat']\n",
    "(slope, intercept, rvalue, pvalue, stderr) = linregress(x_values, y_values)\n",
    "# Regression points\n",
    "regress_values = x_values * slope + intercept\n",
    "# Slope intercept formula\n",
    "line_eq = \"y = \" + str(round(slope,2)) + \"x + \" + str(round(intercept,2))\n",
    "plt.scatter(x_values,y_values)\n",
    "plt.plot(x_values,regress_values,\"r-\")\n",
    "plt.annotate(line_eq,(6,10),fontsize=15,color=\"red\")\n",
    "plt.xlabel('Latitude')\n",
    "plt.ylabel('Max Temp')\n",
    "print(f\"The r-squared is: {rvalue}\")\n",
    "# Save plot to a file\n",
    "plt.savefig('NH_Humidity_vs_Lat_LR.png')\n",
    "plt.show()\n",
    "print(\"The regression predictions are a poor approximation of the real data.\")"
   ]
  },
  {
   "cell_type": "markdown",
   "metadata": {},
   "source": [
    "####  Southern Hemisphere - Humidity (%) vs. Latitude Linear Regression"
   ]
  },
  {
   "cell_type": "code",
   "execution_count": 16,
   "metadata": {},
   "outputs": [
    {
     "name": "stdout",
     "output_type": "stream",
     "text": [
      "The r-squared is: 0.18341981058260493\n"
     ]
    },
    {
     "data": {
      "image/png": "[encoded data removed]",
      "text/plain": [
       "<Figure size 432x288 with 1 Axes>"
      ]
     },
     "metadata": {
      "needs_background": "light"
     },
     "output_type": "display_data"
    },
    {
     "name": "stdout",
     "output_type": "stream",
     "text": [
      "The regression predictions are a poor approximation of the real data.\n"
     ]
    }
   ],
   "source": [
    "# Print out the r-squared value along with the plot.\n",
    "# Define x and y axis\n",
    "x_values = sh_df['Humidity']\n",
    "y_values = sh_df['Lat']\n",
    "(slope, intercept, rvalue, pvalue, stderr) = linregress(x_values, y_values)\n",
    "# Regression points\n",
    "regress_values = x_values * slope + intercept\n",
    "# Slope intercept formula\n",
    "line_eq = \"y = \" + str(round(slope,2)) + \"x + \" + str(round(intercept,2))\n",
    "plt.scatter(x_values,y_values)\n",
    "plt.plot(x_values,regress_values,\"r-\")\n",
    "plt.annotate(line_eq,(6,10),fontsize=15,color=\"red\")\n",
    "plt.xlabel('Latitude')\n",
    "plt.ylabel('Max Temp')\n",
    "print(f\"The r-squared is: {rvalue}\")\n",
    "# Save plot to a file\n",
    "plt.savefig('SH_Humidity_vs_Lat_LR.png')\n",
    "plt.show()\n",
    "print(\"The regression predictions are a poor approximation of the real data.\")"
   ]
  },
  {
   "cell_type": "markdown",
   "metadata": {},
   "source": [
    "####  Northern Hemisphere - Cloudiness (%) vs. Latitude Linear Regression"
   ]
  },
  {
   "cell_type": "code",
   "execution_count": 17,
   "metadata": {},
   "outputs": [
    {
     "name": "stdout",
     "output_type": "stream",
     "text": [
      "The r-squared is: 0.2557151171608317\n"
     ]
    },
    {
     "data": {
      "image/png": "[encoded data removed]",
      "text/plain": [
       "<Figure size 432x288 with 1 Axes>"
      ]
     },
     "metadata": {
      "needs_background": "light"
     },
     "output_type": "display_data"
    },
    {
     "name": "stdout",
     "output_type": "stream",
     "text": [
      "The regression predictions are a poor approximation of the real data.\n"
     ]
    }
   ],
   "source": [
    "# Print out the r-squared value along with the plot.\n",
    "# Define x and y axis\n",
    "x_values = nh_df['Cloudiness']\n",
    "y_values = nh_df['Lat']\n",
    "(slope, intercept, rvalue, pvalue, stderr) = linregress(x_values, y_values)\n",
    "# Regression points\n",
    "regress_values = x_values * slope + intercept\n",
    "# Slope intercept formula\n",
    "line_eq = \"y = \" + str(round(slope,2)) + \"x + \" + str(round(intercept,2))\n",
    "plt.scatter(x_values,y_values)\n",
    "plt.plot(x_values,regress_values,\"r-\")\n",
    "plt.annotate(line_eq,(6,10),fontsize=15,color=\"red\")\n",
    "plt.xlabel('Latitude')\n",
    "plt.ylabel('Max Temp')\n",
    "print(f\"The r-squared is: {rvalue}\")\n",
    "# Save plot to a file\n",
    "plt.savefig('NH_Cloudiness_vs_Lat_LR.png')\n",
    "plt.show()\n",
    "print(\"The regression predictions are a poor approximation of the real data.\")"
   ]
  },
  {
   "cell_type": "markdown",
   "metadata": {},
   "source": [
    "####  Southern Hemisphere - Cloudiness (%) vs. Latitude Linear Regression"
   ]
  },
  {
   "cell_type": "code",
   "execution_count": 18,
   "metadata": {},
   "outputs": [
    {
     "name": "stdout",
     "output_type": "stream",
     "text": [
      "The r-squared is: 0.2327367163032807\n"
     ]
    },
    {
     "data": {
      "image/png": "[encoded data removed]",
      "text/plain": [
       "<Figure size 432x288 with 1 Axes>"
      ]
     },
     "metadata": {
      "needs_background": "light"
     },
     "output_type": "display_data"
    },
    {
     "name": "stdout",
     "output_type": "stream",
     "text": [
      "The regression predictions are a poor approximation of the real data.\n"
     ]
    }
   ],
   "source": [
    "# Print out the r-squared value along with the plot.\n",
    "# Define x and y axis\n",
    "x_values = sh_df['Cloudiness']\n",
    "y_values = sh_df['Lat']\n",
    "(slope, intercept, rvalue, pvalue, stderr) = linregress(x_values, y_values)\n",
    "# Regression points\n",
    "regress_values = x_values * slope + intercept\n",
    "# Slope intercept formula\n",
    "line_eq = \"y = \" + str(round(slope,2)) + \"x + \" + str(round(intercept,2))\n",
    "plt.scatter(x_values,y_values)\n",
    "plt.plot(x_values,regress_values,\"r-\")\n",
    "plt.annotate(line_eq,(6,10),fontsize=15,color=\"red\")\n",
    "plt.xlabel('Latitude')\n",
    "plt.ylabel('Max Temp')\n",
    "print(f\"The r-squared is: {rvalue}\")\n",
    "# Save plot to a file\n",
    "plt.savefig('SH_Cloudiness_vs_Lat_LR.png')\n",
    "plt.show()\n",
    "print(\"The regression predictions are a poor approximation of the real data.\")"
   ]
  },
  {
   "cell_type": "markdown",
   "metadata": {},
   "source": [
    "####  Northern Hemisphere - Wind Speed (mph) vs. Latitude Linear Regression"
   ]
  },
  {
   "cell_type": "code",
   "execution_count": 19,
   "metadata": {},
   "outputs": [
    {
     "name": "stdout",
     "output_type": "stream",
     "text": [
      "The r-squared is: 0.1374840409795438\n"
     ]
    },
    {
     "data": {
      "image/png": "[encoded data removed]",
      "text/plain": [
       "<Figure size 432x288 with 1 Axes>"
      ]
     },
     "metadata": {
      "needs_background": "light"
     },
     "output_type": "display_data"
    },
    {
     "name": "stdout",
     "output_type": "stream",
     "text": [
      "The regression predictions are a poor approximation of the real data.\n"
     ]
    }
   ],
   "source": [
    "# Print out the r-squared value along with the plot.\n",
    "# Define the x and y axis\n",
    "x_values = nh_df['Wind Speed']\n",
    "y_values = nh_df['Lat']\n",
    "(slope, intercept, rvalue, pvalue, stderr) = linregress(x_values, y_values)\n",
    "# Regression points\n",
    "regress_values = x_values * slope + intercept\n",
    "line_eq = \"y = \" + str(round(slope,2)) + \"x + \" + str(round(intercept,2))\n",
    "plt.scatter(x_values,y_values)\n",
    "plt.plot(x_values,regress_values,\"r-\")\n",
    "plt.annotate(line_eq,(6,10),fontsize=15,color=\"red\")\n",
    "plt.xlabel('Latitude')\n",
    "plt.ylabel('Max Temp')\n",
    "print(f\"The r-squared is: {rvalue}\")\n",
    "# Save plot to a file\n",
    "plt.savefig('NH_Wind_Speed_vs_Lat_LR.png')\n",
    "plt.show()\n",
    "print(\"The regression predictions are a poor approximation of the real data.\")"
   ]
  },
  {
   "cell_type": "markdown",
   "metadata": {},
   "source": [
    "####  Southern Hemisphere - Wind Speed (mph) vs. Latitude Linear Regression"
   ]
  },
  {
   "cell_type": "code",
   "execution_count": 20,
   "metadata": {},
   "outputs": [
    {
     "name": "stdout",
     "output_type": "stream",
     "text": [
      "The r-squared is: -0.25697860304139597\n"
     ]
    },
    {
     "data": {
      "image/png": "[encoded data removed]",
      "text/plain": [
       "<Figure size 432x288 with 1 Axes>"
      ]
     },
     "metadata": {
      "needs_background": "light"
     },
     "output_type": "display_data"
    },
    {
     "name": "stdout",
     "output_type": "stream",
     "text": [
      "The regression predictions are a poor approximation of the real data.\n"
     ]
    }
   ],
   "source": [
    "# Print out the r-squared value along with the plot.\n",
    "# Define x and y axis\n",
    "x_values = sh_df['Wind Speed']\n",
    "y_values = sh_df['Lat']\n",
    "(slope, intercept, rvalue, pvalue, stderr) = linregress(x_values, y_values)\n",
    "# Regression points\n",
    "regress_values = x_values * slope + intercept\n",
    "# Slope intercept formula\n",
    "line_eq = \"y = \" + str(round(slope,2)) + \"x + \" + str(round(intercept,2))\n",
    "plt.scatter(x_values,y_values)\n",
    "plt.plot(x_values,regress_values,\"r-\")\n",
    "plt.annotate(line_eq,(6,10),fontsize=15,color=\"red\")\n",
    "plt.xlabel('Latitude')\n",
    "plt.ylabel('Max Temp')\n",
    "print(f\"The r-squared is: {rvalue}\")\n",
    "# Save plot to a file\n",
    "plt.savefig('SH_Wind_Speed_vs_Lat_LR.png')\n",
    "plt.show()\n",
    "print(\"The regression predictions are a poor approximation of the real data.\")"
   ]
  },
  {
   "cell_type": "code",
   "execution_count": null,
   "metadata": {},
   "outputs": [],
   "source": []
  },
  {
   "cell_type": "code",
   "execution_count": null,
   "metadata": {},
   "outputs": [],
   "source": []
  }
 ],
 "metadata": {
  "anaconda-cloud": {},
  "kernel_info": {
   "name": "python3"
  },
  "kernelspec": {
   "display_name": "Python 3",
   "language": "python",
   "name": "python3"
  },
  "language_info": {
   "codemirror_mode": {
    "name": "ipython",
    "version": 3
   },
   "file_extension": ".py",
   "mimetype": "text/x-python",
   "name": "python",
   "nbconvert_exporter": "python",
   "pygments_lexer": "ipython3",
   "version": "3.7.4"
  },
  "latex_envs": {
   "LaTeX_envs_menu_present": true,
   "autoclose": false,
   "autocomplete": true,
   "bibliofile": "biblio.bib",
   "cite_by": "apalike",
   "current_citInitial": 1,
   "eqLabelWithNumbers": true,
   "eqNumInitial": 1,
   "hotkeys": {
    "equation": "Ctrl-E",
    "itemize": "Ctrl-I"
   },
   "labels_anchors": false,
   "latex_user_defs": false,
   "report_style_numbering": false,
   "user_envs_cfg": false
  },
  "nteract": {
   "version": "0.12.3"
  }
 },
 "nbformat": 4,
 "nbformat_minor": 2
}

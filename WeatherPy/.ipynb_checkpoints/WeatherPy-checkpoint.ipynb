{
 "cells": [
  {
   "cell_type": "markdown",
   "metadata": {},
   "source": [
    "# WeatherPy\n",
    "----\n",
    "\n",
    "#### Note\n",
    "* Instructions have been included for each segment. You do not have to follow them exactly, but they are included to help you think through the steps."
   ]
  },
  {
   "cell_type": "code",
   "execution_count": 2,
   "metadata": {
    "scrolled": true
   },
   "outputs": [],
   "source": [
    "# Dependencies and Setup\n",
    "import matplotlib.pyplot as plt\n",
    "import pandas as pd\n",
    "import numpy as np\n",
    "import requests\n",
    "import time\n",
    "from scipy.stats import linregress\n",
    "\n",
    "# Import API key\n",
    "from api_keys import weather_api_key\n",
    "\n",
    "# Incorporated citipy to determine city based on latitude and longitude\n",
    "from citipy import citipy\n",
    "\n",
    "# Output File (CSV)\n",
    "output_data_file = \"output_data/cities.csv\"\n",
    "\n",
    "# Range of latitudes and longitudes\n",
    "lat_range = (-90, 90)\n",
    "lng_range = (-180, 180)"
   ]
  },
  {
   "cell_type": "markdown",
   "metadata": {},
   "source": [
    "## Generate Cities List"
   ]
  },
  {
   "cell_type": "code",
   "execution_count": 3,
   "metadata": {},
   "outputs": [
    {
     "data": {
      "text/plain": [
       "609"
      ]
     },
     "execution_count": 3,
     "metadata": {},
     "output_type": "execute_result"
    }
   ],
   "source": [
    "# List for holding lat_lngs and cities\n",
    "lat_lngs = []\n",
    "cities = []\n",
    "\n",
    "# Create a set of random lat and lng combinations\n",
    "lats = np.random.uniform(low=-90.000, high=90.000, size=1500)\n",
    "lngs = np.random.uniform(low=-180.000, high=180.000, size=1500)\n",
    "lat_lngs = zip(lats, lngs)\n",
    "\n",
    "# Identify nearest city for each lat, lng combination\n",
    "for lat_lng in lat_lngs:\n",
    "    city = citipy.nearest_city(lat_lng[0], lat_lng[1]).city_name\n",
    "    \n",
    "    # If the city is unique, then add it to a our cities list\n",
    "    if city not in cities:\n",
    "        cities.append(city)\n",
    "\n",
    "# Print the city count to confirm sufficient count\n",
    "len(cities)"
   ]
  },
  {
   "cell_type": "code",
   "execution_count": 4,
   "metadata": {},
   "outputs": [
    {
     "data": {
      "text/html": [
       "<div>\n",
       "<style scoped>\n",
       "    .dataframe tbody tr th:only-of-type {\n",
       "        vertical-align: middle;\n",
       "    }\n",
       "\n",
       "    .dataframe tbody tr th {\n",
       "        vertical-align: top;\n",
       "    }\n",
       "\n",
       "    .dataframe thead th {\n",
       "        text-align: right;\n",
       "    }\n",
       "</style>\n",
       "<table border=\"1\" class=\"dataframe\">\n",
       "  <thead>\n",
       "    <tr style=\"text-align: right;\">\n",
       "      <th></th>\n",
       "      <th>City</th>\n",
       "    </tr>\n",
       "  </thead>\n",
       "  <tbody>\n",
       "    <tr>\n",
       "      <td>0</td>\n",
       "      <td>qaanaaq</td>\n",
       "    </tr>\n",
       "    <tr>\n",
       "      <td>1</td>\n",
       "      <td>kirya</td>\n",
       "    </tr>\n",
       "    <tr>\n",
       "      <td>2</td>\n",
       "      <td>isangel</td>\n",
       "    </tr>\n",
       "    <tr>\n",
       "      <td>3</td>\n",
       "      <td>college</td>\n",
       "    </tr>\n",
       "    <tr>\n",
       "      <td>4</td>\n",
       "      <td>san pedro</td>\n",
       "    </tr>\n",
       "    <tr>\n",
       "      <td>...</td>\n",
       "      <td>...</td>\n",
       "    </tr>\n",
       "    <tr>\n",
       "      <td>604</td>\n",
       "      <td>madang</td>\n",
       "    </tr>\n",
       "    <tr>\n",
       "      <td>605</td>\n",
       "      <td>jabiru</td>\n",
       "    </tr>\n",
       "    <tr>\n",
       "      <td>606</td>\n",
       "      <td>qandala</td>\n",
       "    </tr>\n",
       "    <tr>\n",
       "      <td>607</td>\n",
       "      <td>camacha</td>\n",
       "    </tr>\n",
       "    <tr>\n",
       "      <td>608</td>\n",
       "      <td>west odessa</td>\n",
       "    </tr>\n",
       "  </tbody>\n",
       "</table>\n",
       "<p>609 rows × 1 columns</p>\n",
       "</div>"
      ],
      "text/plain": [
       "            City\n",
       "0        qaanaaq\n",
       "1          kirya\n",
       "2        isangel\n",
       "3        college\n",
       "4      san pedro\n",
       "..           ...\n",
       "604       madang\n",
       "605       jabiru\n",
       "606      qandala\n",
       "607      camacha\n",
       "608  west odessa\n",
       "\n",
       "[609 rows x 1 columns]"
      ]
     },
     "execution_count": 4,
     "metadata": {},
     "output_type": "execute_result"
    }
   ],
   "source": [
    "# Create a dataframe from cities list\n",
    "cities_df = pd.DataFrame(cities, columns =['City'])                                           \n",
    "cities_df "
   ]
  },
  {
   "cell_type": "markdown",
   "metadata": {},
   "source": [
    "### Perform API Calls\n",
    "* Perform a weather check on each city using a series of successive API calls.\n",
    "* Include a print log of each city as it'sbeing processed (with the city number and city name).\n"
   ]
  },
  {
   "cell_type": "code",
   "execution_count": 5,
   "metadata": {},
   "outputs": [
    {
     "name": "stdout",
     "output_type": "stream",
     "text": [
      "Now retrieving city #0: qaanaaq\n",
      "Now retrieving city #1: kirya\n"
     ]
    },
    {
     "name": "stderr",
     "output_type": "stream",
     "text": [
      "C:\\ProgramData\\Anaconda3\\lib\\site-packages\\ipykernel_launcher.py:48: FutureWarning: set_value is deprecated and will be removed in a future release. Please use .at[] or .iat[] accessors instead\n",
      "C:\\ProgramData\\Anaconda3\\lib\\site-packages\\ipykernel_launcher.py:49: FutureWarning: set_value is deprecated and will be removed in a future release. Please use .at[] or .iat[] accessors instead\n",
      "C:\\ProgramData\\Anaconda3\\lib\\site-packages\\ipykernel_launcher.py:50: FutureWarning: set_value is deprecated and will be removed in a future release. Please use .at[] or .iat[] accessors instead\n",
      "C:\\ProgramData\\Anaconda3\\lib\\site-packages\\ipykernel_launcher.py:51: FutureWarning: set_value is deprecated and will be removed in a future release. Please use .at[] or .iat[] accessors instead\n",
      "C:\\ProgramData\\Anaconda3\\lib\\site-packages\\ipykernel_launcher.py:52: FutureWarning: set_value is deprecated and will be removed in a future release. Please use .at[] or .iat[] accessors instead\n",
      "C:\\ProgramData\\Anaconda3\\lib\\site-packages\\ipykernel_launcher.py:53: FutureWarning: set_value is deprecated and will be removed in a future release. Please use .at[] or .iat[] accessors instead\n",
      "C:\\ProgramData\\Anaconda3\\lib\\site-packages\\ipykernel_launcher.py:54: FutureWarning: set_value is deprecated and will be removed in a future release. Please use .at[] or .iat[] accessors instead\n",
      "C:\\ProgramData\\Anaconda3\\lib\\site-packages\\ipykernel_launcher.py:55: FutureWarning: set_value is deprecated and will be removed in a future release. Please use .at[] or .iat[] accessors instead\n"
     ]
    },
    {
     "name": "stdout",
     "output_type": "stream",
     "text": [
      "Now retrieving city #2: isangel\n",
      "Now retrieving city #3: college\n",
      "Now retrieving city #4: san pedro\n",
      "Now retrieving city #5: ambon\n",
      "Now retrieving city #6: arraial do cabo\n",
      "Now retrieving city #7: karamea\n",
      "City not found. Skipping...\n",
      "Now retrieving city #8: fairbanks\n",
      "Now retrieving city #9: klaksvik\n",
      "Now retrieving city #10: saldanha\n",
      "Now retrieving city #11: kodiak\n",
      "Now retrieving city #12: rio gallegos\n",
      "Now retrieving city #13: stornoway\n",
      "Now retrieving city #14: zhigalovo\n",
      "Now retrieving city #15: sorong\n",
      "Now retrieving city #16: tessalit\n",
      "Now retrieving city #17: tilichiki\n",
      "Now retrieving city #18: vaini\n",
      "Now retrieving city #19: alyangula\n",
      "Now retrieving city #20: codrington\n",
      "Now retrieving city #21: nandurbar\n",
      "Now retrieving city #22: kapaa\n",
      "Now retrieving city #23: daru\n",
      "Now retrieving city #24: barrow\n",
      "Now retrieving city #25: busselton\n",
      "Now retrieving city #26: nikolskoye\n",
      "Now retrieving city #27: tiznit\n",
      "Now retrieving city #28: vaitupu\n",
      "City not found. Skipping...\n",
      "Now retrieving city #29: tasiilaq\n",
      "Now retrieving city #30: jamestown\n",
      "Now retrieving city #31: celestun\n",
      "Now retrieving city #32: castro\n",
      "Now retrieving city #33: georgetown\n",
      "Now retrieving city #34: puerto ayora\n",
      "Now retrieving city #35: thompson\n",
      "Now retrieving city #36: cherskiy\n",
      "Now retrieving city #37: kropotkin\n",
      "Now retrieving city #38: kannur\n",
      "Now retrieving city #39: ribeira grande\n",
      "Now retrieving city #40: punta arenas\n",
      "Now retrieving city #41: attawapiskat\n",
      "City not found. Skipping...\n",
      "Now retrieving city #42: rikitea\n",
      "Now retrieving city #43: padang\n",
      "Now retrieving city #44: ushuaia\n",
      "Now retrieving city #45: maragogi\n",
      "Now retrieving city #46: walvis bay\n",
      "Now retrieving city #47: marcona\n",
      "City not found. Skipping...\n",
      "Now retrieving city #48: paungde\n",
      "Now retrieving city #49: nicolas bravo\n",
      "Now retrieving city #50: mataura\n",
      "Now retrieving city #51: new norfolk\n",
      "Now retrieving city #52: ponta do sol\n",
      "Now retrieving city #53: cidreira\n",
      "Now retrieving city #54: hermanus\n",
      "Now retrieving city #55: albany\n",
      "Now retrieving city #56: dujuma\n",
      "City not found. Skipping...\n",
      "Now retrieving city #57: rapid valley\n",
      "Now retrieving city #58: pevek\n",
      "Now retrieving city #59: mount isa\n",
      "Now retrieving city #60: acajutla\n",
      "Now retrieving city #61: lorengau\n",
      "Now retrieving city #62: makung\n",
      "City not found. Skipping...\n",
      "Now retrieving city #63: san andres\n",
      "Now retrieving city #64: providencia\n",
      "Now retrieving city #65: hithadhoo\n",
      "Now retrieving city #66: ancud\n",
      "Now retrieving city #67: east london\n",
      "Now retrieving city #68: kruisfontein\n",
      "Now retrieving city #69: upernavik\n",
      "Now retrieving city #70: rocha\n",
      "Now retrieving city #71: hobart\n",
      "Now retrieving city #72: mehamn\n",
      "Now retrieving city #73: baturaja\n",
      "Now retrieving city #74: barentsburg\n",
      "City not found. Skipping...\n",
      "Now retrieving city #75: karratha\n",
      "Now retrieving city #76: frontera\n",
      "Now retrieving city #77: karasjok\n",
      "Now retrieving city #78: kamenskoye\n",
      "City not found. Skipping...\n",
      "Now retrieving city #79: belushya guba\n",
      "City not found. Skipping...\n",
      "Now retrieving city #80: dong xoai\n",
      "Now retrieving city #81: dikson\n",
      "Now retrieving city #82: esperance\n",
      "Now retrieving city #83: vrangel\n",
      "Now retrieving city #84: lavrentiya\n",
      "Now retrieving city #85: jilin\n",
      "Now retrieving city #86: buraydah\n",
      "Now retrieving city #87: taolanaro\n",
      "City not found. Skipping...\n",
      "Now retrieving city #88: bengkulu\n",
      "Now retrieving city #89: alenquer\n",
      "Now retrieving city #90: suchil\n",
      "Now retrieving city #91: provideniya\n",
      "Now retrieving city #92: sitka\n",
      "Now retrieving city #93: yumen\n",
      "Now retrieving city #94: atuona\n",
      "Now retrieving city #95: oinacu\n",
      "Now retrieving city #96: luanda\n",
      "Now retrieving city #97: nuevo imperial\n",
      "Now retrieving city #98: amderma\n",
      "City not found. Skipping...\n",
      "Now retrieving city #99: port hardy\n",
      "Now retrieving city #100: cape town\n",
      "Now retrieving city #101: mahebourg\n",
      "Now retrieving city #102: khatanga\n",
      "Now retrieving city #103: ardakan\n",
      "Now retrieving city #104: tual\n",
      "Now retrieving city #105: bluff\n",
      "Now retrieving city #106: lebu\n",
      "Now retrieving city #107: nizhniy kuranakh\n",
      "Now retrieving city #108: avigliano\n",
      "Now retrieving city #109: khanpur\n",
      "Now retrieving city #110: yerbogachen\n",
      "Now retrieving city #111: pangoa\n",
      "Now retrieving city #112: vardo\n",
      "Now retrieving city #113: longyearbyen\n",
      "Now retrieving city #114: morondava\n",
      "Now retrieving city #115: souillac\n",
      "Now retrieving city #116: tonstad\n",
      "Now retrieving city #117: haverfordwest\n",
      "Now retrieving city #118: scottsburgh\n",
      "City not found. Skipping...\n",
      "Now retrieving city #119: kyzyl\n",
      "Now retrieving city #120: moron\n",
      "Now retrieving city #121: mrirt\n",
      "City not found. Skipping...\n",
      "Now retrieving city #122: gobabis\n",
      "Now retrieving city #123: mys shmidta\n",
      "City not found. Skipping...\n",
      "Now retrieving city #124: bubaque\n",
      "Now retrieving city #125: ngukurr\n",
      "City not found. Skipping...\n",
      "Now retrieving city #126: hilo\n",
      "Now retrieving city #127: kushiro\n",
      "Now retrieving city #128: fort nelson\n",
      "Now retrieving city #129: qaqortoq\n",
      "Now retrieving city #130: do gonbadan\n",
      "Now retrieving city #131: yekaterinoslavka\n",
      "Now retrieving city #132: zemio\n",
      "Now retrieving city #133: lastoursville\n",
      "Now retrieving city #134: salisbury\n",
      "Now retrieving city #135: makakilo city\n",
      "Now retrieving city #136: warman\n",
      "Now retrieving city #137: iqaluit\n",
      "Now retrieving city #138: mar del plata\n",
      "Now retrieving city #139: vanimo\n",
      "Now retrieving city #140: bredasdorp\n",
      "Now retrieving city #141: mahadday weyne\n",
      "City not found. Skipping...\n",
      "Now retrieving city #142: havre-saint-pierre\n",
      "Now retrieving city #143: narsaq\n",
      "Now retrieving city #144: bedford\n",
      "Now retrieving city #145: antalaha\n",
      "Now retrieving city #146: kupang\n",
      "Now retrieving city #147: alice springs\n",
      "Now retrieving city #148: avarua\n",
      "Now retrieving city #149: goundi\n",
      "Now retrieving city #150: weihai\n",
      "Now retrieving city #151: muros\n",
      "Now retrieving city #152: margate\n",
      "Now retrieving city #153: hualmay\n",
      "Now retrieving city #154: samusu\n",
      "City not found. Skipping...\n",
      "Now retrieving city #155: astoria\n",
      "Now retrieving city #156: butaritari\n",
      "Now retrieving city #157: carballo\n",
      "Now retrieving city #158: sao filipe\n",
      "Now retrieving city #159: dudinka\n",
      "Now retrieving city #160: ekhabi\n",
      "Now retrieving city #161: tabarqah\n",
      "City not found. Skipping...\n",
      "Now retrieving city #162: torit\n",
      "Now retrieving city #163: elko\n",
      "Now retrieving city #164: chokurdakh\n",
      "Now retrieving city #165: linjiang\n",
      "Now retrieving city #166: huazolotitlan\n",
      "City not found. Skipping...\n",
      "Now retrieving city #167: gamba\n",
      "Now retrieving city #168: bira\n",
      "Now retrieving city #169: baldone\n",
      "Now retrieving city #170: lolua\n",
      "City not found. Skipping...\n",
      "Now retrieving city #171: crateus\n",
      "Now retrieving city #172: port alfred\n",
      "Now retrieving city #173: chilca\n",
      "Now retrieving city #174: turka\n",
      "Now retrieving city #175: erenhot\n",
      "Now retrieving city #176: saint-philippe\n",
      "Now retrieving city #177: pacific grove\n",
      "Now retrieving city #178: goderich\n",
      "Now retrieving city #179: bela\n",
      "Now retrieving city #180: culebra\n",
      "Now retrieving city #181: mendi\n",
      "Now retrieving city #182: port-gentil\n",
      "Now retrieving city #183: carutapera\n",
      "Now retrieving city #184: jian\n",
      "Now retrieving city #185: otradnyy\n",
      "Now retrieving city #186: torbay\n",
      "Now retrieving city #187: ratnapura\n",
      "Now retrieving city #188: channel-port aux basques\n",
      "Now retrieving city #189: cape coast\n",
      "Now retrieving city #190: hay river\n",
      "Now retrieving city #191: norman wells\n",
      "Now retrieving city #192: airai\n",
      "Now retrieving city #193: victor harbor\n",
      "Now retrieving city #194: ilulissat\n",
      "Now retrieving city #195: bereda\n",
      "Now retrieving city #196: pimentel\n",
      "Now retrieving city #197: akureyri\n",
      "Now retrieving city #198: borama\n",
      "City not found. Skipping...\n",
      "Now retrieving city #199: lompoc\n",
      "Now retrieving city #200: cachoeiras de macacu\n",
      "Now retrieving city #201: cacapava do sul\n",
      "Now retrieving city #202: saint george\n",
      "Now retrieving city #203: faanui\n",
      "Now retrieving city #204: honningsvag\n",
      "Now retrieving city #205: yellowknife\n",
      "Now retrieving city #206: velsk\n",
      "Now retrieving city #207: tsihombe\n",
      "City not found. Skipping...\n",
      "Now retrieving city #208: stykkisholmur\n",
      "Now retrieving city #209: kumbo\n",
      "Now retrieving city #210: bathsheba\n",
      "Now retrieving city #211: broken hill\n",
      "Now retrieving city #212: illoqqortoormiut\n",
      "City not found. Skipping...\n",
      "Now retrieving city #213: coihaique\n",
      "Now retrieving city #214: biak\n",
      "Now retrieving city #215: mullaitivu\n",
      "City not found. Skipping...\n",
      "Now retrieving city #216: mwinilunga\n",
      "Now retrieving city #217: churapcha\n"
     ]
    },
    {
     "name": "stdout",
     "output_type": "stream",
     "text": [
      "Now retrieving city #218: mirnyy\n",
      "Now retrieving city #219: gazli\n",
      "Now retrieving city #220: caxito\n",
      "Now retrieving city #221: volot\n",
      "Now retrieving city #222: lasa\n",
      "Now retrieving city #223: grand river south east\n",
      "City not found. Skipping...\n",
      "Now retrieving city #224: zeerust\n",
      "Now retrieving city #225: tapes\n",
      "Now retrieving city #226: grimari\n",
      "City not found. Skipping...\n",
      "Now retrieving city #227: namatanai\n",
      "Now retrieving city #228: sangar\n",
      "Now retrieving city #229: vao\n",
      "Now retrieving city #230: kennebunk\n",
      "Now retrieving city #231: saskylakh\n",
      "Now retrieving city #232: pisco\n",
      "Now retrieving city #233: lethem\n",
      "Now retrieving city #234: vila franca do campo\n",
      "Now retrieving city #235: dasoguz\n",
      "Now retrieving city #236: lumphat\n",
      "Now retrieving city #237: singarayakonda\n",
      "Now retrieving city #238: port shepstone\n",
      "Now retrieving city #239: la baule-escoublac\n",
      "Now retrieving city #240: anadyr\n",
      "Now retrieving city #241: kilindoni\n",
      "Now retrieving city #242: yirol\n",
      "City not found. Skipping...\n",
      "Now retrieving city #243: tautira\n",
      "Now retrieving city #244: kaeo\n",
      "Now retrieving city #245: aswan\n",
      "Now retrieving city #246: alim\n",
      "Now retrieving city #247: vestmanna\n",
      "Now retrieving city #248: port lincoln\n",
      "Now retrieving city #249: grand gaube\n",
      "Now retrieving city #250: atar\n",
      "Now retrieving city #251: quebec\n",
      "Now retrieving city #252: salto del guaira\n",
      "Now retrieving city #253: iquitos\n",
      "Now retrieving city #254: cortez\n",
      "Now retrieving city #255: salalah\n",
      "Now retrieving city #256: saint-joseph\n",
      "Now retrieving city #257: bac lieu\n",
      "Now retrieving city #258: upata\n",
      "Now retrieving city #259: acapulco\n",
      "Now retrieving city #260: maarianhamina\n",
      "Now retrieving city #261: hofn\n",
      "Now retrieving city #262: san patricio\n",
      "Now retrieving city #263: rosario\n",
      "Now retrieving city #264: carnarvon\n",
      "Now retrieving city #265: geraldton\n",
      "Now retrieving city #266: sumbawa\n",
      "City not found. Skipping...\n",
      "Now retrieving city #267: aksay\n",
      "Now retrieving city #268: suntar\n",
      "Now retrieving city #269: yangshe\n",
      "Now retrieving city #270: korla\n",
      "Now retrieving city #271: palana\n",
      "Now retrieving city #272: urdoma\n",
      "Now retrieving city #273: sentyabrskiy\n",
      "City not found. Skipping...\n",
      "Now retrieving city #274: zmievka\n",
      "City not found. Skipping...\n",
      "Now retrieving city #275: aberdeen\n",
      "Now retrieving city #276: kavaratti\n",
      "Now retrieving city #277: saint anthony\n",
      "Now retrieving city #278: tura\n",
      "Now retrieving city #279: rawson\n",
      "Now retrieving city #280: itarema\n",
      "Now retrieving city #281: teya\n",
      "Now retrieving city #282: la palma\n",
      "Now retrieving city #283: fortuna\n",
      "Now retrieving city #284: byumba\n",
      "Now retrieving city #285: ozgon\n",
      "City not found. Skipping...\n",
      "Now retrieving city #286: una\n",
      "Now retrieving city #287: tatarskaya kargala\n",
      "Now retrieving city #288: waterloo\n",
      "Now retrieving city #289: gravdal\n",
      "Now retrieving city #290: marsaxlokk\n",
      "Now retrieving city #291: dhidhdhoo\n",
      "Now retrieving city #292: chagda\n",
      "City not found. Skipping...\n",
      "Now retrieving city #293: vila\n",
      "Now retrieving city #294: lipari\n",
      "Now retrieving city #295: leningradskiy\n",
      "Now retrieving city #296: sur\n",
      "Now retrieving city #297: addi ugri\n",
      "City not found. Skipping...\n",
      "Now retrieving city #298: murray bridge\n",
      "Now retrieving city #299: loikaw\n",
      "Now retrieving city #300: fare\n",
      "Now retrieving city #301: muli\n",
      "Now retrieving city #302: maceio\n",
      "Now retrieving city #303: nyurba\n",
      "Now retrieving city #304: russkaya polyana\n",
      "Now retrieving city #305: taraz\n",
      "Now retrieving city #306: sweetwater\n",
      "Now retrieving city #307: abu samrah\n",
      "Now retrieving city #308: bandar penggaram\n",
      "City not found. Skipping...\n",
      "Now retrieving city #309: imbituba\n",
      "Now retrieving city #310: snasa\n",
      "Now retrieving city #311: ostrovnoy\n",
      "Now retrieving city #312: arrifes\n",
      "Now retrieving city #313: kincardine\n",
      "Now retrieving city #314: kamphaeng phet\n",
      "Now retrieving city #315: port elizabeth\n",
      "Now retrieving city #316: touros\n",
      "Now retrieving city #317: olafsvik\n",
      "Now retrieving city #318: los angeles\n",
      "Now retrieving city #319: iwanai\n",
      "Now retrieving city #320: pampa\n",
      "Now retrieving city #321: grand centre\n",
      "City not found. Skipping...\n",
      "Now retrieving city #322: ryotsu\n",
      "Now retrieving city #323: srednekolymsk\n",
      "Now retrieving city #324: quatre cocos\n",
      "Now retrieving city #325: yulara\n",
      "Now retrieving city #326: guelengdeng\n",
      "City not found. Skipping...\n",
      "Now retrieving city #327: muzhi\n",
      "Now retrieving city #328: birnin kebbi\n",
      "Now retrieving city #329: kuche\n",
      "City not found. Skipping...\n",
      "Now retrieving city #330: nong han\n",
      "Now retrieving city #331: honiara\n",
      "Now retrieving city #332: nuuk\n",
      "Now retrieving city #333: green river\n",
      "Now retrieving city #334: los llanos de aridane\n",
      "Now retrieving city #335: kargala\n",
      "Now retrieving city #336: opuwo\n",
      "Now retrieving city #337: raahe\n",
      "Now retrieving city #338: husavik\n",
      "Now retrieving city #339: rancho palos verdes\n",
      "Now retrieving city #340: chaoyang\n",
      "Now retrieving city #341: san policarpo\n",
      "Now retrieving city #342: naryan-mar\n",
      "Now retrieving city #343: toliary\n",
      "City not found. Skipping...\n",
      "Now retrieving city #344: haines junction\n",
      "Now retrieving city #345: taltal\n",
      "Now retrieving city #346: luwuk\n",
      "Now retrieving city #347: lagoa\n",
      "Now retrieving city #348: marawi\n",
      "Now retrieving city #349: san angelo\n",
      "Now retrieving city #350: pouebo\n",
      "Now retrieving city #351: bethel\n",
      "Now retrieving city #352: aklavik\n",
      "Now retrieving city #353: gladstone\n",
      "Now retrieving city #354: kloulklubed\n",
      "Now retrieving city #355: waingapu\n",
      "Now retrieving city #356: la ronge\n",
      "Now retrieving city #357: peniche\n",
      "Now retrieving city #358: tambacounda\n",
      "Now retrieving city #359: rungata\n",
      "City not found. Skipping...\n",
      "Now retrieving city #360: sassandra\n",
      "Now retrieving city #361: sharan\n",
      "Now retrieving city #362: hasaki\n",
      "Now retrieving city #363: umzimvubu\n",
      "City not found. Skipping...\n",
      "Now retrieving city #364: sawtell\n",
      "Now retrieving city #365: seguela\n",
      "Now retrieving city #366: muroto\n",
      "Now retrieving city #367: yenagoa\n",
      "Now retrieving city #368: sumbe\n",
      "Now retrieving city #369: mulchen\n",
      "Now retrieving city #370: camargo\n",
      "Now retrieving city #371: najran\n",
      "Now retrieving city #372: mango\n",
      "Now retrieving city #373: zakharovo\n",
      "Now retrieving city #374: kutum\n",
      "Now retrieving city #375: port hedland\n",
      "Now retrieving city #376: alofi\n",
      "Now retrieving city #377: itaituba\n",
      "Now retrieving city #378: khon buri\n",
      "Now retrieving city #379: northam\n",
      "Now retrieving city #380: nizhneyansk\n",
      "City not found. Skipping...\n",
      "Now retrieving city #381: labutta\n",
      "City not found. Skipping...\n",
      "Now retrieving city #382: hami\n",
      "Now retrieving city #383: tiksi\n",
      "Now retrieving city #384: xushan\n",
      "Now retrieving city #385: westpunt\n",
      "City not found. Skipping...\n",
      "Now retrieving city #386: dong hoi\n",
      "Now retrieving city #387: mitsamiouli\n",
      "Now retrieving city #388: barra patuca\n",
      "Now retrieving city #389: zeya\n",
      "Now retrieving city #390: zyryanka\n",
      "Now retrieving city #391: wundanyi\n",
      "Now retrieving city #392: pecos\n",
      "Now retrieving city #393: tecoanapa\n",
      "Now retrieving city #394: tsienyane\n",
      "City not found. Skipping...\n",
      "Now retrieving city #395: mawlaik\n",
      "Now retrieving city #396: san quintin\n",
      "Now retrieving city #397: ilhabela\n",
      "Now retrieving city #398: chongwe\n",
      "Now retrieving city #399: gien\n",
      "Now retrieving city #400: kavieng\n",
      "Now retrieving city #401: dawei\n",
      "Now retrieving city #402: kinarut\n",
      "Now retrieving city #403: le pradet\n",
      "Now retrieving city #404: cam ranh\n",
      "Now retrieving city #405: namibe\n",
      "Now retrieving city #406: tuatapere\n",
      "Now retrieving city #407: havelock\n",
      "Now retrieving city #408: saryshagan\n",
      "City not found. Skipping...\n",
      "Now retrieving city #409: ambanja\n",
      "Now retrieving city #410: ust-kuyga\n",
      "Now retrieving city #411: pangai\n",
      "Now retrieving city #412: victoria\n",
      "Now retrieving city #413: egvekinot\n",
      "Now retrieving city #414: karkaralinsk\n",
      "City not found. Skipping...\n",
      "Now retrieving city #415: raudeberg\n",
      "Now retrieving city #416: menongue\n",
      "Now retrieving city #417: ulaanbaatar\n",
      "Now retrieving city #418: manaus\n",
      "Now retrieving city #419: skagastrond\n",
      "City not found. Skipping...\n",
      "Now retrieving city #420: chuy\n",
      "Now retrieving city #421: nome\n",
      "Now retrieving city #422: naze\n",
      "Now retrieving city #423: wanning\n",
      "Now retrieving city #424: kalmunai\n",
      "Now retrieving city #425: half moon bay\n",
      "Now retrieving city #426: juba\n",
      "Now retrieving city #427: puerto madryn\n",
      "Now retrieving city #428: yunyang\n",
      "Now retrieving city #429: vestmannaeyjar\n",
      "Now retrieving city #430: omboue\n",
      "Now retrieving city #431: taoudenni\n",
      "Now retrieving city #432: pangody\n",
      "Now retrieving city #433: mayo\n"
     ]
    },
    {
     "name": "stdout",
     "output_type": "stream",
     "text": [
      "Now retrieving city #434: terrak\n",
      "Now retrieving city #435: inta\n",
      "Now retrieving city #436: basco\n",
      "Now retrieving city #437: bakel\n",
      "Now retrieving city #438: nouadhibou\n",
      "Now retrieving city #439: brattvag\n",
      "Now retrieving city #440: kaitangata\n",
      "Now retrieving city #441: hambantota\n",
      "Now retrieving city #442: fredericton\n",
      "Now retrieving city #443: hamilton\n",
      "Now retrieving city #444: diego de almagro\n",
      "Now retrieving city #445: santa maria\n",
      "Now retrieving city #446: puerto escondido\n",
      "Now retrieving city #447: chernushka\n",
      "Now retrieving city #448: sioux lookout\n",
      "Now retrieving city #449: darlowo\n",
      "Now retrieving city #450: lensk\n",
      "Now retrieving city #451: isla vista\n",
      "Now retrieving city #452: kishi\n",
      "Now retrieving city #453: cabo san lucas\n",
      "Now retrieving city #454: evensk\n",
      "Now retrieving city #455: mazagao\n",
      "Now retrieving city #456: severo-kurilsk\n",
      "Now retrieving city #457: hobyo\n",
      "Now retrieving city #458: berlevag\n",
      "Now retrieving city #459: sherbakul\n",
      "Now retrieving city #460: bambari\n",
      "Now retrieving city #461: inongo\n",
      "Now retrieving city #462: tiarei\n",
      "Now retrieving city #463: morgan city\n",
      "Now retrieving city #464: kahului\n",
      "Now retrieving city #465: maumere\n",
      "Now retrieving city #466: el faiyum\n",
      "City not found. Skipping...\n",
      "Now retrieving city #467: sandwick\n",
      "Now retrieving city #468: kenai\n",
      "Now retrieving city #469: richards bay\n",
      "Now retrieving city #470: linqiong\n",
      "Now retrieving city #471: port-cartier\n",
      "Now retrieving city #472: mana\n",
      "Now retrieving city #473: lata\n",
      "Now retrieving city #474: sokoni\n",
      "Now retrieving city #475: kirakira\n",
      "Now retrieving city #476: te anau\n",
      "Now retrieving city #477: sao jose da coroa grande\n",
      "Now retrieving city #478: trofors\n",
      "Now retrieving city #479: kaka\n",
      "Now retrieving city #480: araouane\n",
      "Now retrieving city #481: goycay\n",
      "City not found. Skipping...\n",
      "Now retrieving city #482: mount gambier\n",
      "Now retrieving city #483: sayyan\n",
      "Now retrieving city #484: benguela\n",
      "Now retrieving city #485: bahir dar\n",
      "Now retrieving city #486: diffa\n",
      "Now retrieving city #487: deputatskiy\n",
      "Now retrieving city #488: sinnamary\n",
      "Now retrieving city #489: tumannyy\n",
      "City not found. Skipping...\n",
      "Now retrieving city #490: sulina\n",
      "Now retrieving city #491: campechuela\n",
      "Now retrieving city #492: bandarbeyla\n",
      "Now retrieving city #493: carsamba\n",
      "Now retrieving city #494: brae\n",
      "Now retrieving city #495: port blair\n",
      "Now retrieving city #496: salta\n",
      "Now retrieving city #497: acarau\n",
      "Now retrieving city #498: sisimiut\n",
      "Now retrieving city #499: arlit\n",
      "Now retrieving city #500: tevaitoa\n",
      "Now retrieving city #501: solovetskiy\n",
      "City not found. Skipping...\n",
      "Now retrieving city #502: kamaishi\n",
      "Now retrieving city #503: natal\n",
      "Now retrieving city #504: palabuhanratu\n",
      "City not found. Skipping...\n",
      "Now retrieving city #505: tamiahua\n",
      "Now retrieving city #506: talnakh\n",
      "Now retrieving city #507: bolungarvik\n",
      "City not found. Skipping...\n",
      "Now retrieving city #508: clyde river\n",
      "Now retrieving city #509: cubuk\n",
      "Now retrieving city #510: beloha\n",
      "Now retrieving city #511: mumford\n",
      "Now retrieving city #512: shache\n",
      "Now retrieving city #513: buala\n",
      "Now retrieving city #514: owando\n",
      "Now retrieving city #515: mariel\n",
      "Now retrieving city #516: inirida\n",
      "Now retrieving city #517: iracoubo\n",
      "Now retrieving city #518: alberton\n",
      "Now retrieving city #519: borsa\n",
      "Now retrieving city #520: guerrero negro\n",
      "Now retrieving city #521: kijang\n",
      "Now retrieving city #522: porto novo\n",
      "Now retrieving city #523: mandalgovi\n",
      "Now retrieving city #524: bannu\n",
      "Now retrieving city #525: pangnirtung\n",
      "Now retrieving city #526: buzmeyin\n",
      "Now retrieving city #527: price\n",
      "Now retrieving city #528: manjacaze\n",
      "Now retrieving city #529: tarnogskiy gorodok\n",
      "Now retrieving city #530: kaduqli\n",
      "Now retrieving city #531: bambanglipuro\n",
      "Now retrieving city #532: garcia\n",
      "Now retrieving city #533: noumea\n",
      "Now retrieving city #534: tabou\n",
      "Now retrieving city #535: santa barbara\n",
      "Now retrieving city #536: kpandae\n",
      "Now retrieving city #537: huilong\n",
      "Now retrieving city #538: tha chang\n",
      "Now retrieving city #539: progreso\n",
      "Now retrieving city #540: colares\n",
      "Now retrieving city #541: dingle\n",
      "Now retrieving city #542: ilovlya\n",
      "Now retrieving city #543: strai\n",
      "Now retrieving city #544: laguna\n",
      "Now retrieving city #545: aksarka\n",
      "Now retrieving city #546: kandrian\n",
      "Now retrieving city #547: urdzhar\n",
      "City not found. Skipping...\n",
      "Now retrieving city #548: shenkursk\n",
      "Now retrieving city #549: marsa matruh\n",
      "Now retrieving city #550: louisbourg\n",
      "City not found. Skipping...\n",
      "Now retrieving city #551: nanortalik\n",
      "Now retrieving city #552: sao miguel do araguaia\n",
      "Now retrieving city #553: caledon\n",
      "Now retrieving city #554: kadykchan\n",
      "City not found. Skipping...\n",
      "Now retrieving city #555: pangkalanbuun\n",
      "Now retrieving city #556: tadine\n",
      "Now retrieving city #557: carahue\n",
      "Now retrieving city #558: sihora\n",
      "Now retrieving city #559: zhangjiakou\n",
      "Now retrieving city #560: siniscola\n",
      "Now retrieving city #561: san matias\n",
      "Now retrieving city #562: liverpool\n",
      "Now retrieving city #563: cabra\n",
      "Now retrieving city #564: fort dodge\n",
      "Now retrieving city #565: ruteng\n",
      "Now retrieving city #566: perth\n",
      "Now retrieving city #567: ponta delgada\n",
      "Now retrieving city #568: tombouctou\n",
      "Now retrieving city #569: cayenne\n",
      "Now retrieving city #570: astorga\n",
      "Now retrieving city #571: bambous virieux\n",
      "Now retrieving city #572: george town\n",
      "Now retrieving city #573: quzhou\n",
      "Now retrieving city #574: kuching\n",
      "Now retrieving city #575: zvishavane\n",
      "Now retrieving city #576: osypenko\n",
      "Now retrieving city #577: debre birhan\n",
      "Now retrieving city #578: livadia\n",
      "Now retrieving city #579: zambezi\n",
      "Now retrieving city #580: rovaniemi\n",
      "Now retrieving city #581: emba\n",
      "Now retrieving city #582: huntington\n",
      "Now retrieving city #583: beringovskiy\n",
      "Now retrieving city #584: perry\n",
      "Now retrieving city #585: atbasar\n",
      "Now retrieving city #586: sept-iles\n",
      "Now retrieving city #587: comodoro rivadavia\n",
      "Now retrieving city #588: praia\n",
      "Now retrieving city #589: maniitsoq\n",
      "Now retrieving city #590: karaul\n",
      "City not found. Skipping...\n",
      "Now retrieving city #591: conceicao do araguaia\n",
      "Now retrieving city #592: ondorhaan\n",
      "City not found. Skipping...\n",
      "Now retrieving city #593: piranshahr\n",
      "Now retrieving city #594: hasanabad\n",
      "Now retrieving city #595: sao simao\n",
      "Now retrieving city #596: rio grande\n",
      "Now retrieving city #597: moosomin\n",
      "Now retrieving city #598: tuktoyaktuk\n",
      "Now retrieving city #599: saleaula\n",
      "City not found. Skipping...\n",
      "Now retrieving city #600: wenling\n",
      "Now retrieving city #601: chapais\n",
      "Now retrieving city #602: ahipara\n",
      "Now retrieving city #603: barcelos\n",
      "Now retrieving city #604: madang\n",
      "Now retrieving city #605: jabiru\n",
      "City not found. Skipping...\n",
      "Now retrieving city #606: qandala\n",
      "Now retrieving city #607: camacha\n",
      "Now retrieving city #608: west odessa\n"
     ]
    }
   ],
   "source": [
    "# Create column headers for city, cloudiness, country,\n",
    "# date, humidity, lat, lng, max temp, and wind speed                                                                      \n",
    "\n",
    "cities_df[\"Cloudiness\"]=\"\"\n",
    "cities_df[\"Country\"]=\"\"\n",
    "cities_df[\"Date\"]=\"\"\n",
    "cities_df[\"Humidity\"]=\"\"\n",
    "cities_df[\"Lat\"]=\"\"\n",
    "cities_df[\"Lng\"]=\"\"\n",
    "cities_df[\"Max Temp\"] =\"\"\n",
    "cities_df[\"Wind Speed\"]=\"\"\n",
    "\n",
    "#http://api.openweathermap.org/data/2.5/forecast?id=524901&APPID={APIKEY}\n",
    "\n",
    "# Create counter and set to zero\n",
    "row_count = 0\n",
    "\n",
    "# Call API openweather and gather data for cities\n",
    "for index, row in cities_df.iterrows():\n",
    "    \n",
    "    # Create dictionary of parameters\n",
    "    params = {\n",
    "    \"q\": cities_df.loc[index][\"City\"],\n",
    "    \"units\": \"IMPERIAL\",\n",
    "    \"mode\": \"json\",\n",
    "    \"appid\": weather_api_key}\n",
    "    \n",
    "    #API url\n",
    "    base_url = \"http://api.openweathermap.org/data/2.5/weather?\"\n",
    "\n",
    "    # Print city name and city count\n",
    "    print(\"Now retrieving city #%s: %s\" % (row_count, cities_df.loc[index][\"City\"]))\n",
    "    row_count += 1 \n",
    "    \n",
    "    # Capture data for cities\n",
    "    data = requests.get(base_url, params=params).json()\n",
    "    try:\n",
    "        \n",
    "        cloud = data['clouds']['all']\n",
    "        country = data[\"sys\"][\"country\"]\n",
    "        date = data[\"dt\"]\n",
    "        humidity = data['main']['humidity']\n",
    "        lat = data[\"coord\"][\"lat\"]\n",
    "        long = data[\"coord\"][\"lon\"]\n",
    "        max_temp = data[\"main\"][\"temp_max\"]\n",
    "        city_wind = data['wind']['speed']\n",
    "       \n",
    "        cities_df.set_value(index, \"Cloudiness\", cloud)\n",
    "        cities_df.set_value(index, \"Country\", country)\n",
    "        cities_df.set_value(index, \"Date\", date)\n",
    "        cities_df.set_value(index, \"Humidity\", humidity)\n",
    "        cities_df.set_value(index, \"Lat\", lat)\n",
    "        cities_df.set_value(index, \"Lng\", long)\n",
    "        cities_df.set_value(index, \"Max Temp\", max_temp)\n",
    "        cities_df.set_value(index, \"Wind Speed\", city_wind)\n",
    "        \n",
    "    # Print statement if city is not found    \n",
    "    except:\n",
    "        print(\"City not found. Skipping...\")\n",
    "        continue \n",
    "    \n"
   ]
  },
  {
   "cell_type": "markdown",
   "metadata": {},
   "source": [
    "### Convert Raw Data to DataFrame\n",
    "* Export the city data into a .csv.\n",
    "* Display the DataFrame"
   ]
  },
  {
   "cell_type": "code",
   "execution_count": 6,
   "metadata": {},
   "outputs": [
    {
     "data": {
      "text/plain": [
       "City          609\n",
       "Cloudiness    609\n",
       "Country       609\n",
       "Date          609\n",
       "Humidity      609\n",
       "Lat           609\n",
       "Lng           609\n",
       "Max Temp      609\n",
       "Wind Speed    609\n",
       "dtype: int64"
      ]
     },
     "execution_count": 6,
     "metadata": {},
     "output_type": "execute_result"
    }
   ],
   "source": [
    "# Save the dataframe to designated output file as a csv\n",
    "cities_df.to_csv(output_data_file, encoding=\"utf-8\", index=False)\n",
    "# Cities and corresponding data count\n",
    "cities_df.count()\n"
   ]
  },
  {
   "cell_type": "code",
   "execution_count": 7,
   "metadata": {},
   "outputs": [
    {
     "data": {
      "text/html": [
       "<div>\n",
       "<style scoped>\n",
       "    .dataframe tbody tr th:only-of-type {\n",
       "        vertical-align: middle;\n",
       "    }\n",
       "\n",
       "    .dataframe tbody tr th {\n",
       "        vertical-align: top;\n",
       "    }\n",
       "\n",
       "    .dataframe thead th {\n",
       "        text-align: right;\n",
       "    }\n",
       "</style>\n",
       "<table border=\"1\" class=\"dataframe\">\n",
       "  <thead>\n",
       "    <tr style=\"text-align: right;\">\n",
       "      <th></th>\n",
       "      <th>City</th>\n",
       "      <th>Cloudiness</th>\n",
       "      <th>Country</th>\n",
       "      <th>Date</th>\n",
       "      <th>Humidity</th>\n",
       "      <th>Lat</th>\n",
       "      <th>Lng</th>\n",
       "      <th>Max Temp</th>\n",
       "      <th>Wind Speed</th>\n",
       "    </tr>\n",
       "  </thead>\n",
       "  <tbody>\n",
       "    <tr>\n",
       "      <td>0</td>\n",
       "      <td>qaanaaq</td>\n",
       "      <td>0</td>\n",
       "      <td>GL</td>\n",
       "      <td>1584164448</td>\n",
       "      <td>58</td>\n",
       "      <td>77.48</td>\n",
       "      <td>-69.36</td>\n",
       "      <td>-22</td>\n",
       "      <td>5.57</td>\n",
       "    </tr>\n",
       "    <tr>\n",
       "      <td>1</td>\n",
       "      <td>kirya</td>\n",
       "      <td>98</td>\n",
       "      <td>TZ</td>\n",
       "      <td>1584164630</td>\n",
       "      <td>76</td>\n",
       "      <td>-3.92</td>\n",
       "      <td>37.48</td>\n",
       "      <td>75.61</td>\n",
       "      <td>2.57</td>\n",
       "    </tr>\n",
       "    <tr>\n",
       "      <td>2</td>\n",
       "      <td>isangel</td>\n",
       "      <td>99</td>\n",
       "      <td>VU</td>\n",
       "      <td>1584164630</td>\n",
       "      <td>78</td>\n",
       "      <td>-19.55</td>\n",
       "      <td>169.27</td>\n",
       "      <td>83.79</td>\n",
       "      <td>13.15</td>\n",
       "    </tr>\n",
       "    <tr>\n",
       "      <td>3</td>\n",
       "      <td>college</td>\n",
       "      <td>20</td>\n",
       "      <td>US</td>\n",
       "      <td>1584164630</td>\n",
       "      <td>84</td>\n",
       "      <td>64.86</td>\n",
       "      <td>-147.8</td>\n",
       "      <td>18</td>\n",
       "      <td>2.33</td>\n",
       "    </tr>\n",
       "    <tr>\n",
       "      <td>4</td>\n",
       "      <td>san pedro</td>\n",
       "      <td>20</td>\n",
       "      <td>PH</td>\n",
       "      <td>1584164618</td>\n",
       "      <td>46</td>\n",
       "      <td>14.35</td>\n",
       "      <td>121.02</td>\n",
       "      <td>93.2</td>\n",
       "      <td>6.93</td>\n",
       "    </tr>\n",
       "  </tbody>\n",
       "</table>\n",
       "</div>"
      ],
      "text/plain": [
       "        City Cloudiness Country        Date Humidity    Lat     Lng Max Temp  \\\n",
       "0    qaanaaq          0      GL  1584164448       58  77.48  -69.36      -22   \n",
       "1      kirya         98      TZ  1584164630       76  -3.92   37.48    75.61   \n",
       "2    isangel         99      VU  1584164630       78 -19.55  169.27    83.79   \n",
       "3    college         20      US  1584164630       84  64.86  -147.8       18   \n",
       "4  san pedro         20      PH  1584164618       46  14.35  121.02     93.2   \n",
       "\n",
       "  Wind Speed  \n",
       "0       5.57  \n",
       "1       2.57  \n",
       "2      13.15  \n",
       "3       2.33  \n",
       "4       6.93  "
      ]
     },
     "execution_count": 7,
     "metadata": {},
     "output_type": "execute_result"
    }
   ],
   "source": [
    "# Print sample of cities dataframe\n",
    "cities_df.head()"
   ]
  },
  {
   "cell_type": "markdown",
   "metadata": {},
   "source": [
    "### Plotting the Data\n",
    "* Use proper labeling of the plots using plot titles (including date of analysis) and axes labels.\n",
    "* Save the plotted figures as .pngs."
   ]
  },
  {
   "cell_type": "markdown",
   "metadata": {},
   "source": [
    "#### Latitude vs. Temperature Plot"
   ]
  },
  {
   "cell_type": "code",
   "execution_count": 8,
   "metadata": {
    "scrolled": true
   },
   "outputs": [
    {
     "data": {
      "image/png": "[encoded data removed]",
      "text/plain": [
       "<Figure size 432x288 with 1 Axes>"
      ]
     },
     "metadata": {
      "needs_background": "light"
     },
     "output_type": "display_data"
    },
    {
     "name": "stdout",
     "output_type": "stream",
     "text": [
      "Temps are highest at prime meridian.\n"
     ]
    }
   ],
   "source": [
    "# read new data\n",
    "data_df = pd.read_csv(output_data_file)\n",
    "# Capture unix time stamp and convert to date\n",
    "date_unix = data_df.iloc[0,3]\n",
    "date = time.strftime(\"%D\", time.localtime(int(date_unix)))\n",
    "\n",
    "#date = time.strftime(\"%D %H:%M\", time.localtime(int(date_unix)))\n",
    "\n",
    "# Define x and y axis\n",
    "x_axis = data_df[\"Lat\"]\n",
    "y_axis = data_df[\"Max Temp\"]\n",
    "\n",
    "x = x_axis\n",
    "y = y_axis\n",
    "\n",
    "# Set plot limits and show grid\n",
    "plt.grid(True)\n",
    "plt.xlim([-60, 90])\n",
    "plt.ylim([-40, 125])\n",
    "# Set plot title and label x and y axis\n",
    "plt.title(f'City Latitude vs. Max Temperature ({date})')\n",
    "plt.xlabel('Latitude')\n",
    "plt.ylabel('Max Temperature (F)')\n",
    "plt.scatter(x, y)\n",
    "# Save plot to file\n",
    "plt.savefig('City_Lat_vs_Max_Temp.png')\n",
    "# plot to screen\n",
    "plt.show()\n",
    "print(\"Temps are highest at prime meridian.\")"
   ]
  },
  {
   "cell_type": "markdown",
   "metadata": {},
   "source": [
    "#### Latitude vs. Humidity Plot"
   ]
  },
  {
   "cell_type": "code",
   "execution_count": 9,
   "metadata": {},
   "outputs": [
    {
     "data": {
      "image/png": "[encoded data removed]",
      "text/plain": [
       "<Figure size 432x288 with 1 Axes>"
      ]
     },
     "metadata": {
      "needs_background": "light"
     },
     "output_type": "display_data"
    },
    {
     "name": "stdout",
     "output_type": "stream",
     "text": [
      "Majority of cities have humidity gretaer than 60%\n"
     ]
    }
   ],
   "source": [
    "# Capture unix time stamp and convert to date\n",
    "date_unix = data_df.iloc[0,3]\n",
    "date = time.strftime(\"%D\", time.localtime(int(date_unix)))\n",
    "\n",
    "#date = time.strftime(\"%D %H:%M\", time.localtime(int(date_unix)))\n",
    "\n",
    "# Define x and y axis\n",
    "x_axis = data_df[\"Lat\"]\n",
    "y_axis = data_df[\"Humidity\"]\n",
    "\n",
    "x = x_axis\n",
    "y = y_axis\n",
    "# Set plot limits and show gridlines\n",
    "plt.grid(True)\n",
    "plt.xlim([-60, 90])\n",
    "plt.ylim([0, 150])\n",
    "# Set plot title and label x and y axis\n",
    "plt.title(f'City Latitude vs. Humidity ({date})')\n",
    "plt.xlabel('Latitude')\n",
    "plt.ylabel('Humidity (%)')\n",
    "plt.scatter(x, y)\n",
    "# Save plot to file\n",
    "plt.savefig('City_Lat_vs_Humidity.png')\n",
    "# plot to screen\n",
    "plt.show()\n",
    "print(\"Majority of cities have humidity gretaer than 60%\")"
   ]
  },
  {
   "cell_type": "markdown",
   "metadata": {},
   "source": [
    "#### Latitude vs. Cloudiness Plot"
   ]
  },
  {
   "cell_type": "code",
   "execution_count": 10,
   "metadata": {},
   "outputs": [
    {
     "data": {
      "image/png": "[encoded data removed]",
      "text/plain": [
       "<Figure size 432x288 with 1 Axes>"
      ]
     },
     "metadata": {
      "needs_background": "light"
     },
     "output_type": "display_data"
    },
    {
     "name": "stdout",
     "output_type": "stream",
     "text": [
      "Cloudiness is evenly distributed\n"
     ]
    }
   ],
   "source": [
    "# Capture unix time stamp and convert to date\n",
    "date_unix = data_df.iloc[0,3]\n",
    "date = time.strftime(\"%D\", time.localtime(int(date_unix)))\n",
    "\n",
    "#date = time.strftime(\"%D %H:%M\", time.localtime(int(date_unix)))\n",
    "\n",
    "# Define x and y axis\n",
    "x_axis = data_df[\"Lat\"]\n",
    "y_axis = data_df[\"Cloudiness\"]\n",
    "\n",
    "x = x_axis\n",
    "y = y_axis\n",
    "# Set plot limits and show gridlines\n",
    "plt.grid(True)\n",
    "plt.xlim([-60, 90])\n",
    "plt.ylim([-20, 125])\n",
    "# Set plot title and label x and y axis\n",
    "plt.title(f'City Latitude vs. Cloudiness ({date})')\n",
    "plt.xlabel('Latitude')\n",
    "plt.ylabel('Cloudiness (%)')\n",
    "plt.scatter(x, y)\n",
    "# Save plot to a file\n",
    "plt.savefig('City_Lat_vs_Cloudiness.png')\n",
    "# Plot to screen\n",
    "plt.show()\n",
    "print(\"Cloudiness is evenly distributed\")"
   ]
  },
  {
   "cell_type": "markdown",
   "metadata": {},
   "source": [
    "#### Latitude vs. Wind Speed Plot"
   ]
  },
  {
   "cell_type": "code",
   "execution_count": 11,
   "metadata": {},
   "outputs": [
    {
     "data": {
      "image/png": "[encoded data removed]",
      "text/plain": [
       "<Figure size 432x288 with 1 Axes>"
      ]
     },
     "metadata": {
      "needs_background": "light"
     },
     "output_type": "display_data"
    },
    {
     "name": "stdout",
     "output_type": "stream",
     "text": [
      "For the majority of cities the wind speed is 0 to 15mph\n"
     ]
    }
   ],
   "source": [
    "# Capture unix time stamp and convert to date\n",
    "date_unix = data_df.iloc[0,3]\n",
    "date = time.strftime(\"%D\", time.localtime(int(date_unix)))\n",
    "\n",
    "#date = time.strftime(\"%D %H:%M\", time.localtime(int(date_unix)))\n",
    "\n",
    "# Define x and y axis\n",
    "x_axis = data_df[\"Lat\"]\n",
    "y_axis = data_df[\"Wind Speed\"]\n",
    "\n",
    "x = x_axis\n",
    "y = y_axis\n",
    "# Set plot limits and show gridlines\n",
    "plt.grid(True)\n",
    "plt.xlim([-60, 90])\n",
    "plt.ylim([-10, 50])\n",
    "# Set plot title and label x and y axis\n",
    "plt.title(f'City Latitude vs. Wind Speed ({date})')\n",
    "plt.xlabel('Latitude')\n",
    "plt.ylabel('Wind Speed (mph)')\n",
    "plt.scatter(x, y)\n",
    "# Save plot to a file\n",
    "plt.savefig('City_Lat_vs_Wind Speed.png')\n",
    "# Plot to screen\n",
    "plt.show()\n",
    "print(\"For the majority of cities the wind speed is 0 to 15mph\")"
   ]
  },
  {
   "cell_type": "markdown",
   "metadata": {},
   "source": [
    "## Linear Regression"
   ]
  },
  {
   "cell_type": "code",
   "execution_count": 108,
   "metadata": {},
   "outputs": [],
   "source": [
    "# OPTIONAL: Create a function to create Linear Regression plots\n"
   ]
  },
  {
   "cell_type": "code",
   "execution_count": 13,
   "metadata": {},
   "outputs": [],
   "source": [
    "# Create Northern and Southern Hemisphere DataFrames\n",
    "\n",
    "nh_df = data_df[data_df.Lat>=0]\n",
    "sh_df = data_df[data_df.Lat<0]\n"
   ]
  },
  {
   "cell_type": "markdown",
   "metadata": {},
   "source": [
    "####  Northern Hemisphere - Max Temp vs. Latitude Linear Regression"
   ]
  },
  {
   "cell_type": "code",
   "execution_count": 15,
   "metadata": {},
   "outputs": [
    {
     "name": "stdout",
     "output_type": "stream",
     "text": [
      "The r-squared is: -0.8995663509274687\n"
     ]
    },
    {
     "data": {
      "image/png": "[encoded data removed]",
      "text/plain": [
       "<Figure size 432x288 with 1 Axes>"
      ]
     },
     "metadata": {
      "needs_background": "light"
     },
     "output_type": "display_data"
    },
    {
     "name": "stdout",
     "output_type": "stream",
     "text": [
      "The regression predictions are a strong approximation of the real data.\n"
     ]
    }
   ],
   "source": [
    "# Print out the r-squared value along with the plot.\n",
    "# Define x and y axis\n",
    "x_values = nh_df['Max Temp']\n",
    "y_values = nh_df['Lat']\n",
    "\n",
    "(slope, intercept, rvalue, pvalue, stderr) = linregress(x_values, y_values)\n",
    "# Regression points\n",
    "regress_values = x_values * slope + intercept\n",
    "# Slope intercept formula\n",
    "line_eq = \"y = \" + str(round(slope,2)) + \"x + \" + str(round(intercept,2))\n",
    "plt.scatter(x_values,y_values)\n",
    "plt.plot(x_values,regress_values,\"r-\")\n",
    "plt.annotate(line_eq,(6,10),fontsize=15,color=\"red\")\n",
    "plt.xlabel('Latitude')\n",
    "plt.ylabel('Max Temp')\n",
    "print(f\"The r-squared is: {rvalue}\")\n",
    "# Save plot to file\n",
    "plt.savefig('NH_Max_Temp_vs_Lat_LR.png')\n",
    "plt.show()\n",
    "print(\"The regression predictions are a strong approximation of the real data.\")"
   ]
  },
  {
   "cell_type": "markdown",
   "metadata": {},
   "source": [
    "####  Southern Hemisphere - Max Temp vs. Latitude Linear Regression"
   ]
  },
  {
   "cell_type": "code",
   "execution_count": 16,
   "metadata": {},
   "outputs": [
    {
     "name": "stdout",
     "output_type": "stream",
     "text": [
      "The r-squared is: 0.6166430554398251\n"
     ]
    },
    {
     "data": {
      "image/png": "[encoded data removed]",
      "text/plain": [
       "<Figure size 432x288 with 1 Axes>"
      ]
     },
     "metadata": {
      "needs_background": "light"
     },
     "output_type": "display_data"
    },
    {
     "name": "stdout",
     "output_type": "stream",
     "text": [
      "The regression predictions are a moderate approximation of the real data.\n"
     ]
    }
   ],
   "source": [
    "# Print out the r-squared value along with the plot.\n",
    "# Define x and y axis\n",
    "x_values = sh_df['Max Temp']\n",
    "y_values = sh_df['Lat']\n",
    "(slope, intercept, rvalue, pvalue, stderr) = linregress(x_values, y_values)\n",
    "# Regression points\n",
    "regress_values = x_values * slope + intercept\n",
    "# Slope intercept formula\n",
    "line_eq = \"y = \" + str(round(slope,2)) + \"x + \" + str(round(intercept,2))\n",
    "plt.scatter(x_values,y_values)\n",
    "plt.plot(x_values,regress_values,\"r-\")\n",
    "plt.annotate(line_eq,(6,10),fontsize=15,color=\"red\")\n",
    "plt.xlabel('Latitude')\n",
    "plt.ylabel('Max Temp')\n",
    "print(f\"The r-squared is: {rvalue}\")\n",
    "# Save plot to file\n",
    "plt.savefig('SH_Max_Temp_vs_Lat_LR.png')\n",
    "plt.show()\n",
    "print(\"The regression predictions are a moderate approximation of the real data.\")"
   ]
  },
  {
   "cell_type": "markdown",
   "metadata": {},
   "source": [
    "####  Northern Hemisphere - Humidity (%) vs. Latitude Linear Regression"
   ]
  },
  {
   "cell_type": "code",
   "execution_count": 17,
   "metadata": {},
   "outputs": [
    {
     "name": "stdout",
     "output_type": "stream",
     "text": [
      "The r-squared is: 0.31736994375143474\n"
     ]
    },
    {
     "data": {
      "image/png": "[encoded data removed]",
      "text/plain": [
       "<Figure size 432x288 with 1 Axes>"
      ]
     },
     "metadata": {
      "needs_background": "light"
     },
     "output_type": "display_data"
    },
    {
     "name": "stdout",
     "output_type": "stream",
     "text": [
      "The regression predictions are a poor approximation of the real data.\n"
     ]
    }
   ],
   "source": [
    "# Print out the r-squared value along with the plot.\n",
    "# Define x and y values\n",
    "x_values = nh_df['Humidity']\n",
    "y_values = nh_df['Lat']\n",
    "(slope, intercept, rvalue, pvalue, stderr) = linregress(x_values, y_values)\n",
    "# Regression points\n",
    "regress_values = x_values * slope + intercept\n",
    "# Slope intercept formula\n",
    "line_eq = \"y = \" + str(round(slope,2)) + \"x + \" + str(round(intercept,2))\n",
    "plt.scatter(x_values,y_values)\n",
    "plt.plot(x_values,regress_values,\"r-\")\n",
    "plt.annotate(line_eq,(6,10),fontsize=15,color=\"red\")\n",
    "plt.xlabel('Latitude')\n",
    "plt.ylabel('Max Temp')\n",
    "print(f\"The r-squared is: {rvalue}\")\n",
    "# Save plot to a file\n",
    "plt.savefig('NH_Humidity_vs_Lat_LR.png')\n",
    "plt.show()\n",
    "print(\"The regression predictions are a poor approximation of the real data.\")"
   ]
  },
  {
   "cell_type": "markdown",
   "metadata": {},
   "source": [
    "####  Southern Hemisphere - Humidity (%) vs. Latitude Linear Regression"
   ]
  },
  {
   "cell_type": "code",
   "execution_count": 18,
   "metadata": {},
   "outputs": [
    {
     "name": "stdout",
     "output_type": "stream",
     "text": [
      "The r-squared is: 0.2099628728504548\n"
     ]
    },
    {
     "data": {
      "image/png": "[encoded data removed]",
      "text/plain": [
       "<Figure size 432x288 with 1 Axes>"
      ]
     },
     "metadata": {
      "needs_background": "light"
     },
     "output_type": "display_data"
    },
    {
     "name": "stdout",
     "output_type": "stream",
     "text": [
      "The regression predictions are a poor approximation of the real data.\n"
     ]
    }
   ],
   "source": [
    "# Print out the r-squared value along with the plot.\n",
    "# Define x and y axis\n",
    "x_values = sh_df['Humidity']\n",
    "y_values = sh_df['Lat']\n",
    "(slope, intercept, rvalue, pvalue, stderr) = linregress(x_values, y_values)\n",
    "# Regression points\n",
    "regress_values = x_values * slope + intercept\n",
    "# Slope intercept formula\n",
    "line_eq = \"y = \" + str(round(slope,2)) + \"x + \" + str(round(intercept,2))\n",
    "plt.scatter(x_values,y_values)\n",
    "plt.plot(x_values,regress_values,\"r-\")\n",
    "plt.annotate(line_eq,(6,10),fontsize=15,color=\"red\")\n",
    "plt.xlabel('Latitude')\n",
    "plt.ylabel('Max Temp')\n",
    "print(f\"The r-squared is: {rvalue}\")\n",
    "# Save plot to a file\n",
    "plt.savefig('SH_Humidity_vs_Lat_LR.png')\n",
    "plt.show()\n",
    "print(\"The regression predictions are a poor approximation of the real data.\")"
   ]
  },
  {
   "cell_type": "markdown",
   "metadata": {},
   "source": [
    "####  Northern Hemisphere - Cloudiness (%) vs. Latitude Linear Regression"
   ]
  },
  {
   "cell_type": "code",
   "execution_count": 21,
   "metadata": {},
   "outputs": [
    {
     "name": "stdout",
     "output_type": "stream",
     "text": [
      "The r-squared is: 0.29245531732525687\n"
     ]
    },
    {
     "data": {
      "image/png": "[encoded data removed]",
      "text/plain": [
       "<Figure size 432x288 with 1 Axes>"
      ]
     },
     "metadata": {
      "needs_background": "light"
     },
     "output_type": "display_data"
    },
    {
     "name": "stdout",
     "output_type": "stream",
     "text": [
      "The regression predictions are a poor approximation of the real data.\n"
     ]
    }
   ],
   "source": [
    "# Print out the r-squared value along with the plot.\n",
    "# Define x and y axis\n",
    "x_values = nh_df['Cloudiness']\n",
    "y_values = nh_df['Lat']\n",
    "(slope, intercept, rvalue, pvalue, stderr) = linregress(x_values, y_values)\n",
    "# Regression points\n",
    "regress_values = x_values * slope + intercept\n",
    "# Slope intercept formula\n",
    "line_eq = \"y = \" + str(round(slope,2)) + \"x + \" + str(round(intercept,2))\n",
    "plt.scatter(x_values,y_values)\n",
    "plt.plot(x_values,regress_values,\"r-\")\n",
    "plt.annotate(line_eq,(6,10),fontsize=15,color=\"red\")\n",
    "plt.xlabel('Latitude')\n",
    "plt.ylabel('Max Temp')\n",
    "print(f\"The r-squared is: {rvalue}\")\n",
    "# Save plot to a file\n",
    "plt.savefig('NH_Cloudiness_vs_Lat_LR.png')\n",
    "plt.show()\n",
    "print(\"The regression predictions are a poor approximation of the real data.\")"
   ]
  },
  {
   "cell_type": "markdown",
   "metadata": {},
   "source": [
    "####  Southern Hemisphere - Cloudiness (%) vs. Latitude Linear Regression"
   ]
  },
  {
   "cell_type": "code",
   "execution_count": 22,
   "metadata": {},
   "outputs": [
    {
     "name": "stdout",
     "output_type": "stream",
     "text": [
      "The r-squared is: 0.34892950182267163\n"
     ]
    },
    {
     "data": {
      "image/png": "[encoded data removed]",
      "text/plain": [
       "<Figure size 432x288 with 1 Axes>"
      ]
     },
     "metadata": {
      "needs_background": "light"
     },
     "output_type": "display_data"
    },
    {
     "name": "stdout",
     "output_type": "stream",
     "text": [
      "The regression predictions are a poor approximation of the real data.\n"
     ]
    }
   ],
   "source": [
    "# Print out the r-squared value along with the plot.\n",
    "# Define x and y axis\n",
    "x_values = sh_df['Cloudiness']\n",
    "y_values = sh_df['Lat']\n",
    "(slope, intercept, rvalue, pvalue, stderr) = linregress(x_values, y_values)\n",
    "# Regression points\n",
    "regress_values = x_values * slope + intercept\n",
    "# Slope intercept formula\n",
    "line_eq = \"y = \" + str(round(slope,2)) + \"x + \" + str(round(intercept,2))\n",
    "plt.scatter(x_values,y_values)\n",
    "plt.plot(x_values,regress_values,\"r-\")\n",
    "plt.annotate(line_eq,(6,10),fontsize=15,color=\"red\")\n",
    "plt.xlabel('Latitude')\n",
    "plt.ylabel('Max Temp')\n",
    "print(f\"The r-squared is: {rvalue}\")\n",
    "# Save plot to a file\n",
    "plt.savefig('SH_Cloudiness_vs_Lat_LR.png')\n",
    "plt.show()\n",
    "print(\"The regression predictions are a poor approximation of the real data.\")"
   ]
  },
  {
   "cell_type": "markdown",
   "metadata": {},
   "source": [
    "####  Northern Hemisphere - Wind Speed (mph) vs. Latitude Linear Regression"
   ]
  },
  {
   "cell_type": "code",
   "execution_count": 23,
   "metadata": {},
   "outputs": [
    {
     "name": "stdout",
     "output_type": "stream",
     "text": [
      "The r-squared is: 0.27237647423269923\n"
     ]
    },
    {
     "data": {
      "image/png": "[encoded data removed]",
      "text/plain": [
       "<Figure size 432x288 with 1 Axes>"
      ]
     },
     "metadata": {
      "needs_background": "light"
     },
     "output_type": "display_data"
    },
    {
     "name": "stdout",
     "output_type": "stream",
     "text": [
      "The regression predictions are a poor approximation of the real data.\n"
     ]
    }
   ],
   "source": [
    "# Print out the r-squared value along with the plot.\n",
    "# Define the x and y axis\n",
    "x_values = nh_df['Wind Speed']\n",
    "y_values = nh_df['Lat']\n",
    "(slope, intercept, rvalue, pvalue, stderr) = linregress(x_values, y_values)\n",
    "# Regression points\n",
    "regress_values = x_values * slope + intercept\n",
    "line_eq = \"y = \" + str(round(slope,2)) + \"x + \" + str(round(intercept,2))\n",
    "plt.scatter(x_values,y_values)\n",
    "plt.plot(x_values,regress_values,\"r-\")\n",
    "plt.annotate(line_eq,(6,10),fontsize=15,color=\"red\")\n",
    "plt.xlabel('Latitude')\n",
    "plt.ylabel('Max Temp')\n",
    "print(f\"The r-squared is: {rvalue}\")\n",
    "# Save plot to a file\n",
    "plt.savefig('NH_Wind_Speed_vs_Lat_LR.png')\n",
    "plt.show()\n",
    "print(\"The regression predictions are a poor approximation of the real data.\")"
   ]
  },
  {
   "cell_type": "markdown",
   "metadata": {},
   "source": [
    "####  Southern Hemisphere - Wind Speed (mph) vs. Latitude Linear Regression"
   ]
  },
  {
   "cell_type": "code",
   "execution_count": 24,
   "metadata": {},
   "outputs": [
    {
     "name": "stdout",
     "output_type": "stream",
     "text": [
      "The r-squared is: -0.28297275078380535\n"
     ]
    },
    {
     "data": {
      "image/png": "[encoded data removed]",
      "text/plain": [
       "<Figure size 432x288 with 1 Axes>"
      ]
     },
     "metadata": {
      "needs_background": "light"
     },
     "output_type": "display_data"
    },
    {
     "name": "stdout",
     "output_type": "stream",
     "text": [
      "The regression predictions are a poor approximation of the real data.\n"
     ]
    }
   ],
   "source": [
    "# Print out the r-squared value along with the plot.\n",
    "# Define x and y axis\n",
    "x_values = sh_df['Wind Speed']\n",
    "y_values = sh_df['Lat']\n",
    "(slope, intercept, rvalue, pvalue, stderr) = linregress(x_values, y_values)\n",
    "# Regression points\n",
    "regress_values = x_values * slope + intercept\n",
    "# Slope intercept formula\n",
    "line_eq = \"y = \" + str(round(slope,2)) + \"x + \" + str(round(intercept,2))\n",
    "plt.scatter(x_values,y_values)\n",
    "plt.plot(x_values,regress_values,\"r-\")\n",
    "plt.annotate(line_eq,(6,10),fontsize=15,color=\"red\")\n",
    "plt.xlabel('Latitude')\n",
    "plt.ylabel('Max Temp')\n",
    "print(f\"The r-squared is: {rvalue}\")\n",
    "# Save plot to a file\n",
    "plt.savefig('SH_Wind_Speed_vs_Lat_LR.png')\n",
    "plt.show()\n",
    "print(\"The regression predictions are a poor approximation of the real data.\")"
   ]
  },
  {
   "cell_type": "code",
   "execution_count": null,
   "metadata": {},
   "outputs": [],
   "source": []
  }
 ],
 "metadata": {
  "anaconda-cloud": {},
  "kernel_info": {
   "name": "python3"
  },
  "kernelspec": {
   "display_name": "Python 3",
   "language": "python",
   "name": "python3"
  },
  "language_info": {
   "codemirror_mode": {
    "name": "ipython",
    "version": 3
   },
   "file_extension": ".py",
   "mimetype": "text/x-python",
   "name": "python",
   "nbconvert_exporter": "python",
   "pygments_lexer": "ipython3",
   "version": "3.7.4"
  },
  "latex_envs": {
   "LaTeX_envs_menu_present": true,
   "autoclose": false,
   "autocomplete": true,
   "bibliofile": "biblio.bib",
   "cite_by": "apalike",
   "current_citInitial": 1,
   "eqLabelWithNumbers": true,
   "eqNumInitial": 1,
   "hotkeys": {
    "equation": "Ctrl-E",
    "itemize": "Ctrl-I"
   },
   "labels_anchors": false,
   "latex_user_defs": false,
   "report_style_numbering": false,
   "user_envs_cfg": false
  },
  "nteract": {
   "version": "0.12.3"
  }
 },
 "nbformat": 4,
 "nbformat_minor": 2
}

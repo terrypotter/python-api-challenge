{
 "cells": [
  {
   "cell_type": "markdown",
   "metadata": {},
   "source": [
    "# WeatherPy\n",
    "----\n",
    "\n",
    "#### Note\n",
    "* Instructions have been included for each segment. You do not have to follow them exactly, but they are included to help you think through the steps."
   ]
  },
  {
   "cell_type": "code",
   "execution_count": 1,
   "metadata": {
    "scrolled": true
   },
   "outputs": [],
   "source": [
    "# Dependencies and Setup\n",
    "import matplotlib.pyplot as plt\n",
    "import pandas as pd\n",
    "import numpy as np\n",
    "import requests\n",
    "import time\n",
    "from scipy.stats import linregress\n",
    "\n",
    "# Import API key\n",
    "from api_keys import weather_api_key\n",
    "\n",
    "# Incorporated citipy to determine city based on latitude and longitude\n",
    "from citipy import citipy\n",
    "\n",
    "# Output File (CSV)\n",
    "output_data_file = \"output_data/cities.csv\"\n",
    "\n",
    "# Range of latitudes and longitudes\n",
    "lat_range = (-90, 90)\n",
    "lng_range = (-180, 180)"
   ]
  },
  {
   "cell_type": "markdown",
   "metadata": {},
   "source": [
    "## Generate Cities List"
   ]
  },
  {
   "cell_type": "code",
   "execution_count": 2,
   "metadata": {},
   "outputs": [
    {
     "data": {
      "text/plain": [
       "616"
      ]
     },
     "execution_count": 2,
     "metadata": {},
     "output_type": "execute_result"
    }
   ],
   "source": [
    "# List for holding lat_lngs and cities\n",
    "lat_lngs = []\n",
    "cities = []\n",
    "\n",
    "# Create a set of random lat and lng combinations\n",
    "lats = np.random.uniform(low=-90.000, high=90.000, size=1500)\n",
    "lngs = np.random.uniform(low=-180.000, high=180.000, size=1500)\n",
    "lat_lngs = zip(lats, lngs)\n",
    "\n",
    "# Identify nearest city for each lat, lng combination\n",
    "for lat_lng in lat_lngs:\n",
    "    city = citipy.nearest_city(lat_lng[0], lat_lng[1]).city_name\n",
    "    \n",
    "    # If the city is unique, then add it to a our cities list\n",
    "    if city not in cities:\n",
    "        cities.append(city)\n",
    "\n",
    "# Print the city count to confirm sufficient count\n",
    "len(cities)"
   ]
  },
  {
   "cell_type": "code",
   "execution_count": 3,
   "metadata": {},
   "outputs": [
    {
     "data": {
      "text/html": [
       "<div>\n",
       "<style scoped>\n",
       "    .dataframe tbody tr th:only-of-type {\n",
       "        vertical-align: middle;\n",
       "    }\n",
       "\n",
       "    .dataframe tbody tr th {\n",
       "        vertical-align: top;\n",
       "    }\n",
       "\n",
       "    .dataframe thead th {\n",
       "        text-align: right;\n",
       "    }\n",
       "</style>\n",
       "<table border=\"1\" class=\"dataframe\">\n",
       "  <thead>\n",
       "    <tr style=\"text-align: right;\">\n",
       "      <th></th>\n",
       "      <th>City</th>\n",
       "    </tr>\n",
       "  </thead>\n",
       "  <tbody>\n",
       "    <tr>\n",
       "      <td>0</td>\n",
       "      <td>tshela</td>\n",
       "    </tr>\n",
       "    <tr>\n",
       "      <td>1</td>\n",
       "      <td>lufilufi</td>\n",
       "    </tr>\n",
       "    <tr>\n",
       "      <td>2</td>\n",
       "      <td>saskylakh</td>\n",
       "    </tr>\n",
       "    <tr>\n",
       "      <td>3</td>\n",
       "      <td>tuatapere</td>\n",
       "    </tr>\n",
       "    <tr>\n",
       "      <td>4</td>\n",
       "      <td>butaritari</td>\n",
       "    </tr>\n",
       "    <tr>\n",
       "      <td>...</td>\n",
       "      <td>...</td>\n",
       "    </tr>\n",
       "    <tr>\n",
       "      <td>611</td>\n",
       "      <td>port keats</td>\n",
       "    </tr>\n",
       "    <tr>\n",
       "      <td>612</td>\n",
       "      <td>iwanai</td>\n",
       "    </tr>\n",
       "    <tr>\n",
       "      <td>613</td>\n",
       "      <td>quixada</td>\n",
       "    </tr>\n",
       "    <tr>\n",
       "      <td>614</td>\n",
       "      <td>garowe</td>\n",
       "    </tr>\n",
       "    <tr>\n",
       "      <td>615</td>\n",
       "      <td>koundara</td>\n",
       "    </tr>\n",
       "  </tbody>\n",
       "</table>\n",
       "<p>616 rows × 1 columns</p>\n",
       "</div>"
      ],
      "text/plain": [
       "           City\n",
       "0        tshela\n",
       "1      lufilufi\n",
       "2     saskylakh\n",
       "3     tuatapere\n",
       "4    butaritari\n",
       "..          ...\n",
       "611  port keats\n",
       "612      iwanai\n",
       "613     quixada\n",
       "614      garowe\n",
       "615    koundara\n",
       "\n",
       "[616 rows x 1 columns]"
      ]
     },
     "execution_count": 3,
     "metadata": {},
     "output_type": "execute_result"
    }
   ],
   "source": [
    "cities_df = pd.DataFrame(cities, columns =['City'])                                           \n",
    "cities_df "
   ]
  },
  {
   "cell_type": "markdown",
   "metadata": {},
   "source": [
    "### Perform API Calls\n",
    "* Perform a weather check on each city using a series of successive API calls.\n",
    "* Include a print log of each city as it'sbeing processed (with the city number and city name).\n"
   ]
  },
  {
   "cell_type": "code",
   "execution_count": 4,
   "metadata": {},
   "outputs": [
    {
     "name": "stdout",
     "output_type": "stream",
     "text": [
      "Now retrieving city #0: tshela\n",
      "Now retrieving city #1: lufilufi\n"
     ]
    },
    {
     "name": "stderr",
     "output_type": "stream",
     "text": [
      "C:\\ProgramData\\Anaconda3\\lib\\site-packages\\ipykernel_launcher.py:47: FutureWarning: set_value is deprecated and will be removed in a future release. Please use .at[] or .iat[] accessors instead\n",
      "C:\\ProgramData\\Anaconda3\\lib\\site-packages\\ipykernel_launcher.py:48: FutureWarning: set_value is deprecated and will be removed in a future release. Please use .at[] or .iat[] accessors instead\n",
      "C:\\ProgramData\\Anaconda3\\lib\\site-packages\\ipykernel_launcher.py:49: FutureWarning: set_value is deprecated and will be removed in a future release. Please use .at[] or .iat[] accessors instead\n",
      "C:\\ProgramData\\Anaconda3\\lib\\site-packages\\ipykernel_launcher.py:50: FutureWarning: set_value is deprecated and will be removed in a future release. Please use .at[] or .iat[] accessors instead\n",
      "C:\\ProgramData\\Anaconda3\\lib\\site-packages\\ipykernel_launcher.py:51: FutureWarning: set_value is deprecated and will be removed in a future release. Please use .at[] or .iat[] accessors instead\n",
      "C:\\ProgramData\\Anaconda3\\lib\\site-packages\\ipykernel_launcher.py:52: FutureWarning: set_value is deprecated and will be removed in a future release. Please use .at[] or .iat[] accessors instead\n",
      "C:\\ProgramData\\Anaconda3\\lib\\site-packages\\ipykernel_launcher.py:53: FutureWarning: set_value is deprecated and will be removed in a future release. Please use .at[] or .iat[] accessors instead\n",
      "C:\\ProgramData\\Anaconda3\\lib\\site-packages\\ipykernel_launcher.py:54: FutureWarning: set_value is deprecated and will be removed in a future release. Please use .at[] or .iat[] accessors instead\n"
     ]
    },
    {
     "name": "stdout",
     "output_type": "stream",
     "text": [
      "Now retrieving city #2: saskylakh\n",
      "Now retrieving city #3: tuatapere\n",
      "Now retrieving city #4: butaritari\n",
      "Now retrieving city #5: port elizabeth\n",
      "Now retrieving city #6: kapaa\n",
      "Now retrieving city #7: segezha\n",
      "Now retrieving city #8: nusaybin\n",
      "Now retrieving city #9: livny\n",
      "Now retrieving city #10: vaini\n",
      "Now retrieving city #11: gizo\n",
      "Now retrieving city #12: mar del plata\n",
      "Now retrieving city #13: tumannyy\n",
      "City not found. Skipping...\n",
      "Now retrieving city #14: nikolskoye\n",
      "Now retrieving city #15: rikitea\n",
      "Now retrieving city #16: akyab\n",
      "Now retrieving city #17: lompoc\n",
      "Now retrieving city #18: tiruvidaimarudur\n",
      "Now retrieving city #19: busselton\n",
      "Now retrieving city #20: byron bay\n",
      "Now retrieving city #21: saleaula\n",
      "City not found. Skipping...\n",
      "Now retrieving city #22: atuona\n",
      "Now retrieving city #23: punta arenas\n",
      "Now retrieving city #24: pisco\n",
      "Now retrieving city #25: lebu\n",
      "Now retrieving city #26: la estancia\n",
      "Now retrieving city #27: thompson\n",
      "Now retrieving city #28: vanavara\n",
      "Now retrieving city #29: ushuaia\n",
      "Now retrieving city #30: saint george\n",
      "Now retrieving city #31: hobart\n",
      "Now retrieving city #32: teknaf\n",
      "Now retrieving city #33: bredasdorp\n",
      "Now retrieving city #34: new norfolk\n",
      "Now retrieving city #35: gemena\n",
      "Now retrieving city #36: santa fe\n",
      "Now retrieving city #37: port alfred\n",
      "Now retrieving city #38: jamestown\n",
      "Now retrieving city #39: bargal\n",
      "City not found. Skipping...\n",
      "Now retrieving city #40: cherskiy\n",
      "Now retrieving city #41: puerto ayora\n",
      "Now retrieving city #42: san patricio\n",
      "Now retrieving city #43: naze\n",
      "Now retrieving city #44: mayo\n",
      "Now retrieving city #45: norman wells\n",
      "Now retrieving city #46: katsuura\n",
      "Now retrieving city #47: hilo\n",
      "Now retrieving city #48: ariogala\n",
      "Now retrieving city #49: mitsamiouli\n",
      "Now retrieving city #50: hermanus\n",
      "Now retrieving city #51: saint-philippe\n",
      "Now retrieving city #52: fereydun kenar\n",
      "Now retrieving city #53: bengkulu\n",
      "Now retrieving city #54: andenes\n",
      "Now retrieving city #55: ribeira grande\n",
      "Now retrieving city #56: namatanai\n",
      "Now retrieving city #57: husavik\n",
      "Now retrieving city #58: porto santo\n",
      "Now retrieving city #59: necochea\n",
      "Now retrieving city #60: spring valley\n",
      "Now retrieving city #61: taolanaro\n",
      "City not found. Skipping...\n",
      "Now retrieving city #62: sable-sur-sarthe\n",
      "Now retrieving city #63: hithadhoo\n",
      "Now retrieving city #64: kahului\n",
      "Now retrieving city #65: kadom\n",
      "Now retrieving city #66: barentsburg\n",
      "City not found. Skipping...\n",
      "Now retrieving city #67: mahebourg\n",
      "Now retrieving city #68: dharchula\n",
      "Now retrieving city #69: sentyabrskiy\n",
      "City not found. Skipping...\n",
      "Now retrieving city #70: nanortalik\n",
      "Now retrieving city #71: barreirinha\n",
      "Now retrieving city #72: qaanaaq\n",
      "Now retrieving city #73: kalavad\n",
      "Now retrieving city #74: tuktoyaktuk\n",
      "Now retrieving city #75: houston\n",
      "Now retrieving city #76: celldomolk\n",
      "Now retrieving city #77: atar\n",
      "Now retrieving city #78: peachland\n",
      "Now retrieving city #79: tasiilaq\n",
      "Now retrieving city #80: karaul\n",
      "City not found. Skipping...\n",
      "Now retrieving city #81: avarua\n",
      "Now retrieving city #82: rumuruti\n",
      "Now retrieving city #83: kaitangata\n",
      "Now retrieving city #84: tawzar\n",
      "City not found. Skipping...\n",
      "Now retrieving city #85: castro\n",
      "Now retrieving city #86: mataura\n",
      "Now retrieving city #87: ceres\n",
      "Now retrieving city #88: codrington\n",
      "Now retrieving city #89: parauna\n",
      "Now retrieving city #90: bom jesus\n",
      "Now retrieving city #91: cape town\n",
      "Now retrieving city #92: vostochnyy\n",
      "Now retrieving city #93: honningsvag\n",
      "Now retrieving city #94: kruisfontein\n",
      "Now retrieving city #95: kailua\n",
      "Now retrieving city #96: luwuk\n",
      "Now retrieving city #97: lakes entrance\n",
      "Now retrieving city #98: gumdag\n",
      "Now retrieving city #99: mugan\n",
      "Now retrieving city #100: hvammstangi\n",
      "City not found. Skipping...\n",
      "Now retrieving city #101: goure\n",
      "Now retrieving city #102: esperance\n",
      "Now retrieving city #103: kavieng\n",
      "Now retrieving city #104: albany\n",
      "Now retrieving city #105: provideniya\n",
      "Now retrieving city #106: mungwi\n",
      "Now retrieving city #107: east london\n",
      "Now retrieving city #108: dolores\n",
      "Now retrieving city #109: klaksvik\n",
      "Now retrieving city #110: bandar-e lengeh\n",
      "Now retrieving city #111: college\n",
      "Now retrieving city #112: wuda\n",
      "Now retrieving city #113: ye\n",
      "City not found. Skipping...\n",
      "Now retrieving city #114: san quintin\n",
      "Now retrieving city #115: leh\n",
      "Now retrieving city #116: kihei\n",
      "Now retrieving city #117: dikson\n",
      "Now retrieving city #118: muborak\n",
      "Now retrieving city #119: clyde river\n",
      "Now retrieving city #120: bethel\n",
      "Now retrieving city #121: carnarvon\n",
      "Now retrieving city #122: barrow\n",
      "Now retrieving city #123: lasa\n",
      "Now retrieving city #124: arlit\n",
      "Now retrieving city #125: teahupoo\n",
      "Now retrieving city #126: asau\n",
      "Now retrieving city #127: yambio\n",
      "Now retrieving city #128: victoria\n",
      "Now retrieving city #129: coquimbo\n",
      "Now retrieving city #130: flinders\n",
      "Now retrieving city #131: tecoanapa\n",
      "Now retrieving city #132: bolshaya glushitsa\n",
      "Now retrieving city #133: ancud\n",
      "Now retrieving city #134: saldanha\n",
      "Now retrieving city #135: santa cruz\n",
      "Now retrieving city #136: pevek\n",
      "Now retrieving city #137: longyearbyen\n",
      "Now retrieving city #138: belushya guba\n",
      "City not found. Skipping...\n",
      "Now retrieving city #139: iranshahr\n",
      "Now retrieving city #140: englewood\n",
      "Now retrieving city #141: luderitz\n",
      "Now retrieving city #142: bilma\n",
      "Now retrieving city #143: tashtyp\n",
      "Now retrieving city #144: calama\n",
      "Now retrieving city #145: quelimane\n",
      "Now retrieving city #146: waycross\n",
      "Now retrieving city #147: basco\n",
      "Now retrieving city #148: ust-koksa\n",
      "Now retrieving city #149: illoqqortoormiut\n",
      "City not found. Skipping...\n",
      "Now retrieving city #150: dingle\n",
      "Now retrieving city #151: ponta do sol\n",
      "Now retrieving city #152: siniscola\n",
      "Now retrieving city #153: umzimvubu\n",
      "City not found. Skipping...\n",
      "Now retrieving city #154: constitucion\n",
      "Now retrieving city #155: sioux lookout\n",
      "Now retrieving city #156: tabiauea\n",
      "City not found. Skipping...\n",
      "Now retrieving city #157: nizhneyansk\n",
      "City not found. Skipping...\n",
      "Now retrieving city #158: bluff\n",
      "Now retrieving city #159: pangnirtung\n",
      "Now retrieving city #160: daxian\n",
      "City not found. Skipping...\n",
      "Now retrieving city #161: mae hong son\n",
      "Now retrieving city #162: havelock\n",
      "Now retrieving city #163: koulamoutou\n",
      "Now retrieving city #164: khorinsk\n",
      "Now retrieving city #165: san carlos de bariloche\n",
      "Now retrieving city #166: lavrentiya\n",
      "Now retrieving city #167: nuristan\n",
      "Now retrieving city #168: nizwa\n",
      "Now retrieving city #169: solnechnyy\n",
      "Now retrieving city #170: hamilton\n",
      "Now retrieving city #171: cedar city\n",
      "Now retrieving city #172: athabasca\n",
      "Now retrieving city #173: taltal\n",
      "Now retrieving city #174: yellowknife\n",
      "Now retrieving city #175: elko\n",
      "Now retrieving city #176: lata\n",
      "Now retrieving city #177: vaitupu\n",
      "City not found. Skipping...\n",
      "Now retrieving city #178: rafai\n",
      "Now retrieving city #179: khatanga\n",
      "Now retrieving city #180: vao\n",
      "Now retrieving city #181: bandarbeyla\n",
      "Now retrieving city #182: meulaboh\n",
      "Now retrieving city #183: broken hill\n",
      "Now retrieving city #184: karakendzha\n",
      "City not found. Skipping...\n",
      "Now retrieving city #185: cabo san lucas\n",
      "Now retrieving city #186: pozo colorado\n",
      "Now retrieving city #187: bulgan\n",
      "Now retrieving city #188: tucumcari\n",
      "Now retrieving city #189: seoul\n",
      "Now retrieving city #190: progreso\n",
      "Now retrieving city #191: grand gaube\n",
      "Now retrieving city #192: beloha\n",
      "Now retrieving city #193: acarau\n",
      "Now retrieving city #194: kedrovka\n",
      "Now retrieving city #195: kotovsk\n",
      "Now retrieving city #196: cockburn town\n",
      "Now retrieving city #197: altay\n",
      "Now retrieving city #198: ostersund\n",
      "Now retrieving city #199: airai\n",
      "Now retrieving city #200: tondano\n",
      "Now retrieving city #201: baykit\n",
      "Now retrieving city #202: dombarovskiy\n",
      "Now retrieving city #203: sao filipe\n",
      "Now retrieving city #204: namibe\n",
      "Now retrieving city #205: souillac\n",
      "Now retrieving city #206: mitu\n",
      "Now retrieving city #207: wajima\n",
      "Now retrieving city #208: honiara\n",
      "Now retrieving city #209: uglich\n",
      "Now retrieving city #210: upernavik\n",
      "Now retrieving city #211: lodja\n",
      "Now retrieving city #212: chokurdakh\n",
      "Now retrieving city #213: vernon\n",
      "Now retrieving city #214: aykhal\n",
      "Now retrieving city #215: bambous virieux\n",
      "Now retrieving city #216: guerrero negro\n",
      "Now retrieving city #217: kidodi\n",
      "Now retrieving city #218: ta khmau\n",
      "Now retrieving city #219: lebork\n",
      "Now retrieving city #220: zhigansk\n",
      "Now retrieving city #221: santiago del estero\n"
     ]
    },
    {
     "name": "stdout",
     "output_type": "stream",
     "text": [
      "Now retrieving city #222: severo-yeniseyskiy\n",
      "Now retrieving city #223: arraial do cabo\n",
      "Now retrieving city #224: aswan\n",
      "Now retrieving city #225: attawapiskat\n",
      "City not found. Skipping...\n",
      "Now retrieving city #226: yerbogachen\n",
      "Now retrieving city #227: urucui\n",
      "Now retrieving city #228: poum\n",
      "Now retrieving city #229: eureka\n",
      "Now retrieving city #230: hasaki\n",
      "Now retrieving city #231: almaznyy\n",
      "Now retrieving city #232: el prat de llobregat\n",
      "Now retrieving city #233: port hedland\n",
      "Now retrieving city #234: avera\n",
      "Now retrieving city #235: mezen\n",
      "Now retrieving city #236: puerto leguizamo\n",
      "Now retrieving city #237: deputatskiy\n",
      "Now retrieving city #238: panshi\n",
      "Now retrieving city #239: fortuna\n",
      "Now retrieving city #240: amapa\n",
      "Now retrieving city #241: imbituba\n",
      "Now retrieving city #242: isangel\n",
      "Now retrieving city #243: iqaluit\n",
      "Now retrieving city #244: khormuj\n",
      "City not found. Skipping...\n",
      "Now retrieving city #245: benjamin constant\n",
      "Now retrieving city #246: campana\n",
      "Now retrieving city #247: cody\n",
      "Now retrieving city #248: morogoro\n",
      "Now retrieving city #249: verkhoyansk\n",
      "Now retrieving city #250: noyabrsk\n",
      "Now retrieving city #251: kurilsk\n",
      "Now retrieving city #252: iaciara\n",
      "Now retrieving city #253: mount gambier\n",
      "Now retrieving city #254: maneromango\n",
      "Now retrieving city #255: ligayan\n",
      "Now retrieving city #256: touros\n",
      "Now retrieving city #257: kawalu\n",
      "Now retrieving city #258: comodoro rivadavia\n",
      "Now retrieving city #259: chifeng\n",
      "Now retrieving city #260: serenje\n",
      "Now retrieving city #261: kosh-agach\n",
      "Now retrieving city #262: faanui\n",
      "Now retrieving city #263: gulu\n",
      "Now retrieving city #264: buala\n",
      "Now retrieving city #265: kenai\n",
      "Now retrieving city #266: clinton\n",
      "Now retrieving city #267: korla\n",
      "Now retrieving city #268: aklavik\n",
      "Now retrieving city #269: hofn\n",
      "Now retrieving city #270: gimli\n",
      "Now retrieving city #271: alofi\n",
      "Now retrieving city #272: kodiak\n",
      "Now retrieving city #273: talnakh\n",
      "Now retrieving city #274: shagonar\n",
      "Now retrieving city #275: kisangani\n",
      "Now retrieving city #276: broome\n",
      "Now retrieving city #277: marmande\n",
      "Now retrieving city #278: tsihombe\n",
      "City not found. Skipping...\n",
      "Now retrieving city #279: ilulissat\n",
      "Now retrieving city #280: empangeni\n",
      "Now retrieving city #281: rio tercero\n",
      "Now retrieving city #282: goderich\n",
      "Now retrieving city #283: marawi\n",
      "Now retrieving city #284: saint-marc-des-carrieres\n",
      "Now retrieving city #285: san cristobal\n",
      "Now retrieving city #286: stafford\n",
      "Now retrieving city #287: isla vista\n",
      "Now retrieving city #288: mount isa\n",
      "Now retrieving city #289: kokopo\n",
      "Now retrieving city #290: bridlington\n",
      "Now retrieving city #291: sinnamary\n",
      "Now retrieving city #292: dhankuta\n",
      "Now retrieving city #293: kaya\n",
      "Now retrieving city #294: sola\n",
      "Now retrieving city #295: ambanja\n",
      "Now retrieving city #296: manzanillo\n",
      "Now retrieving city #297: kayseri\n",
      "Now retrieving city #298: ostrovnoy\n",
      "Now retrieving city #299: mys shmidta\n",
      "City not found. Skipping...\n",
      "Now retrieving city #300: kavaratti\n",
      "Now retrieving city #301: yongan\n",
      "Now retrieving city #302: amderma\n",
      "City not found. Skipping...\n",
      "Now retrieving city #303: savalou\n",
      "Now retrieving city #304: saint-francois\n",
      "Now retrieving city #305: karauzyak\n",
      "City not found. Skipping...\n",
      "Now retrieving city #306: azare\n",
      "Now retrieving city #307: georgetown\n",
      "Now retrieving city #308: podujevo\n",
      "Now retrieving city #309: narsaq\n",
      "Now retrieving city #310: tiksi\n",
      "Now retrieving city #311: lircay\n",
      "Now retrieving city #312: luau\n",
      "Now retrieving city #313: krasnyy yar\n",
      "Now retrieving city #314: yenagoa\n",
      "Now retrieving city #315: lerwick\n",
      "Now retrieving city #316: portland\n",
      "Now retrieving city #317: berlevag\n",
      "Now retrieving city #318: zhezkazgan\n",
      "Now retrieving city #319: huaihua\n",
      "Now retrieving city #320: ixtapa\n",
      "Now retrieving city #321: leningradskiy\n",
      "Now retrieving city #322: havoysund\n",
      "Now retrieving city #323: bintulu\n",
      "Now retrieving city #324: ustupo\n",
      "Now retrieving city #325: grindavik\n",
      "Now retrieving city #326: rayagada\n",
      "Now retrieving city #327: manta\n",
      "Now retrieving city #328: mattru\n",
      "Now retrieving city #329: samur\n",
      "Now retrieving city #330: tigil\n",
      "Now retrieving city #331: vila franca do campo\n",
      "Now retrieving city #332: yarmouth\n",
      "Now retrieving city #333: hay river\n",
      "Now retrieving city #334: maua\n",
      "Now retrieving city #335: ventspils\n",
      "Now retrieving city #336: galle\n",
      "Now retrieving city #337: camana\n",
      "Now retrieving city #338: yumen\n",
      "Now retrieving city #339: mahibadhoo\n",
      "Now retrieving city #340: ormara\n",
      "Now retrieving city #341: santa rosa de viterbo\n",
      "Now retrieving city #342: geraldton\n",
      "Now retrieving city #343: denpasar\n",
      "Now retrieving city #344: preobrazheniye\n",
      "Now retrieving city #345: westport\n",
      "Now retrieving city #346: torzhok\n",
      "Now retrieving city #347: sarapul\n",
      "Now retrieving city #348: alta floresta\n",
      "Now retrieving city #349: severo-kurilsk\n",
      "Now retrieving city #350: keti bandar\n",
      "Now retrieving city #351: itapuranga\n",
      "Now retrieving city #352: daru\n",
      "Now retrieving city #353: khudumelapye\n",
      "Now retrieving city #354: oshawa\n",
      "Now retrieving city #355: sorrento\n",
      "Now retrieving city #356: methoni\n",
      "Now retrieving city #357: rio grande\n",
      "Now retrieving city #358: vuktyl\n",
      "Now retrieving city #359: chuy\n",
      "Now retrieving city #360: northam\n",
      "Now retrieving city #361: belyy yar\n",
      "Now retrieving city #362: araouane\n",
      "Now retrieving city #363: saint anthony\n",
      "Now retrieving city #364: talaya\n",
      "Now retrieving city #365: oum hadjer\n",
      "Now retrieving city #366: alekseyevka\n",
      "Now retrieving city #367: kankaanpaa\n",
      "Now retrieving city #368: waipawa\n",
      "Now retrieving city #369: sitka\n",
      "Now retrieving city #370: ryotsu\n",
      "Now retrieving city #371: whitehorse\n",
      "Now retrieving city #372: batagay\n",
      "Now retrieving city #373: tura\n",
      "Now retrieving city #374: french harbor\n",
      "Now retrieving city #375: jalu\n",
      "Now retrieving city #376: novosilikatnyy\n",
      "Now retrieving city #377: ati\n",
      "Now retrieving city #378: fort saint john\n",
      "City not found. Skipping...\n",
      "Now retrieving city #379: moisakula\n",
      "Now retrieving city #380: vila velha\n",
      "Now retrieving city #381: muravlenko\n",
      "Now retrieving city #382: vestmannaeyjar\n",
      "Now retrieving city #383: harnosand\n",
      "Now retrieving city #384: formoso do araguaia\n",
      "City not found. Skipping...\n",
      "Now retrieving city #385: cidreira\n",
      "Now retrieving city #386: jumla\n",
      "Now retrieving city #387: torquay\n",
      "Now retrieving city #388: bucerias\n",
      "Now retrieving city #389: tautira\n",
      "Now retrieving city #390: abu dhabi\n",
      "Now retrieving city #391: aflu\n",
      "City not found. Skipping...\n",
      "Now retrieving city #392: mirnyy\n",
      "Now retrieving city #393: mukhen\n",
      "Now retrieving city #394: hervey bay\n",
      "Now retrieving city #395: katsiveli\n",
      "City not found. Skipping...\n",
      "Now retrieving city #396: gaya\n",
      "Now retrieving city #397: samusu\n",
      "City not found. Skipping...\n",
      "Now retrieving city #398: kloulklubed\n",
      "Now retrieving city #399: huarmey\n",
      "Now retrieving city #400: novooleksiyivka\n",
      "Now retrieving city #401: ambikapur\n",
      "Now retrieving city #402: porto novo\n",
      "Now retrieving city #403: utiroa\n",
      "City not found. Skipping...\n",
      "Now retrieving city #404: trinidad\n",
      "Now retrieving city #405: sur\n",
      "Now retrieving city #406: halalo\n",
      "City not found. Skipping...\n",
      "Now retrieving city #407: sataua\n",
      "City not found. Skipping...\n",
      "Now retrieving city #408: banda aceh\n",
      "Now retrieving city #409: lagoa\n",
      "Now retrieving city #410: krasnoselkup\n",
      "Now retrieving city #411: celestun\n",
      "Now retrieving city #412: rundu\n",
      "Now retrieving city #413: mandalgovi\n",
      "Now retrieving city #414: jerome\n",
      "Now retrieving city #415: muros\n",
      "Now retrieving city #416: ngukurr\n",
      "City not found. Skipping...\n",
      "Now retrieving city #417: ust-kuyga\n",
      "Now retrieving city #418: ca mau\n",
      "Now retrieving city #419: ahipara\n",
      "Now retrieving city #420: shimoda\n",
      "Now retrieving city #421: smolenka\n",
      "Now retrieving city #422: satitoa\n",
      "City not found. Skipping...\n",
      "Now retrieving city #423: alugan\n",
      "Now retrieving city #424: awjilah\n",
      "Now retrieving city #425: belebey\n",
      "Now retrieving city #426: bulaevo\n",
      "Now retrieving city #427: mehamn\n",
      "Now retrieving city #428: ivdel\n",
      "Now retrieving city #429: biak\n",
      "Now retrieving city #430: mao\n",
      "Now retrieving city #431: union city\n",
      "Now retrieving city #432: oktyabrskiy\n",
      "Now retrieving city #433: nambour\n",
      "Now retrieving city #434: vostok\n",
      "Now retrieving city #435: torbay\n",
      "Now retrieving city #436: port lincoln\n",
      "Now retrieving city #437: hohhot\n",
      "Now retrieving city #438: sorland\n",
      "Now retrieving city #439: dzhebariki-khaya\n",
      "Now retrieving city #440: dubna\n",
      "Now retrieving city #441: conakry\n",
      "Now retrieving city #442: egvekinot\n"
     ]
    },
    {
     "name": "stdout",
     "output_type": "stream",
     "text": [
      "Now retrieving city #443: jiangyou\n",
      "Now retrieving city #444: warqla\n",
      "City not found. Skipping...\n",
      "Now retrieving city #445: bolivar\n",
      "Now retrieving city #446: abalak\n",
      "Now retrieving city #447: pokrovsk\n",
      "Now retrieving city #448: yabassi\n",
      "Now retrieving city #449: inhambane\n",
      "Now retrieving city #450: fairbanks\n",
      "Now retrieving city #451: yangjiang\n",
      "Now retrieving city #452: shingu\n",
      "Now retrieving city #453: lorengau\n",
      "Now retrieving city #454: belmonte\n",
      "Now retrieving city #455: imeni babushkina\n",
      "Now retrieving city #456: coahuayana\n",
      "Now retrieving city #457: cap malheureux\n",
      "Now retrieving city #458: kudahuvadhoo\n",
      "Now retrieving city #459: suslovo\n",
      "Now retrieving city #460: makaha\n",
      "Now retrieving city #461: kita\n",
      "Now retrieving city #462: baracoa\n",
      "Now retrieving city #463: ardistan\n",
      "City not found. Skipping...\n",
      "Now retrieving city #464: eseka\n",
      "Now retrieving city #465: half moon bay\n",
      "Now retrieving city #466: aquiraz\n",
      "Now retrieving city #467: caluquembe\n",
      "Now retrieving city #468: steinbach\n",
      "Now retrieving city #469: maniitsoq\n",
      "Now retrieving city #470: aksu\n",
      "Now retrieving city #471: sumenep\n",
      "Now retrieving city #472: llangefni\n",
      "Now retrieving city #473: ulladulla\n",
      "Now retrieving city #474: sawakin\n",
      "Now retrieving city #475: fort nelson\n",
      "Now retrieving city #476: coihaique\n",
      "Now retrieving city #477: bilibino\n",
      "Now retrieving city #478: sarangani\n",
      "Now retrieving city #479: bardsir\n",
      "Now retrieving city #480: ler\n",
      "Now retrieving city #481: mushie\n",
      "Now retrieving city #482: malindi\n",
      "Now retrieving city #483: colborne\n",
      "Now retrieving city #484: port blair\n",
      "Now retrieving city #485: tyrma\n",
      "Now retrieving city #486: spirit river\n",
      "Now retrieving city #487: hastings\n",
      "Now retrieving city #488: cabedelo\n",
      "Now retrieving city #489: berezovka\n",
      "Now retrieving city #490: abeche\n",
      "Now retrieving city #491: tezu\n",
      "Now retrieving city #492: puerto escondido\n",
      "Now retrieving city #493: bury\n",
      "Now retrieving city #494: coromandel\n",
      "Now retrieving city #495: ginda\n",
      "Now retrieving city #496: kribi\n",
      "Now retrieving city #497: ziway\n",
      "Now retrieving city #498: smithers\n",
      "Now retrieving city #499: craig\n",
      "Now retrieving city #500: kelowna\n",
      "Now retrieving city #501: makat\n",
      "Now retrieving city #502: eten\n",
      "Now retrieving city #503: roald\n",
      "Now retrieving city #504: la ronge\n",
      "Now retrieving city #505: manicore\n",
      "Now retrieving city #506: kaka\n",
      "Now retrieving city #507: anadyr\n",
      "Now retrieving city #508: sattahip\n",
      "Now retrieving city #509: bud\n",
      "Now retrieving city #510: nguiu\n",
      "City not found. Skipping...\n",
      "Now retrieving city #511: sept-iles\n",
      "Now retrieving city #512: aranos\n",
      "Now retrieving city #513: saint-pierre\n",
      "Now retrieving city #514: xiamen\n",
      "Now retrieving city #515: cayenne\n",
      "Now retrieving city #516: salalah\n",
      "Now retrieving city #517: medea\n",
      "Now retrieving city #518: invermere\n",
      "Now retrieving city #519: soyo\n",
      "Now retrieving city #520: port hardy\n",
      "Now retrieving city #521: linxia\n",
      "Now retrieving city #522: tome-acu\n",
      "City not found. Skipping...\n",
      "Now retrieving city #523: marcona\n",
      "City not found. Skipping...\n",
      "Now retrieving city #524: puerto madryn\n",
      "Now retrieving city #525: khonuu\n",
      "City not found. Skipping...\n",
      "Now retrieving city #526: dunedin\n",
      "Now retrieving city #527: baker city\n",
      "Now retrieving city #528: baoning\n",
      "Now retrieving city #529: plymouth\n",
      "Now retrieving city #530: manggar\n",
      "Now retrieving city #531: melbu\n",
      "Now retrieving city #532: sperkhias\n",
      "City not found. Skipping...\n",
      "Now retrieving city #533: bondo\n",
      "Now retrieving city #534: atbasar\n",
      "Now retrieving city #535: surgut\n",
      "Now retrieving city #536: kanlagay\n",
      "Now retrieving city #537: pangkalanbuun\n",
      "Now retrieving city #538: grand river south east\n",
      "City not found. Skipping...\n",
      "Now retrieving city #539: ozgon\n",
      "City not found. Skipping...\n",
      "Now retrieving city #540: martinez\n",
      "Now retrieving city #541: kourou\n",
      "Now retrieving city #542: waingapu\n",
      "Now retrieving city #543: fuzhou\n",
      "Now retrieving city #544: chumikan\n",
      "Now retrieving city #545: kayerkan\n",
      "Now retrieving city #546: vardo\n",
      "Now retrieving city #547: port said\n",
      "Now retrieving city #548: stoyba\n",
      "City not found. Skipping...\n",
      "Now retrieving city #549: wanaka\n",
      "Now retrieving city #550: laguna\n",
      "Now retrieving city #551: lamu\n",
      "Now retrieving city #552: miranda\n",
      "Now retrieving city #553: syntul\n",
      "Now retrieving city #554: camacha\n",
      "Now retrieving city #555: dudinka\n",
      "Now retrieving city #556: kuah\n",
      "Now retrieving city #557: krasnorechenskiy\n",
      "Now retrieving city #558: caravelas\n",
      "Now retrieving city #559: mahajanga\n",
      "Now retrieving city #560: chicama\n",
      "Now retrieving city #561: gouyave\n",
      "Now retrieving city #562: liaoyang\n",
      "Now retrieving city #563: sayyan\n",
      "Now retrieving city #564: wangdiphodrang\n",
      "City not found. Skipping...\n",
      "Now retrieving city #565: terrace\n",
      "Now retrieving city #566: bratsk\n",
      "Now retrieving city #567: ambodifototra\n",
      "City not found. Skipping...\n",
      "Now retrieving city #568: rawlins\n",
      "Now retrieving city #569: paamiut\n",
      "Now retrieving city #570: manaquiri\n",
      "Now retrieving city #571: lima\n",
      "Now retrieving city #572: adrar\n",
      "Now retrieving city #573: myitkyina\n",
      "Now retrieving city #574: afmadu\n",
      "City not found. Skipping...\n",
      "Now retrieving city #575: kuche\n",
      "City not found. Skipping...\n",
      "Now retrieving city #576: zamora\n",
      "Now retrieving city #577: puerto del rosario\n",
      "Now retrieving city #578: yali\n",
      "Now retrieving city #579: dedza\n",
      "Now retrieving city #580: vakhrushev\n",
      "Now retrieving city #581: nizhniy lomov\n",
      "Now retrieving city #582: tazovskiy\n",
      "Now retrieving city #583: cabra\n",
      "Now retrieving city #584: belaya gora\n",
      "Now retrieving city #585: arequipa\n",
      "Now retrieving city #586: mount darwin\n",
      "Now retrieving city #587: natal\n",
      "Now retrieving city #588: sinjai\n",
      "Now retrieving city #589: te anau\n",
      "Now retrieving city #590: kazalinsk\n",
      "City not found. Skipping...\n",
      "Now retrieving city #591: adamas\n",
      "Now retrieving city #592: lodwar\n",
      "Now retrieving city #593: thunder bay\n",
      "Now retrieving city #594: timmins\n",
      "Now retrieving city #595: camaguey\n",
      "Now retrieving city #596: lexington\n",
      "Now retrieving city #597: san jeronimo\n",
      "Now retrieving city #598: nara\n",
      "Now retrieving city #599: chhabra\n",
      "Now retrieving city #600: suntar\n",
      "Now retrieving city #601: ojinaga\n",
      "Now retrieving city #602: harper\n",
      "Now retrieving city #603: padang\n",
      "Now retrieving city #604: tromso\n",
      "Now retrieving city #605: solovetskiy\n",
      "City not found. Skipping...\n",
      "Now retrieving city #606: ouargaye\n",
      "Now retrieving city #607: cartagena\n",
      "Now retrieving city #608: midland\n",
      "Now retrieving city #609: estevan\n",
      "Now retrieving city #610: bandipur\n",
      "Now retrieving city #611: port keats\n",
      "Now retrieving city #612: iwanai\n",
      "Now retrieving city #613: quixada\n",
      "Now retrieving city #614: garowe\n",
      "Now retrieving city #615: koundara\n"
     ]
    }
   ],
   "source": [
    "# List for holding city, cloudiness, country, date, humidity, lat, lng, max temp, and wind speed                                                                      \n",
    "\n",
    "cities_df[\"Cloudiness\"]=\"\"\n",
    "cities_df[\"Country\"]=\"\"\n",
    "cities_df[\"Date\"]=\"\"\n",
    "cities_df[\"Humidity\"]=\"\"\n",
    "cities_df[\"Lat\"]=\"\"\n",
    "cities_df[\"Lng\"]=\"\"\n",
    "cities_df[\"Max Temp\"] =\"\"\n",
    "cities_df[\"Wind Speed\"]=\"\"\n",
    "\n",
    "#http://api.openweathermap.org/data/2.5/forecast?id=524901&APPID={APIKEY}\n",
    "\n",
    "# Counter\n",
    "row_count = 0\n",
    "\n",
    "# Loop through and run openweahter find data for the empty column\n",
    "for index, row in cities_df.iterrows():\n",
    "    # Create endpoint url\n",
    "    params = {\n",
    "    \"q\": cities_df.loc[index][\"City\"],\n",
    "    \"units\": \"IMPERIAL\",\n",
    "    \"mode\": \"json\",\n",
    "    \"appid\": weather_api_key}\n",
    "\n",
    "    base_url = \"http://api.openweathermap.org/data/2.5/weather?\"\n",
    "\n",
    "\n",
    "\n",
    "    # This link helps to handily see the JSON generated for each query\n",
    "    print(\"Now retrieving city #%s: %s\" % (row_count, cities_df.loc[index][\"City\"]))\n",
    "    row_count += 1 \n",
    "    \n",
    "    # Run a request to grab the JSON at the base URL\n",
    "    data = requests.get(base_url, params=params).json()\n",
    "    try:\n",
    "        \n",
    "        cloud = data['clouds']['all']\n",
    "        country = data[\"sys\"][\"country\"]\n",
    "        date = data[\"dt\"]\n",
    "        humidity = data['main']['humidity']\n",
    "        lat = data[\"coord\"][\"lat\"]\n",
    "        long = data[\"coord\"][\"lon\"]\n",
    "        max_temp = data[\"main\"][\"temp_max\"]\n",
    "        city_wind = data['wind']['speed']\n",
    "       \n",
    "        cities_df.set_value(index, \"Cloudiness\", cloud)\n",
    "        cities_df.set_value(index, \"Country\", country)\n",
    "        cities_df.set_value(index, \"Date\", date)\n",
    "        cities_df.set_value(index, \"Humidity\", humidity)\n",
    "        cities_df.set_value(index, \"Lat\", lat)\n",
    "        cities_df.set_value(index, \"Lng\", long)\n",
    "        cities_df.set_value(index, \"Max Temp\", max_temp)\n",
    "        cities_df.set_value(index, \"Wind Speed\", city_wind)\n",
    "        \n",
    "    except:\n",
    "        print(\"City not found. Skipping...\")\n",
    "        continue \n",
    "    \n"
   ]
  },
  {
   "cell_type": "markdown",
   "metadata": {},
   "source": [
    "### Convert Raw Data to DataFrame\n",
    "* Export the city data into a .csv.\n",
    "* Display the DataFrame"
   ]
  },
  {
   "cell_type": "code",
   "execution_count": 5,
   "metadata": {},
   "outputs": [
    {
     "data": {
      "text/plain": [
       "City          616\n",
       "Cloudiness    616\n",
       "Country       616\n",
       "Date          616\n",
       "Humidity      616\n",
       "Lat           616\n",
       "Lng           616\n",
       "Max Temp      616\n",
       "Wind Speed    616\n",
       "dtype: int64"
      ]
     },
     "execution_count": 5,
     "metadata": {},
     "output_type": "execute_result"
    }
   ],
   "source": [
    "# Save the dataframe to designated output file as a csv\n",
    "cities_df.to_csv(output_data_file, encoding=\"utf-8\", index=False)\n",
    "\n",
    "cities_df.count()\n"
   ]
  },
  {
   "cell_type": "code",
   "execution_count": 6,
   "metadata": {},
   "outputs": [
    {
     "data": {
      "text/html": [
       "<div>\n",
       "<style scoped>\n",
       "    .dataframe tbody tr th:only-of-type {\n",
       "        vertical-align: middle;\n",
       "    }\n",
       "\n",
       "    .dataframe tbody tr th {\n",
       "        vertical-align: top;\n",
       "    }\n",
       "\n",
       "    .dataframe thead th {\n",
       "        text-align: right;\n",
       "    }\n",
       "</style>\n",
       "<table border=\"1\" class=\"dataframe\">\n",
       "  <thead>\n",
       "    <tr style=\"text-align: right;\">\n",
       "      <th></th>\n",
       "      <th>City</th>\n",
       "      <th>Cloudiness</th>\n",
       "      <th>Country</th>\n",
       "      <th>Date</th>\n",
       "      <th>Humidity</th>\n",
       "      <th>Lat</th>\n",
       "      <th>Lng</th>\n",
       "      <th>Max Temp</th>\n",
       "      <th>Wind Speed</th>\n",
       "    </tr>\n",
       "  </thead>\n",
       "  <tbody>\n",
       "    <tr>\n",
       "      <td>0</td>\n",
       "      <td>tshela</td>\n",
       "      <td>100</td>\n",
       "      <td>CD</td>\n",
       "      <td>1583906775</td>\n",
       "      <td>97</td>\n",
       "      <td>-4.98</td>\n",
       "      <td>12.93</td>\n",
       "      <td>74.61</td>\n",
       "      <td>1.25</td>\n",
       "    </tr>\n",
       "    <tr>\n",
       "      <td>1</td>\n",
       "      <td>lufilufi</td>\n",
       "      <td>97</td>\n",
       "      <td>WS</td>\n",
       "      <td>1583906775</td>\n",
       "      <td>70</td>\n",
       "      <td>-13.87</td>\n",
       "      <td>-171.6</td>\n",
       "      <td>87.01</td>\n",
       "      <td>4</td>\n",
       "    </tr>\n",
       "    <tr>\n",
       "      <td>2</td>\n",
       "      <td>saskylakh</td>\n",
       "      <td>0</td>\n",
       "      <td>RU</td>\n",
       "      <td>1583906746</td>\n",
       "      <td>83</td>\n",
       "      <td>71.92</td>\n",
       "      <td>114.08</td>\n",
       "      <td>-15.48</td>\n",
       "      <td>17.76</td>\n",
       "    </tr>\n",
       "    <tr>\n",
       "      <td>3</td>\n",
       "      <td>tuatapere</td>\n",
       "      <td>61</td>\n",
       "      <td>NZ</td>\n",
       "      <td>1583906776</td>\n",
       "      <td>69</td>\n",
       "      <td>-46.13</td>\n",
       "      <td>167.68</td>\n",
       "      <td>55.99</td>\n",
       "      <td>3</td>\n",
       "    </tr>\n",
       "    <tr>\n",
       "      <td>4</td>\n",
       "      <td>butaritari</td>\n",
       "      <td>18</td>\n",
       "      <td>KI</td>\n",
       "      <td>1583906725</td>\n",
       "      <td>77</td>\n",
       "      <td>3.07</td>\n",
       "      <td>172.79</td>\n",
       "      <td>84</td>\n",
       "      <td>20.74</td>\n",
       "    </tr>\n",
       "  </tbody>\n",
       "</table>\n",
       "</div>"
      ],
      "text/plain": [
       "         City Cloudiness Country        Date Humidity    Lat     Lng Max Temp  \\\n",
       "0      tshela        100      CD  1583906775       97  -4.98   12.93    74.61   \n",
       "1    lufilufi         97      WS  1583906775       70 -13.87  -171.6    87.01   \n",
       "2   saskylakh          0      RU  1583906746       83  71.92  114.08   -15.48   \n",
       "3   tuatapere         61      NZ  1583906776       69 -46.13  167.68    55.99   \n",
       "4  butaritari         18      KI  1583906725       77   3.07  172.79       84   \n",
       "\n",
       "  Wind Speed  \n",
       "0       1.25  \n",
       "1          4  \n",
       "2      17.76  \n",
       "3          3  \n",
       "4      20.74  "
      ]
     },
     "execution_count": 6,
     "metadata": {},
     "output_type": "execute_result"
    }
   ],
   "source": [
    "cities_df.head()"
   ]
  },
  {
   "cell_type": "markdown",
   "metadata": {},
   "source": [
    "### Plotting the Data\n",
    "* Use proper labeling of the plots using plot titles (including date of analysis) and axes labels.\n",
    "* Save the plotted figures as .pngs."
   ]
  },
  {
   "cell_type": "markdown",
   "metadata": {},
   "source": [
    "#### Latitude vs. Temperature Plot"
   ]
  },
  {
   "cell_type": "code",
   "execution_count": 45,
   "metadata": {
    "scrolled": true
   },
   "outputs": [
    {
     "data": {
      "image/png": "[encoded data removed]",
      "text/plain": [
       "<Figure size 432x288 with 1 Axes>"
      ]
     },
     "metadata": {
      "needs_background": "light"
     },
     "output_type": "display_data"
    }
   ],
   "source": [
    "# read new data\n",
    "data_df = pd.read_csv(output_data_file)\n",
    "\n",
    "date_unix = data_df.iloc[0,3]\n",
    "date = time.strftime(\"%D\", time.localtime(int(date_unix)))\n",
    "\n",
    "#date = time.strftime(\"%D %H:%M\", time.localtime(int(date_unix)))\n",
    "\n",
    "\n",
    "x_axis = data_df[\"Lat\"]\n",
    "y_axis = data_df[\"Max Temp\"]\n",
    "\n",
    "x = x_axis\n",
    "y = y_axis\n",
    "\n",
    "plt.grid(True)\n",
    "plt.xlim([-60, 90])\n",
    "plt.ylim([-40, 125])\n",
    "\n",
    "plt.title(f'City Latitude vs. Max Temperature ({date})')\n",
    "plt.xlabel('Latitude')\n",
    "plt.ylabel('Max Temperature (F)')\n",
    "plt.scatter(x, y)\n",
    "plt.savefig('City_Lat_vs_Max_Temp.png')\n",
    "\n",
    "plt.show()\n"
   ]
  },
  {
   "cell_type": "markdown",
   "metadata": {},
   "source": [
    "#### Latitude vs. Humidity Plot"
   ]
  },
  {
   "cell_type": "code",
   "execution_count": 46,
   "metadata": {},
   "outputs": [
    {
     "data": {
      "image/png": "[encoded data removed]",
      "text/plain": [
       "<Figure size 432x288 with 1 Axes>"
      ]
     },
     "metadata": {
      "needs_background": "light"
     },
     "output_type": "display_data"
    }
   ],
   "source": [
    "date_unix = data_df.iloc[0,3]\n",
    "date = time.strftime(\"%D\", time.localtime(int(date_unix)))\n",
    "\n",
    "#date = time.strftime(\"%D %H:%M\", time.localtime(int(date_unix)))\n",
    "\n",
    "\n",
    "x_axis = data_df[\"Lat\"]\n",
    "y_axis = data_df[\"Humidity\"]\n",
    "\n",
    "x = x_axis\n",
    "y = y_axis\n",
    "\n",
    "plt.grid(True)\n",
    "plt.xlim([-60, 90])\n",
    "plt.ylim([0, 150])\n",
    "\n",
    "plt.title(f'City Latitude vs. Humidity ({date})')\n",
    "plt.xlabel('Latitude')\n",
    "plt.ylabel('Humidity (%)')\n",
    "plt.scatter(x, y)\n",
    "plt.savefig('City_Lat_vs_Humidity.png')\n",
    "\n",
    "plt.show()"
   ]
  },
  {
   "cell_type": "markdown",
   "metadata": {},
   "source": [
    "#### Latitude vs. Cloudiness Plot"
   ]
  },
  {
   "cell_type": "code",
   "execution_count": 49,
   "metadata": {},
   "outputs": [
    {
     "data": {
      "image/png": "[encoded data removed]",
      "text/plain": [
       "<Figure size 432x288 with 1 Axes>"
      ]
     },
     "metadata": {
      "needs_background": "light"
     },
     "output_type": "display_data"
    }
   ],
   "source": [
    "date_unix = data_df.iloc[0,3]\n",
    "date = time.strftime(\"%D\", time.localtime(int(date_unix)))\n",
    "\n",
    "#date = time.strftime(\"%D %H:%M\", time.localtime(int(date_unix)))\n",
    "\n",
    "\n",
    "x_axis = data_df[\"Lat\"]\n",
    "y_axis = data_df[\"Cloudiness\"]\n",
    "\n",
    "x = x_axis\n",
    "y = y_axis\n",
    "\n",
    "plt.grid(True)\n",
    "plt.xlim([-60, 90])\n",
    "plt.ylim([-20, 125])\n",
    "\n",
    "plt.title(f'City Latitude vs. Cloudiness ({date})')\n",
    "plt.xlabel('Latitude')\n",
    "plt.ylabel('Cloudiness (%)')\n",
    "plt.scatter(x, y)\n",
    "plt.savefig('City_Lat_vs_Cloudiness.png')\n",
    "\n",
    "plt.show()"
   ]
  },
  {
   "cell_type": "markdown",
   "metadata": {},
   "source": [
    "#### Latitude vs. Wind Speed Plot"
   ]
  },
  {
   "cell_type": "code",
   "execution_count": 51,
   "metadata": {},
   "outputs": [
    {
     "data": {
      "image/png": "[encoded data removed]",
      "text/plain": [
       "<Figure size 432x288 with 1 Axes>"
      ]
     },
     "metadata": {
      "needs_background": "light"
     },
     "output_type": "display_data"
    }
   ],
   "source": [
    "date_unix = data_df.iloc[0,3]\n",
    "date = time.strftime(\"%D\", time.localtime(int(date_unix)))\n",
    "\n",
    "#date = time.strftime(\"%D %H:%M\", time.localtime(int(date_unix)))\n",
    "\n",
    "\n",
    "x_axis = data_df[\"Lat\"]\n",
    "y_axis = data_df[\"Wind Speed\"]\n",
    "\n",
    "x = x_axis\n",
    "y = y_axis\n",
    "\n",
    "plt.grid(True)\n",
    "plt.xlim([-60, 90])\n",
    "plt.ylim([-10, 50])\n",
    "\n",
    "plt.title(f'City Latitude vs. Wind Speed ({date})')\n",
    "plt.xlabel('Latitude')\n",
    "plt.ylabel('Wind Speed (mph)')\n",
    "plt.scatter(x, y)\n",
    "plt.savefig('City_Lat_vs_Wind Speed.png')\n",
    "\n",
    "plt.show()"
   ]
  },
  {
   "cell_type": "markdown",
   "metadata": {},
   "source": [
    "## Linear Regression"
   ]
  },
  {
   "cell_type": "code",
   "execution_count": 108,
   "metadata": {},
   "outputs": [],
   "source": [
    "# OPTIONAL: Create a function to create Linear Regression plots\n"
   ]
  },
  {
   "cell_type": "code",
   "execution_count": 56,
   "metadata": {},
   "outputs": [],
   "source": [
    "# Create Northern and Southern Hemisphere DataFrames\n",
    "\n",
    "nh_df = data_df[data_df.Lat>=0]\n",
    "sh_df = data_df[data_df.Lat<0]\n"
   ]
  },
  {
   "cell_type": "markdown",
   "metadata": {},
   "source": [
    "####  Northern Hemisphere - Max Temp vs. Latitude Linear Regression"
   ]
  },
  {
   "cell_type": "code",
   "execution_count": 68,
   "metadata": {},
   "outputs": [
    {
     "name": "stdout",
     "output_type": "stream",
     "text": [
      "The r-squared is: -0.8754260760694579\n"
     ]
    },
    {
     "data": {
      "image/png": "[encoded data removed]",
      "text/plain": [
       "<Figure size 432x288 with 1 Axes>"
      ]
     },
     "metadata": {
      "needs_background": "light"
     },
     "output_type": "display_data"
    }
   ],
   "source": [
    "# Print out the r-squared value along with the plot.\n",
    "x_values = nh_df['Max Temp']\n",
    "y_values = nh_df['Lat']\n",
    "\n",
    "(slope, intercept, rvalue, pvalue, stderr) = linregress(x_values, y_values)\n",
    "regress_values = x_values * slope + intercept\n",
    "line_eq = \"y = \" + str(round(slope,2)) + \"x + \" + str(round(intercept,2))\n",
    "plt.scatter(x_values,y_values)\n",
    "plt.plot(x_values,regress_values,\"r-\")\n",
    "plt.annotate(line_eq,(6,10),fontsize=15,color=\"red\")\n",
    "plt.xlabel('Latitude')\n",
    "plt.ylabel('Max Temp')\n",
    "print(f\"The r-squared is: {rvalue}\")\n",
    "plt.show()"
   ]
  },
  {
   "cell_type": "markdown",
   "metadata": {},
   "source": [
    "####  Southern Hemisphere - Max Temp vs. Latitude Linear Regression"
   ]
  },
  {
   "cell_type": "code",
   "execution_count": 66,
   "metadata": {},
   "outputs": [
    {
     "name": "stdout",
     "output_type": "stream",
     "text": [
      "The r-squared is: 0.49366041725091026\n"
     ]
    },
    {
     "data": {
      "image/png": "[encoded data removed]",
      "text/plain": [
       "<Figure size 432x288 with 1 Axes>"
      ]
     },
     "metadata": {
      "needs_background": "light"
     },
     "output_type": "display_data"
    }
   ],
   "source": [
    "# Print out the r-squared value along with the plot.\n",
    "x_values = sh_df['Max Temp']\n",
    "y_values = sh_df['Lat']\n",
    "(slope, intercept, rvalue, pvalue, stderr) = linregress(x_values, y_values)\n",
    "regress_values = x_values * slope + intercept\n",
    "line_eq = \"y = \" + str(round(slope,2)) + \"x + \" + str(round(intercept,2))\n",
    "plt.scatter(x_values,y_values)\n",
    "plt.plot(x_values,regress_values,\"r-\")\n",
    "plt.annotate(line_eq,(6,10),fontsize=15,color=\"red\")\n",
    "plt.xlabel('Latitude')\n",
    "plt.ylabel('Max Temp')\n",
    "print(f\"The r-squared is: {rvalue}\")\n",
    "plt.show()"
   ]
  },
  {
   "cell_type": "markdown",
   "metadata": {},
   "source": [
    "####  Northern Hemisphere - Humidity (%) vs. Latitude Linear Regression"
   ]
  },
  {
   "cell_type": "code",
   "execution_count": 69,
   "metadata": {},
   "outputs": [
    {
     "name": "stdout",
     "output_type": "stream",
     "text": [
      "The r-squared is: 0.3013669597862898\n"
     ]
    },
    {
     "data": {
      "image/png": "[encoded data removed]",
      "text/plain": [
       "<Figure size 432x288 with 1 Axes>"
      ]
     },
     "metadata": {
      "needs_background": "light"
     },
     "output_type": "display_data"
    }
   ],
   "source": [
    "# Print out the r-squared value along with the plot.\n",
    "x_values = nh_df['Humidity']\n",
    "y_values = nh_df['Lat']\n",
    "(slope, intercept, rvalue, pvalue, stderr) = linregress(x_values, y_values)\n",
    "regress_values = x_values * slope + intercept\n",
    "line_eq = \"y = \" + str(round(slope,2)) + \"x + \" + str(round(intercept,2))\n",
    "plt.scatter(x_values,y_values)\n",
    "plt.plot(x_values,regress_values,\"r-\")\n",
    "plt.annotate(line_eq,(6,10),fontsize=15,color=\"red\")\n",
    "plt.xlabel('Latitude')\n",
    "plt.ylabel('Max Temp')\n",
    "print(f\"The r-squared is: {rvalue}\")\n",
    "plt.show()"
   ]
  },
  {
   "cell_type": "markdown",
   "metadata": {},
   "source": [
    "####  Southern Hemisphere - Humidity (%) vs. Latitude Linear Regression"
   ]
  },
  {
   "cell_type": "code",
   "execution_count": 70,
   "metadata": {},
   "outputs": [
    {
     "name": "stdout",
     "output_type": "stream",
     "text": [
      "The r-squared is: 0.26261412977384213\n"
     ]
    },
    {
     "data": {
      "image/png": "[encoded data removed]",
      "text/plain": [
       "<Figure size 432x288 with 1 Axes>"
      ]
     },
     "metadata": {
      "needs_background": "light"
     },
     "output_type": "display_data"
    }
   ],
   "source": [
    "# Print out the r-squared value along with the plot.\n",
    "x_values = sh_df['Humidity']\n",
    "y_values = sh_df['Lat']\n",
    "(slope, intercept, rvalue, pvalue, stderr) = linregress(x_values, y_values)\n",
    "regress_values = x_values * slope + intercept\n",
    "line_eq = \"y = \" + str(round(slope,2)) + \"x + \" + str(round(intercept,2))\n",
    "plt.scatter(x_values,y_values)\n",
    "plt.plot(x_values,regress_values,\"r-\")\n",
    "plt.annotate(line_eq,(6,10),fontsize=15,color=\"red\")\n",
    "plt.xlabel('Latitude')\n",
    "plt.ylabel('Max Temp')\n",
    "print(f\"The r-squared is: {rvalue}\")\n",
    "plt.show()"
   ]
  },
  {
   "cell_type": "markdown",
   "metadata": {},
   "source": [
    "####  Northern Hemisphere - Cloudiness (%) vs. Latitude Linear Regression"
   ]
  },
  {
   "cell_type": "code",
   "execution_count": 71,
   "metadata": {},
   "outputs": [
    {
     "name": "stdout",
     "output_type": "stream",
     "text": [
      "The r-squared is: 0.1278033550709189\n"
     ]
    },
    {
     "data": {
      "image/png": "[encoded data removed]",
      "text/plain": [
       "<Figure size 432x288 with 1 Axes>"
      ]
     },
     "metadata": {
      "needs_background": "light"
     },
     "output_type": "display_data"
    }
   ],
   "source": [
    "# Print out the r-squared value along with the plot.\n",
    "x_values = nh_df['Cloudiness']\n",
    "y_values = nh_df['Lat']\n",
    "(slope, intercept, rvalue, pvalue, stderr) = linregress(x_values, y_values)\n",
    "regress_values = x_values * slope + intercept\n",
    "line_eq = \"y = \" + str(round(slope,2)) + \"x + \" + str(round(intercept,2))\n",
    "plt.scatter(x_values,y_values)\n",
    "plt.plot(x_values,regress_values,\"r-\")\n",
    "plt.annotate(line_eq,(6,10),fontsize=15,color=\"red\")\n",
    "plt.xlabel('Latitude')\n",
    "plt.ylabel('Max Temp')\n",
    "print(f\"The r-squared is: {rvalue}\")\n",
    "plt.show()"
   ]
  },
  {
   "cell_type": "markdown",
   "metadata": {},
   "source": [
    "####  Southern Hemisphere - Cloudiness (%) vs. Latitude Linear Regression"
   ]
  },
  {
   "cell_type": "code",
   "execution_count": 72,
   "metadata": {},
   "outputs": [
    {
     "name": "stdout",
     "output_type": "stream",
     "text": [
      "The r-squared is: 0.1565594741490015\n"
     ]
    },
    {
     "data": {
      "image/png": "[encoded data removed]",
      "text/plain": [
       "<Figure size 432x288 with 1 Axes>"
      ]
     },
     "metadata": {
      "needs_background": "light"
     },
     "output_type": "display_data"
    }
   ],
   "source": [
    "# Print out the r-squared value along with the plot.\n",
    "x_values = sh_df['Cloudiness']\n",
    "y_values = sh_df['Lat']\n",
    "(slope, intercept, rvalue, pvalue, stderr) = linregress(x_values, y_values)\n",
    "regress_values = x_values * slope + intercept\n",
    "line_eq = \"y = \" + str(round(slope,2)) + \"x + \" + str(round(intercept,2))\n",
    "plt.scatter(x_values,y_values)\n",
    "plt.plot(x_values,regress_values,\"r-\")\n",
    "plt.annotate(line_eq,(6,10),fontsize=15,color=\"red\")\n",
    "plt.xlabel('Latitude')\n",
    "plt.ylabel('Max Temp')\n",
    "print(f\"The r-squared is: {rvalue}\")\n",
    "plt.show()"
   ]
  },
  {
   "cell_type": "markdown",
   "metadata": {},
   "source": [
    "####  Northern Hemisphere - Wind Speed (mph) vs. Latitude Linear Regression"
   ]
  },
  {
   "cell_type": "code",
   "execution_count": 73,
   "metadata": {},
   "outputs": [
    {
     "name": "stdout",
     "output_type": "stream",
     "text": [
      "The r-squared is: 0.15014616261748692\n"
     ]
    },
    {
     "data": {
      "image/png": "[encoded data removed]",
      "text/plain": [
       "<Figure size 432x288 with 1 Axes>"
      ]
     },
     "metadata": {
      "needs_background": "light"
     },
     "output_type": "display_data"
    }
   ],
   "source": [
    "# Print out the r-squared value along with the plot.\n",
    "x_values = nh_df['Wind Speed']\n",
    "y_values = nh_df['Lat']\n",
    "(slope, intercept, rvalue, pvalue, stderr) = linregress(x_values, y_values)\n",
    "regress_values = x_values * slope + intercept\n",
    "line_eq = \"y = \" + str(round(slope,2)) + \"x + \" + str(round(intercept,2))\n",
    "plt.scatter(x_values,y_values)\n",
    "plt.plot(x_values,regress_values,\"r-\")\n",
    "plt.annotate(line_eq,(6,10),fontsize=15,color=\"red\")\n",
    "plt.xlabel('Latitude')\n",
    "plt.ylabel('Max Temp')\n",
    "print(f\"The r-squared is: {rvalue}\")\n",
    "plt.show()"
   ]
  },
  {
   "cell_type": "markdown",
   "metadata": {},
   "source": [
    "####  Southern Hemisphere - Wind Speed (mph) vs. Latitude Linear Regression"
   ]
  },
  {
   "cell_type": "code",
   "execution_count": 74,
   "metadata": {},
   "outputs": [
    {
     "name": "stdout",
     "output_type": "stream",
     "text": [
      "The r-squared is: -0.28326396415239463\n"
     ]
    },
    {
     "data": {
      "image/png": "[encoded data removed]",
      "text/plain": [
       "<Figure size 432x288 with 1 Axes>"
      ]
     },
     "metadata": {
      "needs_background": "light"
     },
     "output_type": "display_data"
    }
   ],
   "source": [
    "# Print out the r-squared value along with the plot.\n",
    "x_values = sh_df['Wind Speed']\n",
    "y_values = sh_df['Lat']\n",
    "(slope, intercept, rvalue, pvalue, stderr) = linregress(x_values, y_values)\n",
    "regress_values = x_values * slope + intercept\n",
    "line_eq = \"y = \" + str(round(slope,2)) + \"x + \" + str(round(intercept,2))\n",
    "plt.scatter(x_values,y_values)\n",
    "plt.plot(x_values,regress_values,\"r-\")\n",
    "plt.annotate(line_eq,(6,10),fontsize=15,color=\"red\")\n",
    "plt.xlabel('Latitude')\n",
    "plt.ylabel('Max Temp')\n",
    "print(f\"The r-squared is: {rvalue}\")\n",
    "plt.show()"
   ]
  },
  {
   "cell_type": "code",
   "execution_count": null,
   "metadata": {},
   "outputs": [],
   "source": []
  }
 ],
 "metadata": {
  "anaconda-cloud": {},
  "kernel_info": {
   "name": "python3"
  },
  "kernelspec": {
   "display_name": "Python 3",
   "language": "python",
   "name": "python3"
  },
  "language_info": {
   "codemirror_mode": {
    "name": "ipython",
    "version": 3
   },
   "file_extension": ".py",
   "mimetype": "text/x-python",
   "name": "python",
   "nbconvert_exporter": "python",
   "pygments_lexer": "ipython3",
   "version": "3.7.4"
  },
  "latex_envs": {
   "LaTeX_envs_menu_present": true,
   "autoclose": false,
   "autocomplete": true,
   "bibliofile": "biblio.bib",
   "cite_by": "apalike",
   "current_citInitial": 1,
   "eqLabelWithNumbers": true,
   "eqNumInitial": 1,
   "hotkeys": {
    "equation": "Ctrl-E",
    "itemize": "Ctrl-I"
   },
   "labels_anchors": false,
   "latex_user_defs": false,
   "report_style_numbering": false,
   "user_envs_cfg": false
  },
  "nteract": {
   "version": "0.12.3"
  }
 },
 "nbformat": 4,
 "nbformat_minor": 2
}

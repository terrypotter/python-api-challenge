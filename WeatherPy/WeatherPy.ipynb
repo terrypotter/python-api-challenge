{
 "cells": [
  {
   "cell_type": "markdown",
   "metadata": {},
   "source": [
    "# WeatherPy\n",
    "----\n",
    "\n",
    "#### Note\n",
    "* Instructions have been included for each segment. You do not have to follow them exactly, but they are included to help you think through the steps."
   ]
  },
  {
   "cell_type": "code",
   "execution_count": 1,
   "metadata": {
    "scrolled": true
   },
   "outputs": [],
   "source": [
    "# Dependencies and Setup\n",
    "import matplotlib.pyplot as plt\n",
    "import pandas as pd\n",
    "import numpy as np\n",
    "import requests\n",
    "import time\n",
    "from scipy.stats import linregress\n",
    "\n",
    "# Import API key\n",
    "from api_keys import weather_api_key\n",
    "\n",
    "# Incorporated citipy to determine city based on latitude and longitude\n",
    "from citipy import citipy\n",
    "\n",
    "# Output File (CSV)\n",
    "output_data_file = \"output_data/cities.csv\"\n",
    "\n",
    "# Range of latitudes and longitudes\n",
    "lat_range = (-90, 90)\n",
    "lng_range = (-180, 180)"
   ]
  },
  {
   "cell_type": "markdown",
   "metadata": {},
   "source": [
    "## Generate Cities List"
   ]
  },
  {
   "cell_type": "code",
   "execution_count": 2,
   "metadata": {},
   "outputs": [
    {
     "data": {
      "text/plain": [
       "583"
      ]
     },
     "execution_count": 2,
     "metadata": {},
     "output_type": "execute_result"
    }
   ],
   "source": [
    "# List for holding lat_lngs and cities\n",
    "lat_lngs = []\n",
    "cities = []\n",
    "\n",
    "# Create a set of random lat and lng combinations\n",
    "lats = np.random.uniform(low=-90.000, high=90.000, size=1500)\n",
    "lngs = np.random.uniform(low=-180.000, high=180.000, size=1500)\n",
    "lat_lngs = zip(lats, lngs)\n",
    "\n",
    "# Identify nearest city for each lat, lng combination\n",
    "for lat_lng in lat_lngs:\n",
    "    city = citipy.nearest_city(lat_lng[0], lat_lng[1]).city_name\n",
    "    \n",
    "    # If the city is unique, then add it to a our cities list\n",
    "    if city not in cities:\n",
    "        cities.append(city)\n",
    "\n",
    "# Print the city count to confirm sufficient count\n",
    "len(cities)"
   ]
  },
  {
   "cell_type": "code",
   "execution_count": 3,
   "metadata": {},
   "outputs": [
    {
     "data": {
      "text/html": [
       "<div>\n",
       "<style scoped>\n",
       "    .dataframe tbody tr th:only-of-type {\n",
       "        vertical-align: middle;\n",
       "    }\n",
       "\n",
       "    .dataframe tbody tr th {\n",
       "        vertical-align: top;\n",
       "    }\n",
       "\n",
       "    .dataframe thead th {\n",
       "        text-align: right;\n",
       "    }\n",
       "</style>\n",
       "<table border=\"1\" class=\"dataframe\">\n",
       "  <thead>\n",
       "    <tr style=\"text-align: right;\">\n",
       "      <th></th>\n",
       "      <th>City</th>\n",
       "    </tr>\n",
       "  </thead>\n",
       "  <tbody>\n",
       "    <tr>\n",
       "      <td>0</td>\n",
       "      <td>atuona</td>\n",
       "    </tr>\n",
       "    <tr>\n",
       "      <td>1</td>\n",
       "      <td>karaul</td>\n",
       "    </tr>\n",
       "    <tr>\n",
       "      <td>2</td>\n",
       "      <td>pochutla</td>\n",
       "    </tr>\n",
       "    <tr>\n",
       "      <td>3</td>\n",
       "      <td>thompson</td>\n",
       "    </tr>\n",
       "    <tr>\n",
       "      <td>4</td>\n",
       "      <td>amderma</td>\n",
       "    </tr>\n",
       "    <tr>\n",
       "      <td>...</td>\n",
       "      <td>...</td>\n",
       "    </tr>\n",
       "    <tr>\n",
       "      <td>578</td>\n",
       "      <td>sistranda</td>\n",
       "    </tr>\n",
       "    <tr>\n",
       "      <td>579</td>\n",
       "      <td>nhulunbuy</td>\n",
       "    </tr>\n",
       "    <tr>\n",
       "      <td>580</td>\n",
       "      <td>vallenar</td>\n",
       "    </tr>\n",
       "    <tr>\n",
       "      <td>581</td>\n",
       "      <td>kamaishi</td>\n",
       "    </tr>\n",
       "    <tr>\n",
       "      <td>582</td>\n",
       "      <td>ambilobe</td>\n",
       "    </tr>\n",
       "  </tbody>\n",
       "</table>\n",
       "<p>583 rows × 1 columns</p>\n",
       "</div>"
      ],
      "text/plain": [
       "          City\n",
       "0       atuona\n",
       "1       karaul\n",
       "2     pochutla\n",
       "3     thompson\n",
       "4      amderma\n",
       "..         ...\n",
       "578  sistranda\n",
       "579  nhulunbuy\n",
       "580   vallenar\n",
       "581   kamaishi\n",
       "582   ambilobe\n",
       "\n",
       "[583 rows x 1 columns]"
      ]
     },
     "execution_count": 3,
     "metadata": {},
     "output_type": "execute_result"
    }
   ],
   "source": [
    "# Create a dataframe from cities list\n",
    "cities_df = pd.DataFrame(cities, columns =['City'])                                           \n",
    "cities_df "
   ]
  },
  {
   "cell_type": "markdown",
   "metadata": {},
   "source": [
    "### Perform API Calls\n",
    "* Perform a weather check on each city using a series of successive API calls.\n",
    "* Include a print log of each city as it'sbeing processed (with the city number and city name).\n"
   ]
  },
  {
   "cell_type": "code",
   "execution_count": 4,
   "metadata": {},
   "outputs": [
    {
     "name": "stdout",
     "output_type": "stream",
     "text": [
      "Now retrieving city #0: atuona\n",
      "Now retrieving city #1: karaul\n"
     ]
    },
    {
     "name": "stderr",
     "output_type": "stream",
     "text": [
      "C:\\ProgramData\\Anaconda3\\lib\\site-packages\\ipykernel_launcher.py:48: FutureWarning: set_value is deprecated and will be removed in a future release. Please use .at[] or .iat[] accessors instead\n",
      "C:\\ProgramData\\Anaconda3\\lib\\site-packages\\ipykernel_launcher.py:49: FutureWarning: set_value is deprecated and will be removed in a future release. Please use .at[] or .iat[] accessors instead\n",
      "C:\\ProgramData\\Anaconda3\\lib\\site-packages\\ipykernel_launcher.py:50: FutureWarning: set_value is deprecated and will be removed in a future release. Please use .at[] or .iat[] accessors instead\n",
      "C:\\ProgramData\\Anaconda3\\lib\\site-packages\\ipykernel_launcher.py:51: FutureWarning: set_value is deprecated and will be removed in a future release. Please use .at[] or .iat[] accessors instead\n",
      "C:\\ProgramData\\Anaconda3\\lib\\site-packages\\ipykernel_launcher.py:52: FutureWarning: set_value is deprecated and will be removed in a future release. Please use .at[] or .iat[] accessors instead\n",
      "C:\\ProgramData\\Anaconda3\\lib\\site-packages\\ipykernel_launcher.py:53: FutureWarning: set_value is deprecated and will be removed in a future release. Please use .at[] or .iat[] accessors instead\n",
      "C:\\ProgramData\\Anaconda3\\lib\\site-packages\\ipykernel_launcher.py:54: FutureWarning: set_value is deprecated and will be removed in a future release. Please use .at[] or .iat[] accessors instead\n",
      "C:\\ProgramData\\Anaconda3\\lib\\site-packages\\ipykernel_launcher.py:55: FutureWarning: set_value is deprecated and will be removed in a future release. Please use .at[] or .iat[] accessors instead\n"
     ]
    },
    {
     "name": "stdout",
     "output_type": "stream",
     "text": [
      "City not found. Skipping...\n",
      "Now retrieving city #2: pochutla\n",
      "Now retrieving city #3: thompson\n",
      "Now retrieving city #4: amderma\n",
      "City not found. Skipping...\n",
      "Now retrieving city #5: punta arenas\n",
      "Now retrieving city #6: karakose\n",
      "City not found. Skipping...\n",
      "Now retrieving city #7: busselton\n",
      "Now retrieving city #8: qaanaaq\n",
      "Now retrieving city #9: tessalit\n",
      "Now retrieving city #10: jamestown\n",
      "Now retrieving city #11: yellamanchili\n",
      "City not found. Skipping...\n",
      "Now retrieving city #12: hermanus\n",
      "Now retrieving city #13: hilo\n",
      "Now retrieving city #14: bengkulu\n",
      "Now retrieving city #15: acton vale\n",
      "Now retrieving city #16: tucuma\n",
      "Now retrieving city #17: half moon bay\n",
      "Now retrieving city #18: airai\n",
      "Now retrieving city #19: pyaozerskiy\n",
      "Now retrieving city #20: castro\n",
      "Now retrieving city #21: saskylakh\n",
      "Now retrieving city #22: hithadhoo\n",
      "Now retrieving city #23: guerrero negro\n",
      "Now retrieving city #24: aripuana\n",
      "Now retrieving city #25: chokurdakh\n",
      "Now retrieving city #26: kapaa\n",
      "Now retrieving city #27: hami\n",
      "Now retrieving city #28: mys shmidta\n",
      "City not found. Skipping...\n",
      "Now retrieving city #29: rikitea\n",
      "Now retrieving city #30: belushya guba\n",
      "City not found. Skipping...\n",
      "Now retrieving city #31: formosa do rio preto\n",
      "Now retrieving city #32: bredasdorp\n",
      "Now retrieving city #33: tuatapere\n",
      "Now retrieving city #34: taolanaro\n",
      "City not found. Skipping...\n",
      "Now retrieving city #35: cherskiy\n",
      "Now retrieving city #36: pangody\n",
      "Now retrieving city #37: dudinka\n",
      "Now retrieving city #38: kununurra\n",
      "Now retrieving city #39: mar del plata\n",
      "Now retrieving city #40: hobart\n",
      "Now retrieving city #41: victoria\n",
      "Now retrieving city #42: goderich\n",
      "Now retrieving city #43: sao desiderio\n",
      "Now retrieving city #44: new norfolk\n",
      "Now retrieving city #45: ushuaia\n",
      "Now retrieving city #46: aswan\n",
      "Now retrieving city #47: matadi\n",
      "Now retrieving city #48: luderitz\n",
      "Now retrieving city #49: lompoc\n",
      "Now retrieving city #50: yar-sale\n",
      "Now retrieving city #51: vanimo\n",
      "Now retrieving city #52: cape town\n",
      "Now retrieving city #53: port alfred\n",
      "Now retrieving city #54: vaini\n",
      "Now retrieving city #55: mana\n",
      "Now retrieving city #56: tautira\n",
      "Now retrieving city #57: nome\n",
      "Now retrieving city #58: bethel\n",
      "Now retrieving city #59: puerto ayora\n",
      "Now retrieving city #60: coihaique\n",
      "Now retrieving city #61: sentyabrskiy\n",
      "City not found. Skipping...\n",
      "Now retrieving city #62: kavieng\n",
      "Now retrieving city #63: sungaipenuh\n",
      "Now retrieving city #64: barentsburg\n",
      "City not found. Skipping...\n",
      "Now retrieving city #65: mataura\n",
      "Now retrieving city #66: kavaratti\n",
      "Now retrieving city #67: lorengau\n",
      "Now retrieving city #68: hasaki\n",
      "Now retrieving city #69: salalah\n",
      "Now retrieving city #70: ponta do sol\n",
      "Now retrieving city #71: canela\n",
      "Now retrieving city #72: illoqqortoormiut\n",
      "City not found. Skipping...\n",
      "Now retrieving city #73: qui nhon\n",
      "Now retrieving city #74: boralday\n",
      "Now retrieving city #75: la ronge\n",
      "Now retrieving city #76: arraial do cabo\n",
      "Now retrieving city #77: kuytun\n",
      "Now retrieving city #78: clyde river\n",
      "Now retrieving city #79: gravelbourg\n",
      "Now retrieving city #80: port lincoln\n",
      "Now retrieving city #81: sao jose da coroa grande\n",
      "Now retrieving city #82: wanning\n",
      "Now retrieving city #83: albany\n",
      "Now retrieving city #84: katsiveli\n",
      "City not found. Skipping...\n",
      "Now retrieving city #85: tuktoyaktuk\n",
      "Now retrieving city #86: wajima\n",
      "Now retrieving city #87: jinchang\n",
      "Now retrieving city #88: flinders\n",
      "Now retrieving city #89: grand river south east\n",
      "City not found. Skipping...\n",
      "Now retrieving city #90: mount pleasant\n",
      "Now retrieving city #91: turayf\n",
      "Now retrieving city #92: faanui\n",
      "Now retrieving city #93: harwich\n",
      "Now retrieving city #94: jumla\n",
      "Now retrieving city #95: klaksvik\n",
      "Now retrieving city #96: nizhneyansk\n",
      "City not found. Skipping...\n",
      "Now retrieving city #97: saint-francois\n",
      "Now retrieving city #98: avarua\n",
      "Now retrieving city #99: talnakh\n",
      "Now retrieving city #100: manono\n",
      "Now retrieving city #101: torbay\n",
      "Now retrieving city #102: port elizabeth\n",
      "Now retrieving city #103: malwan\n",
      "City not found. Skipping...\n",
      "Now retrieving city #104: nikolskoye\n",
      "Now retrieving city #105: atar\n",
      "Now retrieving city #106: bemidji\n",
      "Now retrieving city #107: santa cruz de la palma\n",
      "Now retrieving city #108: victor harbor\n",
      "Now retrieving city #109: yellowknife\n",
      "Now retrieving city #110: nguiu\n",
      "City not found. Skipping...\n",
      "Now retrieving city #111: hamilton\n",
      "Now retrieving city #112: orlik\n",
      "Now retrieving city #113: bolshevik\n",
      "Now retrieving city #114: rungata\n",
      "City not found. Skipping...\n",
      "Now retrieving city #115: ulladulla\n",
      "Now retrieving city #116: sioux lookout\n",
      "Now retrieving city #117: pisco\n",
      "Now retrieving city #118: doha\n",
      "Now retrieving city #119: lata\n",
      "Now retrieving city #120: aklavik\n",
      "Now retrieving city #121: tokmak\n",
      "Now retrieving city #122: bhatapara\n",
      "Now retrieving city #123: octeville\n",
      "Now retrieving city #124: butaritari\n",
      "Now retrieving city #125: geraldton\n",
      "Now retrieving city #126: kalat\n",
      "Now retrieving city #127: katsuura\n",
      "Now retrieving city #128: chiredzi\n",
      "Now retrieving city #129: kyshtovka\n",
      "Now retrieving city #130: davila\n",
      "Now retrieving city #131: talavera\n",
      "Now retrieving city #132: ostrovnoy\n",
      "Now retrieving city #133: whitehorse\n",
      "Now retrieving city #134: nieuw amsterdam\n",
      "Now retrieving city #135: port-gentil\n",
      "Now retrieving city #136: poum\n",
      "Now retrieving city #137: vyartsilya\n",
      "Now retrieving city #138: akdepe\n",
      "Now retrieving city #139: panjab\n",
      "Now retrieving city #140: sandviken\n",
      "Now retrieving city #141: tasiilaq\n",
      "Now retrieving city #142: los llanos de aridane\n",
      "Now retrieving city #143: tsihombe\n",
      "City not found. Skipping...\n",
      "Now retrieving city #144: vila velha\n",
      "Now retrieving city #145: southbridge\n",
      "Now retrieving city #146: bathsheba\n",
      "Now retrieving city #147: san quintin\n",
      "Now retrieving city #148: cabedelo\n",
      "Now retrieving city #149: warmbad\n",
      "Now retrieving city #150: muqui\n",
      "Now retrieving city #151: verkhnevilyuysk\n",
      "Now retrieving city #152: chuy\n",
      "Now retrieving city #153: santa margherita ligure\n",
      "Now retrieving city #154: naifaru\n",
      "Now retrieving city #155: berlevag\n",
      "Now retrieving city #156: takoradi\n",
      "Now retrieving city #157: horsham\n",
      "Now retrieving city #158: forbes\n",
      "Now retrieving city #159: unguia\n",
      "Now retrieving city #160: udachnyy\n",
      "Now retrieving city #161: rocha\n",
      "Now retrieving city #162: douentza\n",
      "Now retrieving city #163: pontes e lacerda\n",
      "Now retrieving city #164: usinsk\n",
      "Now retrieving city #165: jabinyanah\n",
      "Now retrieving city #166: lephepe\n",
      "City not found. Skipping...\n",
      "Now retrieving city #167: kismayo\n",
      "Now retrieving city #168: prainha\n",
      "Now retrieving city #169: bilma\n",
      "Now retrieving city #170: bluff\n",
      "Now retrieving city #171: charyshskoye\n",
      "Now retrieving city #172: mahebourg\n",
      "Now retrieving city #173: ouango\n",
      "Now retrieving city #174: san patricio\n",
      "Now retrieving city #175: ingham\n",
      "Now retrieving city #176: yirol\n",
      "City not found. Skipping...\n",
      "Now retrieving city #177: jumilla\n",
      "Now retrieving city #178: cidreira\n",
      "Now retrieving city #179: ahipara\n",
      "Now retrieving city #180: port hardy\n",
      "Now retrieving city #181: tiksi\n",
      "Now retrieving city #182: carnarvon\n",
      "Now retrieving city #183: hamadan\n",
      "Now retrieving city #184: aflu\n",
      "City not found. Skipping...\n",
      "Now retrieving city #185: margate\n",
      "Now retrieving city #186: grand gaube\n",
      "Now retrieving city #187: saint-pierre\n",
      "Now retrieving city #188: dunedin\n",
      "Now retrieving city #189: jasper\n",
      "Now retrieving city #190: coahuayana\n",
      "Now retrieving city #191: kahului\n",
      "Now retrieving city #192: hihifo\n",
      "City not found. Skipping...\n",
      "Now retrieving city #193: khatanga\n",
      "Now retrieving city #194: shimoda\n",
      "Now retrieving city #195: dukat\n",
      "Now retrieving city #196: kracheh\n",
      "City not found. Skipping...\n",
      "Now retrieving city #197: luba\n",
      "Now retrieving city #198: eureka\n",
      "Now retrieving city #199: buala\n",
      "Now retrieving city #200: kirksville\n",
      "Now retrieving city #201: belyy yar\n",
      "Now retrieving city #202: dikson\n",
      "Now retrieving city #203: lengshuitan\n",
      "Now retrieving city #204: severo-kurilsk\n",
      "Now retrieving city #205: codrington\n",
      "Now retrieving city #206: ribeira grande\n",
      "Now retrieving city #207: ucluelet\n",
      "Now retrieving city #208: nanortalik\n",
      "Now retrieving city #209: mithi\n",
      "Now retrieving city #210: shakawe\n",
      "Now retrieving city #211: kawalu\n",
      "Now retrieving city #212: ramhormoz\n",
      "Now retrieving city #213: kurumkan\n",
      "Now retrieving city #214: trelew\n",
      "Now retrieving city #215: naze\n",
      "Now retrieving city #216: big rapids\n",
      "Now retrieving city #217: xiongyue\n",
      "Now retrieving city #218: shaki\n"
     ]
    },
    {
     "name": "stdout",
     "output_type": "stream",
     "text": [
      "Now retrieving city #219: nohar\n",
      "Now retrieving city #220: lebu\n",
      "Now retrieving city #221: strani\n",
      "Now retrieving city #222: biltine\n",
      "Now retrieving city #223: barrow\n",
      "Now retrieving city #224: cumra\n",
      "Now retrieving city #225: inhambane\n",
      "Now retrieving city #226: avera\n",
      "Now retrieving city #227: cabo san lucas\n",
      "Now retrieving city #228: sitka\n",
      "Now retrieving city #229: nizwa\n",
      "Now retrieving city #230: kaitangata\n",
      "Now retrieving city #231: pevek\n",
      "Now retrieving city #232: san vicente de canete\n",
      "Now retrieving city #233: kidal\n",
      "Now retrieving city #234: sakiai\n",
      "Now retrieving city #235: bolungarvik\n",
      "City not found. Skipping...\n",
      "Now retrieving city #236: cururupu\n",
      "Now retrieving city #237: uarini\n",
      "Now retrieving city #238: hun\n",
      "Now retrieving city #239: matara\n",
      "Now retrieving city #240: trat\n",
      "Now retrieving city #241: faya\n",
      "Now retrieving city #242: jinchengjiang\n",
      "City not found. Skipping...\n",
      "Now retrieving city #243: xingcheng\n",
      "Now retrieving city #244: qasigiannguit\n",
      "Now retrieving city #245: zachagansk\n",
      "City not found. Skipping...\n",
      "Now retrieving city #246: adelaide\n",
      "Now retrieving city #247: dwarka\n",
      "Now retrieving city #248: pioner\n",
      "Now retrieving city #249: kodiak\n",
      "Now retrieving city #250: provideniya\n",
      "Now retrieving city #251: alofi\n",
      "Now retrieving city #252: tortoli\n",
      "Now retrieving city #253: sur\n",
      "Now retrieving city #254: santiago\n",
      "Now retrieving city #255: esperance\n",
      "Now retrieving city #256: sambava\n",
      "Now retrieving city #257: karlovo\n",
      "Now retrieving city #258: dingle\n",
      "Now retrieving city #259: pyay\n",
      "Now retrieving city #260: fortuna\n",
      "Now retrieving city #261: haines junction\n",
      "Now retrieving city #262: kruisfontein\n",
      "Now retrieving city #263: longyearbyen\n",
      "Now retrieving city #264: port hedland\n",
      "Now retrieving city #265: mosjoen\n",
      "Now retrieving city #266: belmonte\n",
      "Now retrieving city #267: marsa matruh\n",
      "Now retrieving city #268: gayny\n",
      "Now retrieving city #269: svetlaya\n",
      "Now retrieving city #270: hambantota\n",
      "Now retrieving city #271: perelyub\n",
      "Now retrieving city #272: husavik\n",
      "Now retrieving city #273: twentynine palms\n",
      "Now retrieving city #274: port blair\n",
      "Now retrieving city #275: decatur\n",
      "Now retrieving city #276: lavrentiya\n",
      "Now retrieving city #277: turukhansk\n",
      "Now retrieving city #278: hualmay\n",
      "Now retrieving city #279: bellmead\n",
      "Now retrieving city #280: kangaatsiaq\n",
      "Now retrieving city #281: timmins\n",
      "Now retrieving city #282: saint george\n",
      "Now retrieving city #283: irtyshskiy\n",
      "Now retrieving city #284: vaitupu\n",
      "City not found. Skipping...\n",
      "Now retrieving city #285: nuuk\n",
      "Now retrieving city #286: upernavik\n",
      "Now retrieving city #287: mlimba\n",
      "Now retrieving city #288: kloulklubed\n",
      "Now retrieving city #289: pionki\n",
      "Now retrieving city #290: san-pedro\n",
      "Now retrieving city #291: jishou\n",
      "Now retrieving city #292: novyy urengoy\n",
      "Now retrieving city #293: saint-joseph\n",
      "Now retrieving city #294: asau\n",
      "Now retrieving city #295: alta\n",
      "Now retrieving city #296: tongzi\n",
      "Now retrieving city #297: skjaerhollen\n",
      "City not found. Skipping...\n",
      "Now retrieving city #298: isabela\n",
      "Now retrieving city #299: mareeba\n",
      "Now retrieving city #300: syracuse\n",
      "Now retrieving city #301: mayumba\n",
      "Now retrieving city #302: lagoa\n",
      "Now retrieving city #303: huarmey\n",
      "Now retrieving city #304: prince rupert\n",
      "Now retrieving city #305: sami\n",
      "Now retrieving city #306: saleaula\n",
      "City not found. Skipping...\n",
      "Now retrieving city #307: chifeng\n",
      "Now retrieving city #308: sarangani\n",
      "Now retrieving city #309: smithers\n",
      "Now retrieving city #310: rio grande\n",
      "Now retrieving city #311: tumannyy\n",
      "City not found. Skipping...\n",
      "Now retrieving city #312: saldanha\n",
      "Now retrieving city #313: delta del tigre\n",
      "Now retrieving city #314: leningradskiy\n",
      "Now retrieving city #315: ilulissat\n",
      "Now retrieving city #316: constitucion\n",
      "Now retrieving city #317: warren\n",
      "Now retrieving city #318: samarai\n",
      "Now retrieving city #319: chimbote\n",
      "Now retrieving city #320: waingapu\n",
      "Now retrieving city #321: srednekolymsk\n",
      "Now retrieving city #322: petawawa\n",
      "Now retrieving city #323: araioses\n",
      "Now retrieving city #324: vega de alatorre\n",
      "Now retrieving city #325: prabumulih\n",
      "Now retrieving city #326: borogontsy\n",
      "Now retrieving city #327: koundara\n",
      "Now retrieving city #328: taltal\n",
      "Now retrieving city #329: swellendam\n",
      "Now retrieving city #330: kaoma\n",
      "Now retrieving city #331: mrirt\n",
      "City not found. Skipping...\n",
      "Now retrieving city #332: salamanca\n",
      "Now retrieving city #333: sao filipe\n",
      "Now retrieving city #334: manali\n",
      "Now retrieving city #335: paradwip\n",
      "City not found. Skipping...\n",
      "Now retrieving city #336: ugoofaaru\n",
      "Now retrieving city #337: bilokurakyne\n",
      "Now retrieving city #338: kang\n",
      "Now retrieving city #339: moron\n",
      "Now retrieving city #340: ukiah\n",
      "Now retrieving city #341: hunza\n",
      "City not found. Skipping...\n",
      "Now retrieving city #342: fukue\n",
      "Now retrieving city #343: mattru\n",
      "Now retrieving city #344: formoso do araguaia\n",
      "City not found. Skipping...\n",
      "Now retrieving city #345: beloeil\n",
      "Now retrieving city #346: narsaq\n",
      "Now retrieving city #347: velizh\n",
      "Now retrieving city #348: egvekinot\n",
      "Now retrieving city #349: attawapiskat\n",
      "City not found. Skipping...\n",
      "Now retrieving city #350: poso\n",
      "Now retrieving city #351: karamay\n",
      "City not found. Skipping...\n",
      "Now retrieving city #352: norman wells\n",
      "Now retrieving city #353: krasnoselkup\n",
      "Now retrieving city #354: aquiraz\n",
      "Now retrieving city #355: baykit\n",
      "Now retrieving city #356: labuhan\n",
      "Now retrieving city #357: muli\n",
      "Now retrieving city #358: maniitsoq\n",
      "Now retrieving city #359: roros\n",
      "Now retrieving city #360: yulara\n",
      "Now retrieving city #361: sinnamary\n",
      "Now retrieving city #362: east london\n",
      "Now retrieving city #363: san policarpo\n",
      "Now retrieving city #364: aykino\n",
      "Now retrieving city #365: shahrud\n",
      "Now retrieving city #366: jaisalmer\n",
      "Now retrieving city #367: tura\n",
      "Now retrieving city #368: bhayavadar\n",
      "Now retrieving city #369: cartagena del chaira\n",
      "Now retrieving city #370: helong\n",
      "Now retrieving city #371: phuket\n",
      "Now retrieving city #372: hofn\n",
      "Now retrieving city #373: sabzevar\n",
      "Now retrieving city #374: torrijos\n",
      "Now retrieving city #375: kailua\n",
      "Now retrieving city #376: payakumbuh\n",
      "Now retrieving city #377: pafos\n",
      "Now retrieving city #378: vestmannaeyjar\n",
      "Now retrieving city #379: karasjok\n",
      "Now retrieving city #380: yerbogachen\n",
      "Now retrieving city #381: meyungs\n",
      "City not found. Skipping...\n",
      "Now retrieving city #382: leh\n",
      "Now retrieving city #383: santo antonio do ica\n",
      "Now retrieving city #384: georgetown\n",
      "Now retrieving city #385: ometepec\n",
      "Now retrieving city #386: maraba\n",
      "Now retrieving city #387: souillac\n",
      "Now retrieving city #388: yuzhnyy\n",
      "Now retrieving city #389: grindavik\n",
      "Now retrieving city #390: dongsheng\n",
      "Now retrieving city #391: pimentel\n",
      "Now retrieving city #392: basoko\n",
      "Now retrieving city #393: aberdeen\n",
      "Now retrieving city #394: vrangel\n",
      "Now retrieving city #395: omboue\n",
      "Now retrieving city #396: staicele\n",
      "Now retrieving city #397: quatre cocos\n",
      "Now retrieving city #398: kandrian\n",
      "Now retrieving city #399: jacmel\n",
      "Now retrieving city #400: meulaboh\n",
      "Now retrieving city #401: saint-philippe\n",
      "Now retrieving city #402: lethem\n",
      "Now retrieving city #403: ndioum\n",
      "Now retrieving city #404: filingue\n",
      "Now retrieving city #405: sorland\n",
      "Now retrieving city #406: petropavlovsk-kamchatskiy\n",
      "Now retrieving city #407: olds\n",
      "Now retrieving city #408: matiri\n",
      "Now retrieving city #409: sorong\n",
      "Now retrieving city #410: kunya\n",
      "Now retrieving city #411: college\n",
      "Now retrieving city #412: kazalinsk\n",
      "City not found. Skipping...\n",
      "Now retrieving city #413: lucera\n",
      "Now retrieving city #414: ancud\n",
      "Now retrieving city #415: fort nelson\n",
      "Now retrieving city #416: bilibino\n",
      "Now retrieving city #417: mogwase\n",
      "Now retrieving city #418: jakar\n",
      "Now retrieving city #419: xiaoweizhai\n",
      "Now retrieving city #420: yumen\n",
      "Now retrieving city #421: sao joao da barra\n",
      "Now retrieving city #422: acapulco\n",
      "Now retrieving city #423: llangefni\n",
      "Now retrieving city #424: mabai\n",
      "Now retrieving city #425: matamoros\n",
      "Now retrieving city #426: zyryanskoye\n",
      "Now retrieving city #427: vardo\n",
      "Now retrieving city #428: caborca\n",
      "Now retrieving city #429: jackson\n",
      "Now retrieving city #430: kinango\n",
      "Now retrieving city #431: talara\n",
      "Now retrieving city #432: lolua\n",
      "City not found. Skipping...\n",
      "Now retrieving city #433: moscow\n",
      "Now retrieving city #434: inuvik\n",
      "Now retrieving city #435: cockburn town\n",
      "Now retrieving city #436: flin flon\n",
      "Now retrieving city #437: wonthaggi\n",
      "Now retrieving city #438: nouadhibou\n",
      "Now retrieving city #439: santo tomas\n"
     ]
    },
    {
     "name": "stdout",
     "output_type": "stream",
     "text": [
      "Now retrieving city #440: mucurapo\n",
      "Now retrieving city #441: graaff-reinet\n",
      "Now retrieving city #442: nyurba\n",
      "Now retrieving city #443: port-cartier\n",
      "Now retrieving city #444: onufriyivka\n",
      "Now retrieving city #445: lakeway\n",
      "Now retrieving city #446: bambous virieux\n",
      "Now retrieving city #447: caravelas\n",
      "Now retrieving city #448: cap-aux-meules\n",
      "Now retrieving city #449: kayerkan\n",
      "Now retrieving city #450: tabou\n",
      "Now retrieving city #451: nova olimpia\n",
      "Now retrieving city #452: peace river\n",
      "Now retrieving city #453: falealupo\n",
      "City not found. Skipping...\n",
      "Now retrieving city #454: brigantine\n",
      "Now retrieving city #455: one hundred mile house\n",
      "City not found. Skipping...\n",
      "Now retrieving city #456: zheshart\n",
      "Now retrieving city #457: port hawkesbury\n",
      "Now retrieving city #458: banyo\n",
      "Now retrieving city #459: miri\n",
      "Now retrieving city #460: sokoni\n",
      "Now retrieving city #461: ous\n",
      "Now retrieving city #462: tuy hoa\n",
      "Now retrieving city #463: muncar\n",
      "Now retrieving city #464: ronne\n",
      "Now retrieving city #465: morondava\n",
      "Now retrieving city #466: lindsay\n",
      "Now retrieving city #467: iguguno\n",
      "Now retrieving city #468: sao miguel do araguaia\n",
      "Now retrieving city #469: xuddur\n",
      "Now retrieving city #470: pangnirtung\n",
      "Now retrieving city #471: seoul\n",
      "Now retrieving city #472: ocampo\n",
      "Now retrieving city #473: gilbues\n",
      "Now retrieving city #474: zhigansk\n",
      "Now retrieving city #475: sangar\n",
      "Now retrieving city #476: kasongo-lunda\n",
      "Now retrieving city #477: tasbuget\n",
      "City not found. Skipping...\n",
      "Now retrieving city #478: namibe\n",
      "Now retrieving city #479: mullingar\n",
      "Now retrieving city #480: saint anthony\n",
      "Now retrieving city #481: washougal\n",
      "Now retrieving city #482: namtsy\n",
      "Now retrieving city #483: aloleng\n",
      "Now retrieving city #484: sembe\n",
      "Now retrieving city #485: severo-yeniseyskiy\n",
      "Now retrieving city #486: manzanillo\n",
      "Now retrieving city #487: puerto escondido\n",
      "Now retrieving city #488: diamantino\n",
      "Now retrieving city #489: zhezkazgan\n",
      "Now retrieving city #490: jiddah\n",
      "City not found. Skipping...\n",
      "Now retrieving city #491: mlonggo\n",
      "Now retrieving city #492: mezhdurechenskiy\n",
      "Now retrieving city #493: akyab\n",
      "Now retrieving city #494: shache\n",
      "Now retrieving city #495: banda aceh\n",
      "Now retrieving city #496: lusambo\n",
      "Now retrieving city #497: havre-saint-pierre\n",
      "Now retrieving city #498: trorod\n",
      "Now retrieving city #499: batagay\n",
      "Now retrieving city #500: tual\n",
      "Now retrieving city #501: laguna\n",
      "Now retrieving city #502: anadyr\n",
      "Now retrieving city #503: storm lake\n",
      "Now retrieving city #504: gurupi\n",
      "Now retrieving city #505: honiara\n",
      "Now retrieving city #506: paramonga\n",
      "Now retrieving city #507: broken hill\n",
      "Now retrieving city #508: sao francisco\n",
      "Now retrieving city #509: henderson\n",
      "Now retrieving city #510: natal\n",
      "Now retrieving city #511: praia da vitoria\n",
      "Now retrieving city #512: pasighat\n",
      "Now retrieving city #513: virden\n",
      "Now retrieving city #514: mount gambier\n",
      "Now retrieving city #515: jalu\n",
      "Now retrieving city #516: nguru\n",
      "Now retrieving city #517: santiago del estero\n",
      "Now retrieving city #518: chicama\n",
      "Now retrieving city #519: matozinhos\n",
      "Now retrieving city #520: santa rita\n",
      "Now retrieving city #521: harer\n",
      "Now retrieving city #522: shingu\n",
      "Now retrieving city #523: toliary\n",
      "City not found. Skipping...\n",
      "Now retrieving city #524: algiers\n",
      "Now retrieving city #525: yankton\n",
      "Now retrieving city #526: nemuro\n",
      "Now retrieving city #527: burkhala\n",
      "City not found. Skipping...\n",
      "Now retrieving city #528: conway\n",
      "Now retrieving city #529: port said\n",
      "Now retrieving city #530: mecca\n",
      "Now retrieving city #531: hampton\n",
      "Now retrieving city #532: san cristobal\n",
      "Now retrieving city #533: qena\n",
      "Now retrieving city #534: nurota\n",
      "Now retrieving city #535: sawankhalok\n",
      "Now retrieving city #536: cayenne\n",
      "Now retrieving city #537: kalmunai\n",
      "Now retrieving city #538: tomigusuku\n",
      "Now retrieving city #539: vilcun\n",
      "Now retrieving city #540: padampur\n",
      "Now retrieving city #541: west richland\n",
      "Now retrieving city #542: aksu\n",
      "Now retrieving city #543: gravdal\n",
      "Now retrieving city #544: filadelfia\n",
      "Now retrieving city #545: colares\n",
      "Now retrieving city #546: okha\n",
      "Now retrieving city #547: wulanhaote\n",
      "City not found. Skipping...\n",
      "Now retrieving city #548: te anau\n",
      "Now retrieving city #549: sinkat\n",
      "City not found. Skipping...\n",
      "Now retrieving city #550: luangwa\n",
      "Now retrieving city #551: camacha\n",
      "Now retrieving city #552: gorno-chuyskiy\n",
      "City not found. Skipping...\n",
      "Now retrieving city #553: amazar\n",
      "Now retrieving city #554: ishigaki\n",
      "Now retrieving city #555: yatou\n",
      "Now retrieving city #556: vao\n",
      "Now retrieving city #557: fairbanks\n",
      "Now retrieving city #558: coolum beach\n",
      "Now retrieving city #559: el tigre\n",
      "Now retrieving city #560: nishihara\n",
      "Now retrieving city #561: tabuk\n",
      "Now retrieving city #562: iqaluit\n",
      "Now retrieving city #563: koutsouras\n",
      "Now retrieving city #564: korla\n",
      "Now retrieving city #565: doembang nangbuat\n",
      "Now retrieving city #566: saint-augustin\n",
      "Now retrieving city #567: log\n",
      "Now retrieving city #568: cap malheureux\n",
      "Now retrieving city #569: deoli\n",
      "Now retrieving city #570: bairiki\n",
      "Now retrieving city #571: pedernales\n",
      "Now retrieving city #572: bangkalan\n",
      "Now retrieving city #573: nsoko\n",
      "Now retrieving city #574: ranong\n",
      "Now retrieving city #575: shasta lake\n",
      "Now retrieving city #576: beboto\n",
      "Now retrieving city #577: bambanglipuro\n",
      "Now retrieving city #578: sistranda\n",
      "Now retrieving city #579: nhulunbuy\n",
      "Now retrieving city #580: vallenar\n",
      "Now retrieving city #581: kamaishi\n",
      "Now retrieving city #582: ambilobe\n"
     ]
    }
   ],
   "source": [
    "# Create column headers for city, cloudiness, country,\n",
    "# date, humidity, lat, lng, max temp, and wind speed                                                                      \n",
    "\n",
    "cities_df[\"Cloudiness\"]=\"\"\n",
    "cities_df[\"Country\"]=\"\"\n",
    "cities_df[\"Date\"]=\"\"\n",
    "cities_df[\"Humidity\"]=\"\"\n",
    "cities_df[\"Lat\"]=\"\"\n",
    "cities_df[\"Lng\"]=\"\"\n",
    "cities_df[\"Max Temp\"] =\"\"\n",
    "cities_df[\"Wind Speed\"]=\"\"\n",
    "\n",
    "#http://api.openweathermap.org/data/2.5/forecast?id=524901&APPID={APIKEY}\n",
    "\n",
    "# Create counter and set to zero\n",
    "row_count = 0\n",
    "\n",
    "# Call API openweather and gather data for cities\n",
    "for index, row in cities_df.iterrows():\n",
    "    \n",
    "    # Create dictionary of parameters\n",
    "    params = {\n",
    "    \"q\": cities_df.loc[index][\"City\"],\n",
    "    \"units\": \"IMPERIAL\",\n",
    "    \"mode\": \"json\",\n",
    "    \"appid\": weather_api_key}\n",
    "    \n",
    "    #API url\n",
    "    base_url = \"http://api.openweathermap.org/data/2.5/weather?\"\n",
    "\n",
    "    # Print city name and city count\n",
    "    print(\"Now retrieving city #%s: %s\" % (row_count, cities_df.loc[index][\"City\"]))\n",
    "    row_count += 1 \n",
    "    \n",
    "    # Capture data for cities\n",
    "    data = requests.get(base_url, params=params).json()\n",
    "    try:\n",
    "        \n",
    "        cloud = data['clouds']['all']\n",
    "        country = data[\"sys\"][\"country\"]\n",
    "        date = data[\"dt\"]\n",
    "        humidity = data['main']['humidity']\n",
    "        lat = data[\"coord\"][\"lat\"]\n",
    "        long = data[\"coord\"][\"lon\"]\n",
    "        max_temp = data[\"main\"][\"temp_max\"]\n",
    "        city_wind = data['wind']['speed']\n",
    "       \n",
    "        cities_df.set_value(index, \"Cloudiness\", cloud)\n",
    "        cities_df.set_value(index, \"Country\", country)\n",
    "        cities_df.set_value(index, \"Date\", date)\n",
    "        cities_df.set_value(index, \"Humidity\", humidity)\n",
    "        cities_df.set_value(index, \"Lat\", lat)\n",
    "        cities_df.set_value(index, \"Lng\", long)\n",
    "        cities_df.set_value(index, \"Max Temp\", max_temp)\n",
    "        cities_df.set_value(index, \"Wind Speed\", city_wind)\n",
    "        \n",
    "    # Print statement if city is not found    \n",
    "    except:\n",
    "        print(\"City not found. Skipping...\")\n",
    "        continue \n",
    "    \n"
   ]
  },
  {
   "cell_type": "markdown",
   "metadata": {},
   "source": [
    "### Convert Raw Data to DataFrame\n",
    "* Export the city data into a .csv.\n",
    "* Display the DataFrame"
   ]
  },
  {
   "cell_type": "code",
   "execution_count": 5,
   "metadata": {},
   "outputs": [
    {
     "data": {
      "text/plain": [
       "City          583\n",
       "Cloudiness    583\n",
       "Country       583\n",
       "Date          583\n",
       "Humidity      583\n",
       "Lat           583\n",
       "Lng           583\n",
       "Max Temp      583\n",
       "Wind Speed    583\n",
       "dtype: int64"
      ]
     },
     "execution_count": 5,
     "metadata": {},
     "output_type": "execute_result"
    }
   ],
   "source": [
    "# Save the dataframe to designated output file as a csv\n",
    "cities_df.to_csv(output_data_file, encoding=\"utf-8\", index=False)\n",
    "# Cities and corresponding data count\n",
    "cities_df.count()\n"
   ]
  },
  {
   "cell_type": "code",
   "execution_count": 6,
   "metadata": {},
   "outputs": [
    {
     "data": {
      "text/html": [
       "<div>\n",
       "<style scoped>\n",
       "    .dataframe tbody tr th:only-of-type {\n",
       "        vertical-align: middle;\n",
       "    }\n",
       "\n",
       "    .dataframe tbody tr th {\n",
       "        vertical-align: top;\n",
       "    }\n",
       "\n",
       "    .dataframe thead th {\n",
       "        text-align: right;\n",
       "    }\n",
       "</style>\n",
       "<table border=\"1\" class=\"dataframe\">\n",
       "  <thead>\n",
       "    <tr style=\"text-align: right;\">\n",
       "      <th></th>\n",
       "      <th>City</th>\n",
       "      <th>Cloudiness</th>\n",
       "      <th>Country</th>\n",
       "      <th>Date</th>\n",
       "      <th>Humidity</th>\n",
       "      <th>Lat</th>\n",
       "      <th>Lng</th>\n",
       "      <th>Max Temp</th>\n",
       "      <th>Wind Speed</th>\n",
       "    </tr>\n",
       "  </thead>\n",
       "  <tbody>\n",
       "    <tr>\n",
       "      <td>0</td>\n",
       "      <td>atuona</td>\n",
       "      <td>2</td>\n",
       "      <td>PF</td>\n",
       "      <td>1585008293</td>\n",
       "      <td>76</td>\n",
       "      <td>-9.8</td>\n",
       "      <td>-139.03</td>\n",
       "      <td>82.49</td>\n",
       "      <td>10.94</td>\n",
       "    </tr>\n",
       "    <tr>\n",
       "      <td>1</td>\n",
       "      <td>karaul</td>\n",
       "      <td></td>\n",
       "      <td></td>\n",
       "      <td></td>\n",
       "      <td></td>\n",
       "      <td></td>\n",
       "      <td></td>\n",
       "      <td></td>\n",
       "      <td></td>\n",
       "    </tr>\n",
       "    <tr>\n",
       "      <td>2</td>\n",
       "      <td>pochutla</td>\n",
       "      <td>40</td>\n",
       "      <td>MX</td>\n",
       "      <td>1585008293</td>\n",
       "      <td>62</td>\n",
       "      <td>15.74</td>\n",
       "      <td>-96.47</td>\n",
       "      <td>86</td>\n",
       "      <td>11.41</td>\n",
       "    </tr>\n",
       "    <tr>\n",
       "      <td>3</td>\n",
       "      <td>thompson</td>\n",
       "      <td>75</td>\n",
       "      <td>CA</td>\n",
       "      <td>1585008293</td>\n",
       "      <td>46</td>\n",
       "      <td>55.74</td>\n",
       "      <td>-97.86</td>\n",
       "      <td>28.4</td>\n",
       "      <td>4.7</td>\n",
       "    </tr>\n",
       "    <tr>\n",
       "      <td>4</td>\n",
       "      <td>amderma</td>\n",
       "      <td></td>\n",
       "      <td></td>\n",
       "      <td></td>\n",
       "      <td></td>\n",
       "      <td></td>\n",
       "      <td></td>\n",
       "      <td></td>\n",
       "      <td></td>\n",
       "    </tr>\n",
       "  </tbody>\n",
       "</table>\n",
       "</div>"
      ],
      "text/plain": [
       "       City Cloudiness Country        Date Humidity    Lat     Lng Max Temp  \\\n",
       "0    atuona          2      PF  1585008293       76   -9.8 -139.03    82.49   \n",
       "1    karaul                                                                   \n",
       "2  pochutla         40      MX  1585008293       62  15.74  -96.47       86   \n",
       "3  thompson         75      CA  1585008293       46  55.74  -97.86     28.4   \n",
       "4   amderma                                                                   \n",
       "\n",
       "  Wind Speed  \n",
       "0      10.94  \n",
       "1             \n",
       "2      11.41  \n",
       "3        4.7  \n",
       "4             "
      ]
     },
     "execution_count": 6,
     "metadata": {},
     "output_type": "execute_result"
    }
   ],
   "source": [
    "# Print sample of cities dataframe\n",
    "cities_df.head()"
   ]
  },
  {
   "cell_type": "markdown",
   "metadata": {},
   "source": [
    "### Plotting the Data\n",
    "* Use proper labeling of the plots using plot titles (including date of analysis) and axes labels.\n",
    "* Save the plotted figures as .pngs."
   ]
  },
  {
   "cell_type": "markdown",
   "metadata": {},
   "source": [
    "#### Latitude vs. Temperature Plot"
   ]
  },
  {
   "cell_type": "code",
   "execution_count": 7,
   "metadata": {
    "scrolled": true
   },
   "outputs": [
    {
     "data": {
      "image/png": "[encoded data removed]",
      "text/plain": [
       "<Figure size 432x288 with 1 Axes>"
      ]
     },
     "metadata": {
      "needs_background": "light"
     },
     "output_type": "display_data"
    },
    {
     "name": "stdout",
     "output_type": "stream",
     "text": [
      "Temps are highest at prime meridian.\n"
     ]
    }
   ],
   "source": [
    "# read new data\n",
    "data_df = pd.read_csv(output_data_file)\n",
    "# Capture unix time stamp and convert to date\n",
    "date_unix = data_df.iloc[0,3]\n",
    "date = time.strftime(\"%D\", time.localtime(int(date_unix)))\n",
    "\n",
    "#date = time.strftime(\"%D %H:%M\", time.localtime(int(date_unix)))\n",
    "\n",
    "# Define x and y axis\n",
    "x_axis = data_df[\"Lat\"]\n",
    "y_axis = data_df[\"Max Temp\"]\n",
    "\n",
    "x = x_axis\n",
    "y = y_axis\n",
    "\n",
    "# Set plot limits and show grid\n",
    "plt.grid(True)\n",
    "plt.xlim([-60, 90])\n",
    "plt.ylim([-40, 125])\n",
    "# Set plot title and label x and y axis\n",
    "plt.title(f'City Latitude vs. Max Temperature ({date})')\n",
    "plt.xlabel('Latitude')\n",
    "plt.ylabel('Max Temperature (F)')\n",
    "plt.scatter(x, y)\n",
    "# Save plot to file\n",
    "plt.savefig('City_Lat_vs_Max_Temp.png')\n",
    "# plot to screen\n",
    "plt.show()\n",
    "print(\"Temps are highest at prime meridian.\")"
   ]
  },
  {
   "cell_type": "markdown",
   "metadata": {},
   "source": [
    "#### Latitude vs. Humidity Plot"
   ]
  },
  {
   "cell_type": "code",
   "execution_count": 8,
   "metadata": {},
   "outputs": [
    {
     "data": {
      "image/png": "[encoded data removed]",
      "text/plain": [
       "<Figure size 432x288 with 1 Axes>"
      ]
     },
     "metadata": {
      "needs_background": "light"
     },
     "output_type": "display_data"
    },
    {
     "name": "stdout",
     "output_type": "stream",
     "text": [
      "Majority of cities have humidity gretaer than 60%\n"
     ]
    }
   ],
   "source": [
    "# Capture unix time stamp and convert to date\n",
    "date_unix = data_df.iloc[0,3]\n",
    "date = time.strftime(\"%D\", time.localtime(int(date_unix)))\n",
    "\n",
    "#date = time.strftime(\"%D %H:%M\", time.localtime(int(date_unix)))\n",
    "\n",
    "# Define x and y axis\n",
    "x_axis = data_df[\"Lat\"]\n",
    "y_axis = data_df[\"Humidity\"]\n",
    "\n",
    "x = x_axis\n",
    "y = y_axis\n",
    "# Set plot limits and show gridlines\n",
    "plt.grid(True)\n",
    "plt.xlim([-60, 90])\n",
    "plt.ylim([0, 150])\n",
    "# Set plot title and label x and y axis\n",
    "plt.title(f'City Latitude vs. Humidity ({date})')\n",
    "plt.xlabel('Latitude')\n",
    "plt.ylabel('Humidity (%)')\n",
    "plt.scatter(x, y)\n",
    "# Save plot to file\n",
    "plt.savefig('City_Lat_vs_Humidity.png')\n",
    "# plot to screen\n",
    "plt.show()\n",
    "print(\"Majority of cities have humidity gretaer than 60%\")"
   ]
  },
  {
   "cell_type": "markdown",
   "metadata": {},
   "source": [
    "#### Latitude vs. Cloudiness Plot"
   ]
  },
  {
   "cell_type": "code",
   "execution_count": 9,
   "metadata": {},
   "outputs": [
    {
     "data": {
      "image/png": "[encoded data removed]",
      "text/plain": [
       "<Figure size 432x288 with 1 Axes>"
      ]
     },
     "metadata": {
      "needs_background": "light"
     },
     "output_type": "display_data"
    },
    {
     "name": "stdout",
     "output_type": "stream",
     "text": [
      "Cloudiness is evenly distributed\n"
     ]
    }
   ],
   "source": [
    "# Capture unix time stamp and convert to date\n",
    "date_unix = data_df.iloc[0,3]\n",
    "date = time.strftime(\"%D\", time.localtime(int(date_unix)))\n",
    "\n",
    "#date = time.strftime(\"%D %H:%M\", time.localtime(int(date_unix)))\n",
    "\n",
    "# Define x and y axis\n",
    "x_axis = data_df[\"Lat\"]\n",
    "y_axis = data_df[\"Cloudiness\"]\n",
    "\n",
    "x = x_axis\n",
    "y = y_axis\n",
    "# Set plot limits and show gridlines\n",
    "plt.grid(True)\n",
    "plt.xlim([-60, 90])\n",
    "plt.ylim([-20, 125])\n",
    "# Set plot title and label x and y axis\n",
    "plt.title(f'City Latitude vs. Cloudiness ({date})')\n",
    "plt.xlabel('Latitude')\n",
    "plt.ylabel('Cloudiness (%)')\n",
    "plt.scatter(x, y)\n",
    "# Save plot to a file\n",
    "plt.savefig('City_Lat_vs_Cloudiness.png')\n",
    "# Plot to screen\n",
    "plt.show()\n",
    "print(\"Cloudiness is evenly distributed\")"
   ]
  },
  {
   "cell_type": "markdown",
   "metadata": {},
   "source": [
    "#### Latitude vs. Wind Speed Plot"
   ]
  },
  {
   "cell_type": "code",
   "execution_count": 10,
   "metadata": {},
   "outputs": [
    {
     "data": {
      "image/png": "[encoded data removed]",
      "text/plain": [
       "<Figure size 432x288 with 1 Axes>"
      ]
     },
     "metadata": {
      "needs_background": "light"
     },
     "output_type": "display_data"
    },
    {
     "name": "stdout",
     "output_type": "stream",
     "text": [
      "For the majority of cities the wind speed is 0 to 15mph\n"
     ]
    }
   ],
   "source": [
    "# Capture unix time stamp and convert to date\n",
    "date_unix = data_df.iloc[0,3]\n",
    "date = time.strftime(\"%D\", time.localtime(int(date_unix)))\n",
    "\n",
    "#date = time.strftime(\"%D %H:%M\", time.localtime(int(date_unix)))\n",
    "\n",
    "# Define x and y axis\n",
    "x_axis = data_df[\"Lat\"]\n",
    "y_axis = data_df[\"Wind Speed\"]\n",
    "\n",
    "x = x_axis\n",
    "y = y_axis\n",
    "# Set plot limits and show gridlines\n",
    "plt.grid(True)\n",
    "plt.xlim([-60, 90])\n",
    "plt.ylim([-10, 50])\n",
    "# Set plot title and label x and y axis\n",
    "plt.title(f'City Latitude vs. Wind Speed ({date})')\n",
    "plt.xlabel('Latitude')\n",
    "plt.ylabel('Wind Speed (mph)')\n",
    "plt.scatter(x, y)\n",
    "# Save plot to a file\n",
    "plt.savefig('City_Lat_vs_Wind Speed.png')\n",
    "# Plot to screen\n",
    "plt.show()\n",
    "print(\"For the majority of cities the wind speed is 0 to 15mph\")"
   ]
  },
  {
   "cell_type": "markdown",
   "metadata": {},
   "source": [
    "## Linear Regression"
   ]
  },
  {
   "cell_type": "code",
   "execution_count": 11,
   "metadata": {},
   "outputs": [],
   "source": [
    "# OPTIONAL: Create a function to create Linear Regression plots\n"
   ]
  },
  {
   "cell_type": "code",
   "execution_count": 12,
   "metadata": {},
   "outputs": [],
   "source": [
    "# Create Northern and Southern Hemisphere DataFrames\n",
    "\n",
    "nh_df = data_df[data_df.Lat>=0]\n",
    "sh_df = data_df[data_df.Lat<0]\n"
   ]
  },
  {
   "cell_type": "markdown",
   "metadata": {},
   "source": [
    "####  Northern Hemisphere - Max Temp vs. Latitude Linear Regression"
   ]
  },
  {
   "cell_type": "code",
   "execution_count": 13,
   "metadata": {},
   "outputs": [
    {
     "name": "stdout",
     "output_type": "stream",
     "text": [
      "The r-squared is: -0.886062150129707\n"
     ]
    },
    {
     "data": {
      "image/png": "[encoded data removed]",
      "text/plain": [
       "<Figure size 432x288 with 1 Axes>"
      ]
     },
     "metadata": {
      "needs_background": "light"
     },
     "output_type": "display_data"
    },
    {
     "name": "stdout",
     "output_type": "stream",
     "text": [
      "The regression predictions are a strong approximation of the real data.\n"
     ]
    }
   ],
   "source": [
    "# Print out the r-squared value along with the plot.\n",
    "# Define x and y axis\n",
    "x_values = nh_df['Max Temp']\n",
    "y_values = nh_df['Lat']\n",
    "\n",
    "(slope, intercept, rvalue, pvalue, stderr) = linregress(x_values, y_values)\n",
    "# Regression points\n",
    "regress_values = x_values * slope + intercept\n",
    "# Slope intercept formula\n",
    "line_eq = \"y = \" + str(round(slope,2)) + \"x + \" + str(round(intercept,2))\n",
    "plt.scatter(x_values,y_values)\n",
    "plt.plot(x_values,regress_values,\"r-\")\n",
    "plt.annotate(line_eq,(6,10),fontsize=15,color=\"red\")\n",
    "plt.xlabel('Latitude')\n",
    "plt.ylabel('Max Temp')\n",
    "print(f\"The r-squared is: {rvalue}\")\n",
    "# Save plot to file\n",
    "plt.savefig('NH_Max_Temp_vs_Lat_LR.png')\n",
    "plt.show()\n",
    "print(\"The regression predictions are a strong approximation of the real data.\")"
   ]
  },
  {
   "cell_type": "markdown",
   "metadata": {},
   "source": [
    "####  Southern Hemisphere - Max Temp vs. Latitude Linear Regression"
   ]
  },
  {
   "cell_type": "code",
   "execution_count": 14,
   "metadata": {},
   "outputs": [
    {
     "name": "stdout",
     "output_type": "stream",
     "text": [
      "The r-squared is: 0.6577738286230264\n"
     ]
    },
    {
     "data": {
      "image/png": "[encoded data removed]",
      "text/plain": [
       "<Figure size 432x288 with 1 Axes>"
      ]
     },
     "metadata": {
      "needs_background": "light"
     },
     "output_type": "display_data"
    },
    {
     "name": "stdout",
     "output_type": "stream",
     "text": [
      "The regression predictions are a moderate approximation of the real data.\n"
     ]
    }
   ],
   "source": [
    "# Print out the r-squared value along with the plot.\n",
    "# Define x and y axis\n",
    "x_values = sh_df['Max Temp']\n",
    "y_values = sh_df['Lat']\n",
    "(slope, intercept, rvalue, pvalue, stderr) = linregress(x_values, y_values)\n",
    "# Regression points\n",
    "regress_values = x_values * slope + intercept\n",
    "# Slope intercept formula\n",
    "line_eq = \"y = \" + str(round(slope,2)) + \"x + \" + str(round(intercept,2))\n",
    "plt.scatter(x_values,y_values)\n",
    "plt.plot(x_values,regress_values,\"r-\")\n",
    "plt.annotate(line_eq,(6,10),fontsize=15,color=\"red\")\n",
    "plt.xlabel('Latitude')\n",
    "plt.ylabel('Max Temp')\n",
    "print(f\"The r-squared is: {rvalue}\")\n",
    "# Save plot to file\n",
    "plt.savefig('SH_Max_Temp_vs_Lat_LR.png')\n",
    "plt.show()\n",
    "print(\"The regression predictions are a moderate approximation of the real data.\")"
   ]
  },
  {
   "cell_type": "markdown",
   "metadata": {},
   "source": [
    "####  Northern Hemisphere - Humidity (%) vs. Latitude Linear Regression"
   ]
  },
  {
   "cell_type": "code",
   "execution_count": 15,
   "metadata": {},
   "outputs": [
    {
     "name": "stdout",
     "output_type": "stream",
     "text": [
      "The r-squared is: 0.1952401182045235\n"
     ]
    },
    {
     "data": {
      "image/png": "[encoded data removed]",
      "text/plain": [
       "<Figure size 432x288 with 1 Axes>"
      ]
     },
     "metadata": {
      "needs_background": "light"
     },
     "output_type": "display_data"
    },
    {
     "name": "stdout",
     "output_type": "stream",
     "text": [
      "The regression predictions are a poor approximation of the real data.\n"
     ]
    }
   ],
   "source": [
    "# Print out the r-squared value along with the plot.\n",
    "# Define x and y values\n",
    "x_values = nh_df['Humidity']\n",
    "y_values = nh_df['Lat']\n",
    "(slope, intercept, rvalue, pvalue, stderr) = linregress(x_values, y_values)\n",
    "# Regression points\n",
    "regress_values = x_values * slope + intercept\n",
    "# Slope intercept formula\n",
    "line_eq = \"y = \" + str(round(slope,2)) + \"x + \" + str(round(intercept,2))\n",
    "plt.scatter(x_values,y_values)\n",
    "plt.plot(x_values,regress_values,\"r-\")\n",
    "plt.annotate(line_eq,(6,10),fontsize=15,color=\"red\")\n",
    "plt.xlabel('Latitude')\n",
    "plt.ylabel('Max Temp')\n",
    "print(f\"The r-squared is: {rvalue}\")\n",
    "# Save plot to a file\n",
    "plt.savefig('NH_Humidity_vs_Lat_LR.png')\n",
    "plt.show()\n",
    "print(\"The regression predictions are a poor approximation of the real data.\")"
   ]
  },
  {
   "cell_type": "markdown",
   "metadata": {},
   "source": [
    "####  Southern Hemisphere - Humidity (%) vs. Latitude Linear Regression"
   ]
  },
  {
   "cell_type": "code",
   "execution_count": 16,
   "metadata": {},
   "outputs": [
    {
     "name": "stdout",
     "output_type": "stream",
     "text": [
      "The r-squared is: 0.2231433430022854\n"
     ]
    },
    {
     "data": {
      "image/png": "[encoded data removed]",
      "text/plain": [
       "<Figure size 432x288 with 1 Axes>"
      ]
     },
     "metadata": {
      "needs_background": "light"
     },
     "output_type": "display_data"
    },
    {
     "name": "stdout",
     "output_type": "stream",
     "text": [
      "The regression predictions are a poor approximation of the real data.\n"
     ]
    }
   ],
   "source": [
    "# Print out the r-squared value along with the plot.\n",
    "# Define x and y axis\n",
    "x_values = sh_df['Humidity']\n",
    "y_values = sh_df['Lat']\n",
    "(slope, intercept, rvalue, pvalue, stderr) = linregress(x_values, y_values)\n",
    "# Regression points\n",
    "regress_values = x_values * slope + intercept\n",
    "# Slope intercept formula\n",
    "line_eq = \"y = \" + str(round(slope,2)) + \"x + \" + str(round(intercept,2))\n",
    "plt.scatter(x_values,y_values)\n",
    "plt.plot(x_values,regress_values,\"r-\")\n",
    "plt.annotate(line_eq,(6,10),fontsize=15,color=\"red\")\n",
    "plt.xlabel('Latitude')\n",
    "plt.ylabel('Max Temp')\n",
    "print(f\"The r-squared is: {rvalue}\")\n",
    "# Save plot to a file\n",
    "plt.savefig('SH_Humidity_vs_Lat_LR.png')\n",
    "plt.show()\n",
    "print(\"The regression predictions are a poor approximation of the real data.\")"
   ]
  },
  {
   "cell_type": "markdown",
   "metadata": {},
   "source": [
    "####  Northern Hemisphere - Cloudiness (%) vs. Latitude Linear Regression"
   ]
  },
  {
   "cell_type": "code",
   "execution_count": 17,
   "metadata": {},
   "outputs": [
    {
     "name": "stdout",
     "output_type": "stream",
     "text": [
      "The r-squared is: 0.3203254348184827\n"
     ]
    },
    {
     "data": {
      "image/png": "[encoded data removed]",
      "text/plain": [
       "<Figure size 432x288 with 1 Axes>"
      ]
     },
     "metadata": {
      "needs_background": "light"
     },
     "output_type": "display_data"
    },
    {
     "name": "stdout",
     "output_type": "stream",
     "text": [
      "The regression predictions are a poor approximation of the real data.\n"
     ]
    }
   ],
   "source": [
    "# Print out the r-squared value along with the plot.\n",
    "# Define x and y axis\n",
    "x_values = nh_df['Cloudiness']\n",
    "y_values = nh_df['Lat']\n",
    "(slope, intercept, rvalue, pvalue, stderr) = linregress(x_values, y_values)\n",
    "# Regression points\n",
    "regress_values = x_values * slope + intercept\n",
    "# Slope intercept formula\n",
    "line_eq = \"y = \" + str(round(slope,2)) + \"x + \" + str(round(intercept,2))\n",
    "plt.scatter(x_values,y_values)\n",
    "plt.plot(x_values,regress_values,\"r-\")\n",
    "plt.annotate(line_eq,(6,10),fontsize=15,color=\"red\")\n",
    "plt.xlabel('Latitude')\n",
    "plt.ylabel('Max Temp')\n",
    "print(f\"The r-squared is: {rvalue}\")\n",
    "# Save plot to a file\n",
    "plt.savefig('NH_Cloudiness_vs_Lat_LR.png')\n",
    "plt.show()\n",
    "print(\"The regression predictions are a poor approximation of the real data.\")"
   ]
  },
  {
   "cell_type": "markdown",
   "metadata": {},
   "source": [
    "####  Southern Hemisphere - Cloudiness (%) vs. Latitude Linear Regression"
   ]
  },
  {
   "cell_type": "code",
   "execution_count": 18,
   "metadata": {},
   "outputs": [
    {
     "name": "stdout",
     "output_type": "stream",
     "text": [
      "The r-squared is: 0.04898120870098467\n"
     ]
    },
    {
     "data": {
      "image/png": "[encoded data removed]",
      "text/plain": [
       "<Figure size 432x288 with 1 Axes>"
      ]
     },
     "metadata": {
      "needs_background": "light"
     },
     "output_type": "display_data"
    },
    {
     "name": "stdout",
     "output_type": "stream",
     "text": [
      "The regression predictions are a poor approximation of the real data.\n"
     ]
    }
   ],
   "source": [
    "# Print out the r-squared value along with the plot.\n",
    "# Define x and y axis\n",
    "x_values = sh_df['Cloudiness']\n",
    "y_values = sh_df['Lat']\n",
    "(slope, intercept, rvalue, pvalue, stderr) = linregress(x_values, y_values)\n",
    "# Regression points\n",
    "regress_values = x_values * slope + intercept\n",
    "# Slope intercept formula\n",
    "line_eq = \"y = \" + str(round(slope,2)) + \"x + \" + str(round(intercept,2))\n",
    "plt.scatter(x_values,y_values)\n",
    "plt.plot(x_values,regress_values,\"r-\")\n",
    "plt.annotate(line_eq,(6,10),fontsize=15,color=\"red\")\n",
    "plt.xlabel('Latitude')\n",
    "plt.ylabel('Max Temp')\n",
    "print(f\"The r-squared is: {rvalue}\")\n",
    "# Save plot to a file\n",
    "plt.savefig('SH_Cloudiness_vs_Lat_LR.png')\n",
    "plt.show()\n",
    "print(\"The regression predictions are a poor approximation of the real data.\")"
   ]
  },
  {
   "cell_type": "markdown",
   "metadata": {},
   "source": [
    "####  Northern Hemisphere - Wind Speed (mph) vs. Latitude Linear Regression"
   ]
  },
  {
   "cell_type": "code",
   "execution_count": 19,
   "metadata": {},
   "outputs": [
    {
     "name": "stdout",
     "output_type": "stream",
     "text": [
      "The r-squared is: 0.3047102834012446\n"
     ]
    },
    {
     "data": {
      "image/png": "[encoded data removed]",
      "text/plain": [
       "<Figure size 432x288 with 1 Axes>"
      ]
     },
     "metadata": {
      "needs_background": "light"
     },
     "output_type": "display_data"
    },
    {
     "name": "stdout",
     "output_type": "stream",
     "text": [
      "The regression predictions are a poor approximation of the real data.\n"
     ]
    }
   ],
   "source": [
    "# Print out the r-squared value along with the plot.\n",
    "# Define the x and y axis\n",
    "x_values = nh_df['Wind Speed']\n",
    "y_values = nh_df['Lat']\n",
    "(slope, intercept, rvalue, pvalue, stderr) = linregress(x_values, y_values)\n",
    "# Regression points\n",
    "regress_values = x_values * slope + intercept\n",
    "line_eq = \"y = \" + str(round(slope,2)) + \"x + \" + str(round(intercept,2))\n",
    "plt.scatter(x_values,y_values)\n",
    "plt.plot(x_values,regress_values,\"r-\")\n",
    "plt.annotate(line_eq,(6,10),fontsize=15,color=\"red\")\n",
    "plt.xlabel('Latitude')\n",
    "plt.ylabel('Max Temp')\n",
    "print(f\"The r-squared is: {rvalue}\")\n",
    "# Save plot to a file\n",
    "plt.savefig('NH_Wind_Speed_vs_Lat_LR.png')\n",
    "plt.show()\n",
    "print(\"The regression predictions are a poor approximation of the real data.\")"
   ]
  },
  {
   "cell_type": "markdown",
   "metadata": {},
   "source": [
    "####  Southern Hemisphere - Wind Speed (mph) vs. Latitude Linear Regression"
   ]
  },
  {
   "cell_type": "code",
   "execution_count": 20,
   "metadata": {},
   "outputs": [
    {
     "name": "stdout",
     "output_type": "stream",
     "text": [
      "The r-squared is: -0.3510020900823119\n"
     ]
    },
    {
     "data": {
      "image/png": "[encoded data removed]",
      "text/plain": [
       "<Figure size 432x288 with 1 Axes>"
      ]
     },
     "metadata": {
      "needs_background": "light"
     },
     "output_type": "display_data"
    },
    {
     "name": "stdout",
     "output_type": "stream",
     "text": [
      "The regression predictions are a poor approximation of the real data.\n"
     ]
    }
   ],
   "source": [
    "# Print out the r-squared value along with the plot.\n",
    "# Define x and y axis\n",
    "x_values = sh_df['Wind Speed']\n",
    "y_values = sh_df['Lat']\n",
    "(slope, intercept, rvalue, pvalue, stderr) = linregress(x_values, y_values)\n",
    "# Regression points\n",
    "regress_values = x_values * slope + intercept\n",
    "# Slope intercept formula\n",
    "line_eq = \"y = \" + str(round(slope,2)) + \"x + \" + str(round(intercept,2))\n",
    "plt.scatter(x_values,y_values)\n",
    "plt.plot(x_values,regress_values,\"r-\")\n",
    "plt.annotate(line_eq,(6,10),fontsize=15,color=\"red\")\n",
    "plt.xlabel('Latitude')\n",
    "plt.ylabel('Max Temp')\n",
    "print(f\"The r-squared is: {rvalue}\")\n",
    "# Save plot to a file\n",
    "plt.savefig('SH_Wind_Speed_vs_Lat_LR.png')\n",
    "plt.show()\n",
    "print(\"The regression predictions are a poor approximation of the real data.\")"
   ]
  },
  {
   "cell_type": "code",
   "execution_count": null,
   "metadata": {},
   "outputs": [],
   "source": []
  },
  {
   "cell_type": "code",
   "execution_count": null,
   "metadata": {},
   "outputs": [],
   "source": []
  }
 ],
 "metadata": {
  "anaconda-cloud": {},
  "kernel_info": {
   "name": "python3"
  },
  "kernelspec": {
   "display_name": "Python 3",
   "language": "python",
   "name": "python3"
  },
  "language_info": {
   "codemirror_mode": {
    "name": "ipython",
    "version": 3
   },
   "file_extension": ".py",
   "mimetype": "text/x-python",
   "name": "python",
   "nbconvert_exporter": "python",
   "pygments_lexer": "ipython3",
   "version": "3.7.4"
  },
  "latex_envs": {
   "LaTeX_envs_menu_present": true,
   "autoclose": false,
   "autocomplete": true,
   "bibliofile": "biblio.bib",
   "cite_by": "apalike",
   "current_citInitial": 1,
   "eqLabelWithNumbers": true,
   "eqNumInitial": 1,
   "hotkeys": {
    "equation": "Ctrl-E",
    "itemize": "Ctrl-I"
   },
   "labels_anchors": false,
   "latex_user_defs": false,
   "report_style_numbering": false,
   "user_envs_cfg": false
  },
  "nteract": {
   "version": "0.12.3"
  }
 },
 "nbformat": 4,
 "nbformat_minor": 2
}
